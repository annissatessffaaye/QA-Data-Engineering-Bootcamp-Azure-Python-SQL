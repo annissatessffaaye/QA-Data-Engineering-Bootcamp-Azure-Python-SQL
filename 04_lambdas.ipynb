{
  "nbformat": 4,
  "nbformat_minor": 0,
  "metadata": {
    "colab": {
      "name": "04 lambdas.ipynb",
      "provenance": [],
      "collapsed_sections": [],
      "include_colab_link": true
    },
    "kernelspec": {
      "name": "python3",
      "display_name": "Python 3"
    },
    "language_info": {
      "name": "python"
    }
  },
  "cells": [
    {
      "cell_type": "markdown",
      "metadata": {
        "id": "view-in-github",
        "colab_type": "text"
      },
      "source": [
        "<a href=\"https://colab.research.google.com/github/annissatessffaaye/QA-Data-Engineering-Bootcamp-Azure-Python-SQL/blob/main/04_lambdas.ipynb\" target=\"_parent\"><img src=\"https://colab.research.google.com/assets/colab-badge.svg\" alt=\"Open In Colab\"/></a>"
      ]
    },
    {
      "cell_type": "code",
      "metadata": {
        "id": "-momWqlnjPcb"
      },
      "source": [
        "nums = range(10)\n",
        "cities = ['Bengaluru', 'London', 'York', 'Manchester', 'Newcastle', 'Delhi', 'Mumbai', 'Cairo', 'Cape Town', 'Nairobi']\n",
        "data = {\n",
        "    'column1': nums,\n",
        "    'cities': cities\n",
        "}"
      ],
      "execution_count": 1,
      "outputs": []
    },
    {
      "cell_type": "code",
      "metadata": {
        "id": "3g2E5-_uju4q"
      },
      "source": [
        "import pandas as pd\n",
        "df = pd.DataFrame(data)"
      ],
      "execution_count": 2,
      "outputs": []
    },
    {
      "cell_type": "code",
      "metadata": {
        "id": "LU3W6oHzj3v2"
      },
      "source": [
        "# SYNTAX\n",
        "# lambda input_variable : what_to_do_with_the_input_variable\n",
        "mylambda = lambda myvar : myvar*2"
      ],
      "execution_count": 3,
      "outputs": []
    },
    {
      "cell_type": "code",
      "metadata": {
        "colab": {
          "base_uri": "https://localhost:8080/"
        },
        "id": "XUMPX0zikSNR",
        "outputId": "a4da02ab-fb25-4354-a0e2-9a5090c90835"
      },
      "source": [
        "mylambda(42)"
      ],
      "execution_count": 4,
      "outputs": [
        {
          "output_type": "execute_result",
          "data": {
            "text/plain": [
              "84"
            ]
          },
          "metadata": {},
          "execution_count": 4
        }
      ]
    },
    {
      "cell_type": "code",
      "metadata": {
        "id": "uV-ZQT3xkUT6"
      },
      "source": [
        "# Superpower-> reusability \n",
        "def randompower(pow):\n",
        "  return lambda n: n**pow\n",
        "# ACCEPTING 2 variables, and returning a lambda consisting of 2 \n",
        "# variables-> one initialized by function, and other by the user!"
      ],
      "execution_count": 5,
      "outputs": []
    },
    {
      "cell_type": "code",
      "metadata": {
        "id": "p4B8UYGckrXb"
      },
      "source": [
        "square = randompower(2) # this changes-> lambda n,2: n**2\n",
        "cube = randompower(3) # this changes-> lambda n,3 : n**3"
      ],
      "execution_count": 6,
      "outputs": []
    },
    {
      "cell_type": "code",
      "metadata": {
        "colab": {
          "base_uri": "https://localhost:8080/"
        },
        "id": "2t0fTAKik-A-",
        "outputId": "130a9b83-1c5d-4f39-bc6f-bcdc2b83d478"
      },
      "source": [
        "square(9)"
      ],
      "execution_count": 7,
      "outputs": [
        {
          "output_type": "execute_result",
          "data": {
            "text/plain": [
              "81"
            ]
          },
          "metadata": {},
          "execution_count": 7
        }
      ]
    },
    {
      "cell_type": "code",
      "metadata": {
        "colab": {
          "base_uri": "https://localhost:8080/"
        },
        "id": "aepYVUHklIUO",
        "outputId": "5206318a-bfe1-4562-93c0-d46cc9b50894"
      },
      "source": [
        "cube(8)"
      ],
      "execution_count": 8,
      "outputs": [
        {
          "output_type": "execute_result",
          "data": {
            "text/plain": [
              "512"
            ]
          },
          "metadata": {},
          "execution_count": 8
        }
      ]
    },
    {
      "cell_type": "code",
      "metadata": {
        "id": "tAh5xCURlQEJ"
      },
      "source": [
        "# Transformation\n",
        "counter = 0\n",
        "city_dictionary = {}\n",
        "for city in cities:\n",
        "  city_dictionary[city] = counter # London = 1\n",
        "  counter = counter+1 # for next city, incrementing the counter\n",
        "\n"
      ],
      "execution_count": 9,
      "outputs": []
    },
    {
      "cell_type": "code",
      "metadata": {
        "colab": {
          "base_uri": "https://localhost:8080/"
        },
        "id": "D6Q9LFTimJqZ",
        "outputId": "d6d5380c-4fa9-45e2-9d76-14f89fb8e41d"
      },
      "source": [
        "city_dictionary"
      ],
      "execution_count": 10,
      "outputs": [
        {
          "output_type": "execute_result",
          "data": {
            "text/plain": [
              "{'Bengaluru': 0,\n",
              " 'Cairo': 7,\n",
              " 'Cape Town': 8,\n",
              " 'Delhi': 5,\n",
              " 'London': 1,\n",
              " 'Manchester': 3,\n",
              " 'Mumbai': 6,\n",
              " 'Nairobi': 9,\n",
              " 'Newcastle': 4,\n",
              " 'York': 2}"
            ]
          },
          "metadata": {},
          "execution_count": 10
        }
      ]
    },
    {
      "cell_type": "code",
      "metadata": {
        "colab": {
          "base_uri": "https://localhost:8080/",
          "height": 206
        },
        "id": "HOgAiw8hmO6n",
        "outputId": "00e02bea-b91e-4db6-add5-aa6e514b70fb"
      },
      "source": [
        "# WE COULD WRITE A LAMBDA FUNCTION TO TRANSFORM CITY \n",
        "# NAMES INTO NUMBERS!\n",
        "df.head()"
      ],
      "execution_count": 11,
      "outputs": [
        {
          "output_type": "execute_result",
          "data": {
            "text/html": [
              "<div>\n",
              "<style scoped>\n",
              "    .dataframe tbody tr th:only-of-type {\n",
              "        vertical-align: middle;\n",
              "    }\n",
              "\n",
              "    .dataframe tbody tr th {\n",
              "        vertical-align: top;\n",
              "    }\n",
              "\n",
              "    .dataframe thead th {\n",
              "        text-align: right;\n",
              "    }\n",
              "</style>\n",
              "<table border=\"1\" class=\"dataframe\">\n",
              "  <thead>\n",
              "    <tr style=\"text-align: right;\">\n",
              "      <th></th>\n",
              "      <th>column1</th>\n",
              "      <th>cities</th>\n",
              "    </tr>\n",
              "  </thead>\n",
              "  <tbody>\n",
              "    <tr>\n",
              "      <th>0</th>\n",
              "      <td>0</td>\n",
              "      <td>Bengaluru</td>\n",
              "    </tr>\n",
              "    <tr>\n",
              "      <th>1</th>\n",
              "      <td>1</td>\n",
              "      <td>London</td>\n",
              "    </tr>\n",
              "    <tr>\n",
              "      <th>2</th>\n",
              "      <td>2</td>\n",
              "      <td>York</td>\n",
              "    </tr>\n",
              "    <tr>\n",
              "      <th>3</th>\n",
              "      <td>3</td>\n",
              "      <td>Manchester</td>\n",
              "    </tr>\n",
              "    <tr>\n",
              "      <th>4</th>\n",
              "      <td>4</td>\n",
              "      <td>Newcastle</td>\n",
              "    </tr>\n",
              "  </tbody>\n",
              "</table>\n",
              "</div>"
            ],
            "text/plain": [
              "   column1      cities\n",
              "0        0   Bengaluru\n",
              "1        1      London\n",
              "2        2        York\n",
              "3        3  Manchester\n",
              "4        4   Newcastle"
            ]
          },
          "metadata": {},
          "execution_count": 11
        }
      ]
    },
    {
      "cell_type": "code",
      "metadata": {
        "id": "F5_7xAUrmcZo"
      },
      "source": [
        "citynum = lambda city_name: city_dictionary[city_name]\n",
        "df['cities_encoded'] = df['cities'].map(citynum)"
      ],
      "execution_count": 12,
      "outputs": []
    },
    {
      "cell_type": "code",
      "metadata": {
        "colab": {
          "base_uri": "https://localhost:8080/",
          "height": 363
        },
        "id": "z2i6zktcm0Fo",
        "outputId": "0eda971a-e82f-4c34-87c4-352ce65462ca"
      },
      "source": [
        "df.head(10)"
      ],
      "execution_count": 13,
      "outputs": [
        {
          "output_type": "execute_result",
          "data": {
            "text/html": [
              "<div>\n",
              "<style scoped>\n",
              "    .dataframe tbody tr th:only-of-type {\n",
              "        vertical-align: middle;\n",
              "    }\n",
              "\n",
              "    .dataframe tbody tr th {\n",
              "        vertical-align: top;\n",
              "    }\n",
              "\n",
              "    .dataframe thead th {\n",
              "        text-align: right;\n",
              "    }\n",
              "</style>\n",
              "<table border=\"1\" class=\"dataframe\">\n",
              "  <thead>\n",
              "    <tr style=\"text-align: right;\">\n",
              "      <th></th>\n",
              "      <th>column1</th>\n",
              "      <th>cities</th>\n",
              "      <th>cities_encoded</th>\n",
              "    </tr>\n",
              "  </thead>\n",
              "  <tbody>\n",
              "    <tr>\n",
              "      <th>0</th>\n",
              "      <td>0</td>\n",
              "      <td>Bengaluru</td>\n",
              "      <td>0</td>\n",
              "    </tr>\n",
              "    <tr>\n",
              "      <th>1</th>\n",
              "      <td>1</td>\n",
              "      <td>London</td>\n",
              "      <td>1</td>\n",
              "    </tr>\n",
              "    <tr>\n",
              "      <th>2</th>\n",
              "      <td>2</td>\n",
              "      <td>York</td>\n",
              "      <td>2</td>\n",
              "    </tr>\n",
              "    <tr>\n",
              "      <th>3</th>\n",
              "      <td>3</td>\n",
              "      <td>Manchester</td>\n",
              "      <td>3</td>\n",
              "    </tr>\n",
              "    <tr>\n",
              "      <th>4</th>\n",
              "      <td>4</td>\n",
              "      <td>Newcastle</td>\n",
              "      <td>4</td>\n",
              "    </tr>\n",
              "    <tr>\n",
              "      <th>5</th>\n",
              "      <td>5</td>\n",
              "      <td>Delhi</td>\n",
              "      <td>5</td>\n",
              "    </tr>\n",
              "    <tr>\n",
              "      <th>6</th>\n",
              "      <td>6</td>\n",
              "      <td>Mumbai</td>\n",
              "      <td>6</td>\n",
              "    </tr>\n",
              "    <tr>\n",
              "      <th>7</th>\n",
              "      <td>7</td>\n",
              "      <td>Cairo</td>\n",
              "      <td>7</td>\n",
              "    </tr>\n",
              "    <tr>\n",
              "      <th>8</th>\n",
              "      <td>8</td>\n",
              "      <td>Cape Town</td>\n",
              "      <td>8</td>\n",
              "    </tr>\n",
              "    <tr>\n",
              "      <th>9</th>\n",
              "      <td>9</td>\n",
              "      <td>Nairobi</td>\n",
              "      <td>9</td>\n",
              "    </tr>\n",
              "  </tbody>\n",
              "</table>\n",
              "</div>"
            ],
            "text/plain": [
              "   column1      cities  cities_encoded\n",
              "0        0   Bengaluru               0\n",
              "1        1      London               1\n",
              "2        2        York               2\n",
              "3        3  Manchester               3\n",
              "4        4   Newcastle               4\n",
              "5        5       Delhi               5\n",
              "6        6      Mumbai               6\n",
              "7        7       Cairo               7\n",
              "8        8   Cape Town               8\n",
              "9        9     Nairobi               9"
            ]
          },
          "metadata": {},
          "execution_count": 13
        }
      ]
    },
    {
      "cell_type": "code",
      "metadata": {
        "id": "WjeYbpHHm1p5"
      },
      "source": [
        ""
      ],
      "execution_count": null,
      "outputs": []
    }
  ]
}