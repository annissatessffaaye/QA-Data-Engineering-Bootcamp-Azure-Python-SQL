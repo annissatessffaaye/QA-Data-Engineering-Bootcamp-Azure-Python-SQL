{
  "nbformat": 4,
  "nbformat_minor": 0,
  "metadata": {
    "colab": {
      "name": "dfe 001.ipynb",
      "provenance": [],
      "collapsed_sections": [],
      "include_colab_link": true
    },
    "kernelspec": {
      "name": "python3",
      "display_name": "Python 3"
    },
    "language_info": {
      "name": "python"
    }
  },
  "cells": [
    {
      "cell_type": "markdown",
      "metadata": {
        "id": "view-in-github",
        "colab_type": "text"
      },
      "source": [
        "<a href=\"https://colab.research.google.com/github/annissatessffaaye/QAPython/blob/master/dfe_001_advanced_list_comprehension.ipynb\" target=\"_parent\"><img src=\"https://colab.research.google.com/assets/colab-badge.svg\" alt=\"Open In Colab\"/></a>"
      ]
    },
    {
      "cell_type": "code",
      "metadata": {
        "id": "5NidktJcaOY7"
      },
      "source": [
        "# Series and Propagation \n",
        "# 1 2 3 4 5 ? = 6 -> ARITHMETIC \n",
        "# 2 4 8 16 32 ? = 64-> Geometric series \n",
        "# harmonic series, \n",
        "# Temp->\n",
        "# 10(today) 9(yester) 8 (day-before)\n",
        "# tomorrow=? 11, day-after=12... \n",
        "# 10, 8, 9 , 10, 9, 8\n"
      ],
      "execution_count": null,
      "outputs": []
    },
    {
      "cell_type": "code",
      "metadata": {
        "id": "bEycYUKKciPN"
      },
      "source": [
        "# series generated, transformed, converted to same units!\n"
      ],
      "execution_count": null,
      "outputs": []
    },
    {
      "cell_type": "code",
      "metadata": {
        "colab": {
          "base_uri": "https://localhost:8080/"
        },
        "id": "Ktvf3n3Zcohg",
        "outputId": "a0534a3e-c73e-49d0-d712-40af1c01aed5"
      },
      "source": [
        "blah = [10,20,30,40,50]\n",
        "#\n",
        "# result = [11,21,31,41,51]\n",
        "blah2 = []\n",
        "print(blah2)\n",
        "for element in blah:\n",
        "  newresult = element + 1\n",
        "  blah2.append(newresult)\n",
        "  print('****')\n",
        "  print(blah2)\n",
        "\n"
      ],
      "execution_count": null,
      "outputs": [
        {
          "output_type": "stream",
          "name": "stdout",
          "text": [
            "[]\n",
            "****\n",
            "[11]\n",
            "****\n",
            "[11, 21]\n",
            "****\n",
            "[11, 21, 31]\n",
            "****\n",
            "[11, 21, 31, 41]\n",
            "****\n",
            "[11, 21, 31, 41, 51]\n"
          ]
        }
      ]
    },
    {
      "cell_type": "code",
      "metadata": {
        "colab": {
          "base_uri": "https://localhost:8080/"
        },
        "id": "a8Uz59gLdI3Y",
        "outputId": "b2b24e06-1861-4891-98ac-e1f8ea9eba17"
      },
      "source": [
        "a = [1,2,3,4,5]\n",
        "result = []\n",
        "for b in a:\n",
        "  newresult = b*b\n",
        "  result.append(newresult)\n",
        "\n",
        "print(result)\n",
        "  "
      ],
      "execution_count": null,
      "outputs": [
        {
          "output_type": "stream",
          "name": "stdout",
          "text": [
            "[1, 4, 9, 16, 25]\n"
          ]
        }
      ]
    },
    {
      "cell_type": "code",
      "metadata": {
        "colab": {
          "base_uri": "https://localhost:8080/"
        },
        "id": "FJQNzCISe_xe",
        "outputId": "3e3b2a6d-a7a5-4873-82fc-28628fe975ec"
      },
      "source": [
        "a= [1,2,3,4,5]\n",
        "\n",
        "# List COMPREHENSIONS allow US to generate SERIES or create transformations\n",
        "# on top of series!\n",
        "\n",
        "result1 = [element+1 for element in a ]\n",
        "result2 = [element*element for element in a]\n",
        "print(result1)\n",
        "print(result2)"
      ],
      "execution_count": null,
      "outputs": [
        {
          "output_type": "stream",
          "name": "stdout",
          "text": [
            "[2, 3, 4, 5, 6]\n",
            "[1, 4, 9, 16, 25]\n"
          ]
        }
      ]
    },
    {
      "cell_type": "code",
      "metadata": {
        "colab": {
          "base_uri": "https://localhost:8080/"
        },
        "id": "MtsDBMZ_f7C-",
        "outputId": "180ddb10-5a3c-4ed8-ec63-6d967c60ff59"
      },
      "source": [
        "mydata = [10,20,30,40,50]\n",
        "# result = [5,10,15,20,25]\n",
        "\n",
        "result = [int(element/2) for element in mydata]\n",
        "print(result)\n"
      ],
      "execution_count": null,
      "outputs": [
        {
          "output_type": "stream",
          "name": "stdout",
          "text": [
            "[5, 10, 15, 20, 25]\n"
          ]
        }
      ]
    },
    {
      "cell_type": "code",
      "metadata": {
        "colab": {
          "base_uri": "https://localhost:8080/"
        },
        "id": "R3Qa2QwGg-h_",
        "outputId": "6c28d218-8bf4-421b-c350-de9e1ed4aa55"
      },
      "source": [
        "mydata = \"Doctor Who went up the hill to fetch a pint of water.\"\n",
        "bag = []\n",
        "for word in mydata.split(\" \"):\n",
        "  bag.append(word)\n",
        "\n",
        "\n",
        "print(bag)\n",
        "# negative indexing-> right to left \n",
        "print(bag[-2])"
      ],
      "execution_count": null,
      "outputs": [
        {
          "output_type": "stream",
          "name": "stdout",
          "text": [
            "['Doctor', 'Who', 'went', 'up', 'the', 'hill', 'to', 'fetch', 'a', 'pint', 'of', 'water.']\n",
            "of\n"
          ]
        }
      ]
    },
    {
      "cell_type": "code",
      "metadata": {
        "id": "nd5p1txBjUvW"
      },
      "source": [
        "# program to find all even length words in my sentence\n",
        "# doctor, went, up-> even numbered\n",
        "# who, the, a-> odd numbered \n",
        "# 1. Loop in every word of sentence\n",
        "# 2. Calculate the length of every word\n",
        "# 3. if length is even, ONLY then-> append to result "
      ],
      "execution_count": null,
      "outputs": []
    },
    {
      "cell_type": "code",
      "metadata": {
        "colab": {
          "base_uri": "https://localhost:8080/"
        },
        "id": "ra4O3-Zakng9",
        "outputId": "0263603a-f0a5-4afb-d1aa-6e0b1b9e073d"
      },
      "source": [
        "mydata = \"Doctor Who went up the hill to fetch a pint of water.\"\n",
        "bag = []\n",
        "# 1. Loop in every word of sentence\n",
        "for word in mydata.split(\" \"):\n",
        "  # 2. Calculate the length of every word\n",
        "  lngth = len(word)\n",
        "  # 3. if length is even, ONLY then-> append to result \n",
        "  if(lngth % 2== 0):\n",
        "    bag.append(word)\n",
        "\n",
        "print(bag)"
      ],
      "execution_count": null,
      "outputs": [
        {
          "output_type": "stream",
          "name": "stdout",
          "text": [
            "['Doctor', 'went', 'up', 'hill', 'to', 'pint', 'of', 'water.']\n"
          ]
        }
      ]
    },
    {
      "cell_type": "code",
      "metadata": {
        "colab": {
          "base_uri": "https://localhost:8080/"
        },
        "id": "8P6QptuRmS93",
        "outputId": "b5cc33b3-f218-4a42-80ed-cd23968743fd"
      },
      "source": [
        "mydata = \"Doctor Who went up the hill to fetch a pint of water.\"\n",
        "# syntax = [ expression(iterator) for iterator in data]\n",
        "result = [  word   for word in mydata.split(\" \") if len(word)%2==0 ]\n",
        "# by just mentioning word-> we mean don't change the value, return as-is\n",
        "print(result)"
      ],
      "execution_count": null,
      "outputs": [
        {
          "output_type": "stream",
          "name": "stdout",
          "text": [
            "['Doctor', 'went', 'up', 'hill', 'to', 'pint', 'of', 'water.']\n"
          ]
        }
      ]
    },
    {
      "cell_type": "code",
      "metadata": {
        "colab": {
          "base_uri": "https://localhost:8080/"
        },
        "id": "6_teqdP-mvGA",
        "outputId": "569c89bb-c386-4581-af1e-d6f4e1e22830"
      },
      "source": [
        "def odd_or_even(word):\n",
        "  if(len(word) %2 == 0):\n",
        "    return word\n",
        "    \n",
        "  \n",
        "mydata = \"Doctor Who went up the hill to fetch a pint of water.\"\n",
        "# syntax = [ expression(iterator) for iterator in data]\n",
        "result = [ odd_or_even(word) for word in mydata.split(\" \")]\n",
        "print(result)"
      ],
      "execution_count": null,
      "outputs": [
        {
          "output_type": "stream",
          "name": "stdout",
          "text": [
            "['Doctor', None, 'went', 'up', None, 'hill', 'to', None, None, 'pint', 'of', 'water.']\n"
          ]
        }
      ]
    },
    {
      "cell_type": "code",
      "metadata": {
        "id": "WF-Djm-tn-0D"
      },
      "source": [
        "odd_or_even('the')"
      ],
      "execution_count": null,
      "outputs": []
    },
    {
      "cell_type": "code",
      "metadata": {
        "colab": {
          "base_uri": "https://localhost:8080/"
        },
        "id": "26dfiTFMoAsw",
        "outputId": "d0357135-0fde-4ad5-8000-58824eafef6c"
      },
      "source": [
        "mydata = \"Doctor Who went up the hill to fetch a pint of water.\"\n",
        "# syntax = [ expression(iterator) for iterator in data]\n",
        "result = [  word+\"1\"   for word in mydata.split(\" \") if len(word)%2==0 ]\n",
        "# by just mentioning word-> we mean don't change the value, return as-is\n",
        "print(result)"
      ],
      "execution_count": null,
      "outputs": [
        {
          "output_type": "stream",
          "name": "stdout",
          "text": [
            "['Doctor1', 'went1', 'up1', 'hill1', 'to1', 'pint1', 'of1', 'water.1']\n"
          ]
        }
      ]
    },
    {
      "cell_type": "code",
      "metadata": {
        "id": "_e-JjgY3pk3k"
      },
      "source": [
        "mydata = [\"$30\", \"£40\",\"$30\", \"£40\",\"£30\", \"£40\"]\n",
        "# 1. loop into all elements\n",
        "# 2. if element contains '$' symbol\n",
        "#.   2b.   extract number from the $value\n",
        "#.   2c.   multiply this number to exchange rate\n",
        "#.   2d.   add £ and save into dataset\n"
      ],
      "execution_count": null,
      "outputs": []
    },
    {
      "cell_type": "code",
      "metadata": {
        "colab": {
          "base_uri": "https://localhost:8080/"
        },
        "id": "ebKjQLAKqaUR",
        "outputId": "17aa0b09-ab5f-48d5-8dc1-9085d1c16ae6"
      },
      "source": [
        "# 1. loop into all elements\n",
        "def dollar_to_pound(val):\n",
        "  # remove $ \n",
        "  val = int(val[1:]) #if val was $56, we are ignoring 0th position, and taking everything from 1st\n",
        "  exchange_rate = 0.74\n",
        "  newvalue= int(val*exchange_rate)\n",
        "  return '£'+str(newvalue)\n",
        "result = [ dollar_to_pound(element) if(element[0]=='$') else element for element in mydata ]\n",
        "print(mydata)\n",
        "print(result)"
      ],
      "execution_count": null,
      "outputs": [
        {
          "output_type": "stream",
          "name": "stdout",
          "text": [
            "['$30', '£40', '$30', '£40', '£30', '£40']\n",
            "['£22', '£40', '£22', '£40', '£30', '£40']\n"
          ]
        }
      ]
    },
    {
      "cell_type": "code",
      "metadata": {
        "id": "lIXQxjokrCCz"
      },
      "source": [
        ""
      ],
      "execution_count": null,
      "outputs": []
    }
  ]
}