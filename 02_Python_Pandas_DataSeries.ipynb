{
  "nbformat": 4,
  "nbformat_minor": 0,
  "metadata": {
    "kernelspec": {
      "display_name": "Python 3",
      "language": "python",
      "name": "python3"
    },
    "language_info": {
      "codemirror_mode": {
        "name": "ipython",
        "version": 3
      },
      "file_extension": ".py",
      "mimetype": "text/x-python",
      "name": "python",
      "nbconvert_exporter": "python",
      "pygments_lexer": "ipython3",
      "version": "3.7.4"
    },
    "colab": {
      "name": "02_Python-Pandas-DataSeries.ipynb",
      "provenance": [],
      "collapsed_sections": [
        "SLE6F9lyP7HB"
      ],
      "include_colab_link": true
    }
  },
  "cells": [
    {
      "cell_type": "markdown",
      "metadata": {
        "id": "view-in-github",
        "colab_type": "text"
      },
      "source": [
        "<a href=\"https://colab.research.google.com/github/annissatessffaaye/QA-Data-Engineering-Bootcamp-Azure-Python-SQL/blob/main/02_Python_Pandas_DataSeries.ipynb\" target=\"_parent\"><img src=\"https://colab.research.google.com/assets/colab-badge.svg\" alt=\"Open In Colab\"/></a>"
      ]
    },
    {
      "cell_type": "code",
      "metadata": {
        "id": "I6kCxLK6P7Gk"
      },
      "source": [
        "import numpy as np\n",
        "import pandas as pd\n",
        "import datetime"
      ],
      "execution_count": 1,
      "outputs": []
    },
    {
      "cell_type": "code",
      "metadata": {
        "id": "G1f9zsDhR20a"
      },
      "source": [
        ""
      ],
      "execution_count": null,
      "outputs": []
    },
    {
      "cell_type": "markdown",
      "metadata": {
        "id": "DMRS5wzIP7Gs"
      },
      "source": [
        "## DataSeries"
      ]
    },
    {
      "cell_type": "code",
      "metadata": {
        "id": "UfzbmRHmP7Gu"
      },
      "source": [
        "my_readings = [3.12, 3.54, 3.24, 3.67, 3.56, 3.87]"
      ],
      "execution_count": 2,
      "outputs": []
    },
    {
      "cell_type": "markdown",
      "metadata": {
        "id": "Pt28NWdVP7Gw"
      },
      "source": [
        "We can create a DataSeries using any list or np.array,"
      ]
    },
    {
      "cell_type": "code",
      "metadata": {
        "colab": {
          "base_uri": "https://localhost:8080/"
        },
        "id": "Bi5gIu9eP7Gy",
        "outputId": "49ef686a-9f38-4da8-8380-4fbefa8924e5"
      },
      "source": [
        "ds_readings = pd.Series(my_readings)\n",
        "ds_readings\n",
        "# We get a LOT of extra functionality that leverage NUMPY and other libraries\n"
      ],
      "execution_count": 3,
      "outputs": [
        {
          "output_type": "execute_result",
          "data": {
            "text/plain": [
              "0    3.12\n",
              "1    3.54\n",
              "2    3.24\n",
              "3    3.67\n",
              "4    3.56\n",
              "5    3.87\n",
              "dtype: float64"
            ]
          },
          "metadata": {},
          "execution_count": 3
        }
      ]
    },
    {
      "cell_type": "code",
      "metadata": {
        "id": "sliGAFYLP7Gz"
      },
      "source": [
        ""
      ],
      "execution_count": null,
      "outputs": []
    },
    {
      "cell_type": "code",
      "metadata": {
        "id": "eMktpxccP7G0",
        "colab": {
          "base_uri": "https://localhost:8080/"
        },
        "outputId": "7cd55363-f518-4bf8-fd15-2bdb2050da6f"
      },
      "source": [
        "## Output Index, aka primary key\n",
        "ds_readings.index"
      ],
      "execution_count": 4,
      "outputs": [
        {
          "output_type": "execute_result",
          "data": {
            "text/plain": [
              "RangeIndex(start=0, stop=6, step=1)"
            ]
          },
          "metadata": {},
          "execution_count": 4
        }
      ]
    },
    {
      "cell_type": "code",
      "metadata": {
        "id": "VZWAMeHqP7G2",
        "colab": {
          "base_uri": "https://localhost:8080/"
        },
        "outputId": "4de97455-759f-4452-e795-f658b4eebadb"
      },
      "source": [
        "## Output Value- for each key, these are the values\n",
        "ds_readings.values"
      ],
      "execution_count": 5,
      "outputs": [
        {
          "output_type": "execute_result",
          "data": {
            "text/plain": [
              "array([3.12, 3.54, 3.24, 3.67, 3.56, 3.87])"
            ]
          },
          "metadata": {},
          "execution_count": 5
        }
      ]
    },
    {
      "cell_type": "code",
      "metadata": {
        "id": "xYSk1QdHP7G4"
      },
      "source": [
        "# Select specific elements from the list-> exact same syntax is in NUMPY "
      ],
      "execution_count": 6,
      "outputs": []
    },
    {
      "cell_type": "code",
      "metadata": {
        "id": "c_7lv6LCP7G5",
        "colab": {
          "base_uri": "https://localhost:8080/"
        },
        "outputId": "d838a669-e566-4792-f124-e13012104f12"
      },
      "source": [
        "ds_readings[0]"
      ],
      "execution_count": 7,
      "outputs": [
        {
          "output_type": "execute_result",
          "data": {
            "text/plain": [
              "3.12"
            ]
          },
          "metadata": {},
          "execution_count": 7
        }
      ]
    },
    {
      "cell_type": "code",
      "metadata": {
        "id": "tXzM0lbDP7G6",
        "colab": {
          "base_uri": "https://localhost:8080/"
        },
        "outputId": "f8be2424-d9bb-4ac6-f972-06ceedf7b30d"
      },
      "source": [
        "ds_readings[4]"
      ],
      "execution_count": 8,
      "outputs": [
        {
          "output_type": "execute_result",
          "data": {
            "text/plain": [
              "3.56"
            ]
          },
          "metadata": {},
          "execution_count": 8
        }
      ]
    },
    {
      "cell_type": "markdown",
      "metadata": {
        "id": "AmyBY5XQP7G7"
      },
      "source": [
        ""
      ]
    },
    {
      "cell_type": "code",
      "metadata": {
        "colab": {
          "base_uri": "https://localhost:8080/"
        },
        "id": "2Dj3MpeeP7G7",
        "outputId": "3e900642-e0ed-4a77-bb16-f70ae31aa6b6"
      },
      "source": [
        "ds_readings[1:4] # our counting starts from 0\n",
        "# m:n -> from m to (n-1)\n",
        "# 1:4 -> from 1st to 3rd\n",
        "#  :n -> from beginning to n \n",
        "#. :8 -> from beginning till 7th\n",
        "#. :-5. -> negative indexing is counte from right. From beginning till 6th last element\n",
        "#   :-1 -> from beginning till end EXCEPT last element! \n",
        "#  9: -> from 9th row till the end \n",
        "#.  -3: -> from 3rd last element till the end \n"
      ],
      "execution_count": 9,
      "outputs": [
        {
          "output_type": "execute_result",
          "data": {
            "text/plain": [
              "1    3.54\n",
              "2    3.24\n",
              "3    3.67\n",
              "dtype: float64"
            ]
          },
          "metadata": {},
          "execution_count": 9
        }
      ]
    },
    {
      "cell_type": "markdown",
      "metadata": {
        "id": "8CcGdXkRP7G9"
      },
      "source": [
        "**Masking**"
      ]
    },
    {
      "cell_type": "code",
      "metadata": {
        "colab": {
          "base_uri": "https://localhost:8080/"
        },
        "id": "viJpSZnhP7G_",
        "outputId": "c9962e5f-1af6-4a99-b2e7-01509b7abe65"
      },
      "source": [
        "## Note list input\n",
        "# [ [ ] ] -> double brackets do element selection\n",
        "# First and Third will be printed, others ignored\n",
        "myrandomcondition = [True, False, True, False, False, False]\n",
        "\n",
        "# in next example, instead of taking myrandomcondition randomly, we will replace\n",
        "# with condition that data > 3.5 \n",
        "ds_readings[myrandomcondition]\n",
        "\n",
        "# we need the locations of the values that FIT our condition \n",
        "# we pass those locations to dataframe and collect only specific values that\n",
        "# match the conditions! \n",
        "\n"
      ],
      "execution_count": 10,
      "outputs": [
        {
          "output_type": "execute_result",
          "data": {
            "text/plain": [
              "0    3.12\n",
              "2    3.24\n",
              "dtype: float64"
            ]
          },
          "metadata": {},
          "execution_count": 10
        }
      ]
    },
    {
      "cell_type": "markdown",
      "metadata": {
        "id": "k86ARWrgP7HA"
      },
      "source": [
        ""
      ]
    },
    {
      "cell_type": "code",
      "metadata": {
        "id": "5kDWvjeAP7HA",
        "colab": {
          "base_uri": "https://localhost:8080/"
        },
        "outputId": "31d35784-900a-4b91-8d79-f4a107d862f2"
      },
      "source": [
        "ds_readings + 10\n",
        "# ANY math operation done to a series like this is performed \n",
        "# on EVERY element of that series\n"
      ],
      "execution_count": 11,
      "outputs": [
        {
          "output_type": "execute_result",
          "data": {
            "text/plain": [
              "0    13.12\n",
              "1    13.54\n",
              "2    13.24\n",
              "3    13.67\n",
              "4    13.56\n",
              "5    13.87\n",
              "dtype: float64"
            ]
          },
          "metadata": {},
          "execution_count": 11
        }
      ]
    },
    {
      "cell_type": "markdown",
      "metadata": {
        "id": "7qzQ2IfSP7HA"
      },
      "source": [
        ""
      ]
    },
    {
      "cell_type": "code",
      "metadata": {
        "id": "E5hftU2OP7HB"
      },
      "source": [
        "ds_readings > 3.5\n",
        "# to print only based on conditions\n",
        "# result is TRUE/FALSE -> wherever values are greater than 3.5, we get True, else False"
      ],
      "execution_count": null,
      "outputs": []
    },
    {
      "cell_type": "markdown",
      "metadata": {
        "id": "SLE6F9lyP7HB"
      },
      "source": [
        "### Q: Why might the above be useful?"
      ]
    },
    {
      "cell_type": "markdown",
      "metadata": {
        "id": "oQTN7DYpP7HB"
      },
      "source": [
        "Output would be very useful when used as a mask for another series"
      ]
    },
    {
      "cell_type": "code",
      "metadata": {
        "colab": {
          "base_uri": "https://localhost:8080/"
        },
        "id": "LJ9pPsG_P7HC",
        "outputId": "04fcd752-6858-4a75-b924-a3a04aa3b3a6"
      },
      "source": [
        "ds_readings[ds_readings > 3.5]"
      ],
      "execution_count": null,
      "outputs": [
        {
          "output_type": "execute_result",
          "data": {
            "text/plain": [
              "1    3.54\n",
              "3    3.67\n",
              "4    3.56\n",
              "5    3.87\n",
              "dtype: float64"
            ]
          },
          "metadata": {},
          "execution_count": 8
        }
      ]
    },
    {
      "cell_type": "markdown",
      "metadata": {
        "id": "PkhYJ-pbP7HC"
      },
      "source": [
        "We can always combine filtering and operators"
      ]
    },
    {
      "cell_type": "code",
      "metadata": {
        "id": "WwviqDitP7HC"
      },
      "source": [
        "ds_readings[ds_readings > 3.5] * 2"
      ],
      "execution_count": null,
      "outputs": []
    },
    {
      "cell_type": "markdown",
      "metadata": {
        "id": "LBjFpm8oP7HC"
      },
      "source": [
        "And to change the values, either all, or partial is easy,"
      ]
    },
    {
      "cell_type": "code",
      "metadata": {
        "id": "g_E9vueqP7HD"
      },
      "source": [
        "ds_readings[ds_readings > 3.5] = 0"
      ],
      "execution_count": null,
      "outputs": []
    },
    {
      "cell_type": "code",
      "metadata": {
        "colab": {
          "base_uri": "https://localhost:8080/"
        },
        "id": "g9VNGz69T-Oy",
        "outputId": "e408a1f4-5051-4851-9ee0-aeed5ec0e623"
      },
      "source": [
        "# Following is an example of missing value replacement \n",
        "randomset = np.array([5,4,3,np.NaN, -1, 24, 42, np.NaN])\n",
        "\n",
        "nullvaluelocations = np.isnan(randomset)\n",
        "okayvaluelocations = np.invert(nullvaluelocations)\n",
        "print(nullvaluelocations)\n",
        "print(okayvaluelocations)"
      ],
      "execution_count": null,
      "outputs": [
        {
          "output_type": "stream",
          "name": "stdout",
          "text": [
            "[False False False  True False False False  True]\n",
            "[ True  True  True False  True  True  True False]\n"
          ]
        }
      ]
    },
    {
      "cell_type": "code",
      "metadata": {
        "colab": {
          "base_uri": "https://localhost:8080/"
        },
        "id": "OC8dyq4hUzJY",
        "outputId": "6bcae7d9-af57-4806-d2ea-6a14e246f9ff"
      },
      "source": [
        "# replacing null values with Mean \n",
        "randomset[nullvaluelocations] = np.mean(randomset[okayvaluelocations])\n",
        "randomset"
      ],
      "execution_count": null,
      "outputs": [
        {
          "output_type": "execute_result",
          "data": {
            "text/plain": [
              "array([ 5.        ,  4.        ,  3.        , 12.83333333, -1.        ,\n",
              "       24.        , 42.        , 12.83333333])"
            ]
          },
          "metadata": {},
          "execution_count": 27
        }
      ]
    },
    {
      "cell_type": "code",
      "metadata": {
        "colab": {
          "base_uri": "https://localhost:8080/"
        },
        "id": "qnnIia81VOMv",
        "outputId": "b98e6b4e-49ba-429b-d1f5-9b2976b44719"
      },
      "source": [
        "np.mean(randomset[okayvaluelocations])"
      ],
      "execution_count": null,
      "outputs": [
        {
          "output_type": "execute_result",
          "data": {
            "text/plain": [
              "12.833333333333334"
            ]
          },
          "metadata": {},
          "execution_count": 26
        }
      ]
    },
    {
      "cell_type": "code",
      "metadata": {
        "id": "yfJcmUImP7HD"
      },
      "source": [
        ""
      ],
      "execution_count": null,
      "outputs": []
    },
    {
      "cell_type": "markdown",
      "metadata": {
        "id": "VkKyd-0VW9hc"
      },
      "source": [
        "PLEASE STOP AT THIS POINT!\n"
      ]
    },
    {
      "cell_type": "markdown",
      "metadata": {
        "id": "l1k4auxiP7HN"
      },
      "source": [
        "### Mappings"
      ]
    },
    {
      "cell_type": "code",
      "metadata": {
        "id": "UZG7EjWQP7HN",
        "colab": {
          "base_uri": "https://localhost:8080/"
        },
        "outputId": "58e704c4-ca7e-433c-ee04-036f2b53d6d5"
      },
      "source": [
        "# PLEASE DON'T START THIS TODAY\n",
        "mapping = {0: 10.0, np.nan: 0.0}\n",
        "ds_readings.replace(mapping)"
      ],
      "execution_count": 12,
      "outputs": [
        {
          "output_type": "execute_result",
          "data": {
            "text/plain": [
              "0    3.12\n",
              "1    3.54\n",
              "2    3.24\n",
              "3    3.67\n",
              "4    3.56\n",
              "5    3.87\n",
              "dtype: float64"
            ]
          },
          "metadata": {},
          "execution_count": 12
        }
      ]
    },
    {
      "cell_type": "code",
      "metadata": {
        "id": "-XSSH7YRP7HN"
      },
      "source": [
        "def myround(x):\n",
        "    return round(x, 1)"
      ],
      "execution_count": null,
      "outputs": []
    },
    {
      "cell_type": "code",
      "metadata": {
        "id": "CqxeKuBnP7HN"
      },
      "source": [
        "ds_readings.map(myround)"
      ],
      "execution_count": null,
      "outputs": []
    },
    {
      "cell_type": "code",
      "metadata": {
        "id": "-_TSrDzjP7HO"
      },
      "source": [
        "# WILL EXPLAIN this TOMORROW (Please try today at YOUR OWN RISK!)\n",
        "ds_readings.map(lambda x: round(x,1))"
      ],
      "execution_count": null,
      "outputs": []
    }
  ]
}