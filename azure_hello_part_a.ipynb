{
  "nbformat": 4,
  "nbformat_minor": 0,
  "metadata": {
    "colab": {
      "name": "azure_hello_part_a",
      "provenance": [],
      "collapsed_sections": [],
      "authorship_tag": "ABX9TyM2Sidt9bocp50lwySsGOir",
      "include_colab_link": true
    },
    "kernelspec": {
      "name": "python3",
      "display_name": "Python 3"
    },
    "language_info": {
      "name": "python"
    }
  },
  "cells": [
    {
      "cell_type": "markdown",
      "metadata": {
        "id": "view-in-github",
        "colab_type": "text"
      },
      "source": [
        "<a href=\"https://colab.research.google.com/github/annissatessffaaye/QAPython/blob/main/azure_hello_part_a.ipynb\" target=\"_parent\"><img src=\"https://colab.research.google.com/assets/colab-badge.svg\" alt=\"Open In Colab\"/></a>"
      ]
    },
    {
      "cell_type": "code",
      "metadata": {
        "id": "pYdxYEbrMScd"
      },
      "source": [
        "# src/hello.py\n",
        "print(\"Hello world!\")"
      ],
      "execution_count": null,
      "outputs": []
    }
  ]
}