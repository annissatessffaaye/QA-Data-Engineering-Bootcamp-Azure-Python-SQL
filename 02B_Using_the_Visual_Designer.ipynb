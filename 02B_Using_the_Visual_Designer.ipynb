{
  "nbformat": 4,
  "nbformat_minor": 0,
  "metadata": {
    "kernelspec": {
      "display_name": "Python 3.6 - AzureML",
      "language": "python",
      "name": "python3-azureml"
    },
    "language_info": {
      "codemirror_mode": {
        "name": "ipython",
        "version": 3
      },
      "file_extension": ".py",
      "mimetype": "text/x-python",
      "name": "python",
      "nbconvert_exporter": "python",
      "pygments_lexer": "ipython3",
      "version": "3.6.9"
    },
    "colab": {
      "name": "02B - Using the Visual Designer.ipynb",
      "provenance": [],
      "include_colab_link": true
    }
  },
  "cells": [
    {
      "cell_type": "markdown",
      "metadata": {
        "id": "view-in-github",
        "colab_type": "text"
      },
      "source": [
        "<a href=\"https://colab.research.google.com/github/annissatessffaaye/QA-Data-Engineering-Bootcamp-Azure-Python-SQL/blob/main/02B_Using_the_Visual_Designer.ipynb\" target=\"_parent\"><img src=\"https://colab.research.google.com/assets/colab-badge.svg\" alt=\"Open In Colab\"/></a>"
      ]
    },
    {
      "cell_type": "markdown",
      "metadata": {
        "id": "ylRJPWnrvrEj"
      },
      "source": [
        "# Using the Visual Designer\n",
        "\n",
        "> **Important**: This exercise assumes you have completed [Lab 2A](labdocs/Lab02A.md) and [Lab 2B](labdocs/Lab02B.md) to create and deploy an inference pipeline as a containerized service.\n",
        "\n",
        "Modify the code in the cell below to use the ***ENDPOINT*** and ***PRIMARY_KEY*** for your **predict-diabetes** service. Then run the cell to submit new patient data and retrieve the predicted classifications."
      ]
    },
    {
      "cell_type": "code",
      "metadata": {
        "id": "qaXiFemyvrEo",
        "outputId": "18dc2ef2-a06e-45b9-cb2b-c49905c0447d"
      },
      "source": [
        "endpoint = 'http://52.146.55.163:80/api/v1/service/predict-diabetes/score' #Replace with your endpoint\n",
        "key = '8zD5yLqADsTG9SZ6i7wGeHw8Va94rxew' #Replace with your key\n",
        "\n",
        "import urllib.request\n",
        "import json\n",
        "import os\n",
        "\n",
        "data = {\n",
        "    \"Inputs\": {\n",
        "        \"WebServiceInput0\":\n",
        "        [\n",
        "            {\n",
        "                    'PatientID': 1882185,\n",
        "                    'Pregnancies': 9,\n",
        "                    'PlasmaGlucose': 104,\n",
        "                    'DiastolicBloodPressure': 51,\n",
        "                    'TricepsThickness': 7,\n",
        "                    'SerumInsulin': 24,\n",
        "                    'BMI': 27.36983156,\n",
        "                    'DiabetesPedigree': 1.3504720469999998,\n",
        "                    'Age': 43,\n",
        "            },\n",
        "        ],\n",
        "    },\n",
        "    \"GlobalParameters\":  {\n",
        "    }\n",
        "}\n",
        "\n",
        "body = str.encode(json.dumps(data))\n",
        "\n",
        "\n",
        "headers = {'Content-Type':'application/json', 'Authorization':('Bearer '+ key)}\n",
        "\n",
        "req = urllib.request.Request(endpoint, body, headers)\n",
        "\n",
        "try:\n",
        "    response = urllib.request.urlopen(req)\n",
        "    result = response.read()\n",
        "    json_result = json.loads(result)\n",
        "    output = json_result[\"Results\"][\"WebServiceOutput0\"][0]\n",
        "    print('Patient: {}\\nPrediction: {}\\nProbability: {:.2f}'.format(output[\"PatientID\"],\n",
        "                                                            output[\"DiabetesPrediction\"],\n",
        "                                                            output[\"Probability\"],))\n",
        "except urllib.error.HTTPError as error:\n",
        "    print(\"The request failed with status code: \" + str(error.code))\n",
        "\n",
        "    # Print the headers to help debug\n",
        "    print(error.info())\n",
        "    print(json.loads(error.read().decode(\"utf8\", 'ignore')))"
      ],
      "execution_count": null,
      "outputs": [
        {
          "name": "stdout",
          "output_type": "stream",
          "text": [
            "Patient: 1882185.0\n",
            "Prediction: 1.0\n",
            "Probability: 0.70\n"
          ]
        }
      ]
    },
    {
      "cell_type": "code",
      "metadata": {
        "id": "dpM7lDn-vrEs"
      },
      "source": [
        ""
      ],
      "execution_count": null,
      "outputs": []
    }
  ]
}