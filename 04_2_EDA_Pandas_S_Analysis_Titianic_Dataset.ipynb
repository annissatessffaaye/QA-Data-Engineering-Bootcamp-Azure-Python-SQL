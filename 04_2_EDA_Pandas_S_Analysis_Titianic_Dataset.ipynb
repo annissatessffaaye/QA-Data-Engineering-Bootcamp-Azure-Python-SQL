{
  "nbformat": 4,
  "nbformat_minor": 0,
  "metadata": {
    "kernelspec": {
      "display_name": "Python 3",
      "language": "python",
      "name": "python3"
    },
    "language_info": {
      "codemirror_mode": {
        "name": "ipython",
        "version": 3
      },
      "file_extension": ".py",
      "mimetype": "text/x-python",
      "name": "python",
      "nbconvert_exporter": "python",
      "pygments_lexer": "ipython3",
      "version": "3.7.4"
    },
    "colab": {
      "name": "04_2 - EDA_Pandas_Titianic Dataset.ipynb",
      "provenance": [],
      "collapsed_sections": [],
      "include_colab_link": true
    }
  },
  "cells": [
    {
      "cell_type": "markdown",
      "metadata": {
        "id": "view-in-github",
        "colab_type": "text"
      },
      "source": [
        "<a href=\"https://colab.research.google.com/github/annissatessffaaye/QA-Data-Engineering-Bootcamp-Azure-Python-SQL/blob/main/04_2_EDA_Pandas_S_Analysis_Titianic_Dataset.ipynb\" target=\"_parent\"><img src=\"https://colab.research.google.com/assets/colab-badge.svg\" alt=\"Open In Colab\"/></a>"
      ]
    },
    {
      "cell_type": "markdown",
      "metadata": {
        "id": "RsQPAUhUuHsB"
      },
      "source": [
        "# Python for Data Science & Analysis \n",
        "## Notes 4.2, Exploratory Data Analysis & Visualization"
      ]
    },
    {
      "cell_type": "markdown",
      "metadata": {
        "id": "3tLlww9euHsH"
      },
      "source": [
        "## Objectives\n",
        "* describe a standard EDA workflow\n",
        "* EXTRA: describe a standard communication & reporting process\n",
        "* write a program which uses pandas to:\n",
        "    * obtain a subset of columns using list indexes\n",
        "    * obtain a subset of rows using locator syntax  \n",
        "    * obtain descriptive statistics \n",
        "    * applies a test to a column to discretize it\n",
        "    * factor a continuous column with a discrete column\n",
        "* write a program which uses seaborn and matplotlib to:\n",
        "    * show univariate plots (eg., distplot)\n",
        "    * show multivariate plots (eg., scatterplot)\n",
        "    * EXTRA: customize plots"
      ]
    },
    {
      "cell_type": "markdown",
      "metadata": {
        "id": "TyibPc_SuHsJ"
      },
      "source": [
        "# Part 1: What is EDA?"
      ]
    },
    {
      "cell_type": "markdown",
      "metadata": {
        "id": "YEowh54tuHsK"
      },
      "source": [
        "## What is Exploratory Data Analysis?"
      ]
    },
    {
      "cell_type": "markdown",
      "metadata": {
        "id": "pGzwTmGMuHsK"
      },
      "source": [
        "* goal:\n",
        "    * investigate\n",
        "    * explain\n",
        "    * describe\n",
        "    * understand"
      ]
    },
    {
      "cell_type": "markdown",
      "metadata": {
        "id": "XTE_3N_ZuHsL"
      },
      "source": [
        "* questions?\n",
        "    * is there enough data?\n",
        "    * is the data correct?\n",
        "    * what is the distribution of each column?\n",
        "    * how do the columns correlate?"
      ]
    },
    {
      "cell_type": "markdown",
      "metadata": {
        "id": "TezX65pfuHsM"
      },
      "source": [
        "* method\n",
        "    * visual\n",
        "    * primarily descriptive"
      ]
    },
    {
      "cell_type": "markdown",
      "metadata": {
        "id": "6SNfpRl9uHsN"
      },
      "source": [
        "## What are the tools for EDA in Python?"
      ]
    },
    {
      "cell_type": "markdown",
      "metadata": {
        "id": "-vNwss0quHsO"
      },
      "source": [
        "Simple pair: Pandas for data exploration, seaborn for visualization.\n",
        "\n",
        "\n",
        "...but lots of options. "
      ]
    },
    {
      "cell_type": "markdown",
      "metadata": {
        "id": "dlS9QwAFuHsP"
      },
      "source": [
        "## What are the challenges around EDA?"
      ]
    },
    {
      "cell_type": "markdown",
      "metadata": {
        "id": "aIzkRvqnuHsP"
      },
      "source": [
        "### Challenges of EDA:\n",
        "\n",
        "* Strategic \n",
        "* Organizational\n",
        "* Technical "
      ]
    },
    {
      "cell_type": "markdown",
      "metadata": {
        "id": "XU2VfSmuuHsQ"
      },
      "source": [
        "# Part 2: EDA with Pandas"
      ]
    },
    {
      "cell_type": "code",
      "metadata": {
        "id": "PpPDRrYluHsQ"
      },
      "source": [
        "import pandas as pd\n",
        "import matplotlib.pyplot as plt\n",
        "import plotly.express as px\n",
        "\n",
        "df = pd.read_csv('datasets/titanic.csv')\n"
      ],
      "execution_count": 41,
      "outputs": []
    },
    {
      "cell_type": "markdown",
      "metadata": {
        "id": "PSdcUYQwuHsR"
      },
      "source": [
        "## How do we EDA with Pandas?"
      ]
    },
    {
      "cell_type": "markdown",
      "metadata": {
        "id": "Y02621Z6uHsS"
      },
      "source": [
        "* data quality, structure, etc. metrics; $\\rightarrow$ `.info()`\n",
        "* descriptive stats for all single columns; $\\rightarrow$ `.describe()`, `.mean()`, `.value_counts()`\n",
        "* descriptive stats for all pairs of columns; $\\rightarrow$ `.corr()`\n",
        "* domain-specific row subsets; $\\rightarrow$ `df.loc`\n",
        "* introduce factoring columns; $\\rightarrow$ `.groupby`\n",
        "* introduce domain-specific novel columns; $\\rightarrow$ `df['bmi'] = df['w'] / df['h'] ** 2`\n",
        "\n",
        "    "
      ]
    },
    {
      "cell_type": "markdown",
      "metadata": {
        "id": "ju0Uwc8fuHsS"
      },
      "source": [
        "The purpose of computing a correlation score (default: pearson) is to determine *possible* relationships, rather than accurately measure correlation.\n",
        "\n",
        "Note the *sign* of the score, and it's rough magnitude. You should plot all columns and pairs *regardless*. "
      ]
    },
    {
      "cell_type": "markdown",
      "metadata": {
        "id": "N0noZV_MuHsT"
      },
      "source": [
        "## Exercise (20 min)"
      ]
    },
    {
      "cell_type": "markdown",
      "metadata": {
        "id": "0uU0zTm1uHsT"
      },
      "source": [
        "Perform an EDA of the titanic dataset with pandas, include:\n",
        "\n",
        "* data quality, structure, etc. metrics\n",
        "    * `.info()`, `.isna().sum()`, etc.\n",
        "* descriptive stats for all single columns\n",
        "    * `.describe()`, `.mean()`, `.median()`, `.std()`, `.value_counts()`\n",
        "* descriptive stats for all pairs of columns\n",
        "    * ie., `.corr()`"
      ]
    },
    {
      "cell_type": "code",
      "metadata": {
        "colab": {
          "base_uri": "https://localhost:8080/"
        },
        "id": "hwBP3UDuxDuD",
        "outputId": "de6f21df-fdd6-4d15-d488-73c2329a8319"
      },
      "source": [
        "#data quality, structure, etc. metrics;\n",
        "df.info"
      ],
      "execution_count": 5,
      "outputs": [
        {
          "output_type": "execute_result",
          "data": {
            "text/plain": [
              "<bound method DataFrame.info of      survived  pclass     sex   age  ...  deck  embark_town  alive  alone\n",
              "0           0       3    male  22.0  ...   NaN  Southampton     no  False\n",
              "1           1       1  female  38.0  ...     C    Cherbourg    yes  False\n",
              "2           1       3  female  26.0  ...   NaN  Southampton    yes   True\n",
              "3           1       1  female  35.0  ...     C  Southampton    yes  False\n",
              "4           0       3    male  35.0  ...   NaN  Southampton     no   True\n",
              "..        ...     ...     ...   ...  ...   ...          ...    ...    ...\n",
              "886         0       2    male  27.0  ...   NaN  Southampton     no   True\n",
              "887         1       1  female  19.0  ...     B  Southampton    yes   True\n",
              "888         0       3  female   NaN  ...   NaN  Southampton     no  False\n",
              "889         1       1    male  26.0  ...     C    Cherbourg    yes   True\n",
              "890         0       3    male  32.0  ...   NaN   Queenstown     no   True\n",
              "\n",
              "[891 rows x 15 columns]>"
            ]
          },
          "metadata": {},
          "execution_count": 5
        }
      ]
    },
    {
      "cell_type": "code",
      "metadata": {
        "colab": {
          "base_uri": "https://localhost:8080/"
        },
        "id": "UlxRPL4EL8_3",
        "outputId": "f3623269-2916-4c35-b575-b3632e338391"
      },
      "source": [
        "new_df = df.dropna()\n",
        "\n",
        "print(new_df.to_string())"
      ],
      "execution_count": 58,
      "outputs": [
        {
          "output_type": "stream",
          "name": "stdout",
          "text": [
            "     survived  pclass     sex    age  sibsp  parch      fare embarked   class    who  adult_male deck  embark_town alive  alone\n",
            "1           1       1  female  38.00      1      0   71.2833        C   First  woman       False    C    Cherbourg   yes  False\n",
            "3           1       1  female  35.00      1      0   53.1000        S   First  woman       False    C  Southampton   yes  False\n",
            "6           0       1    male  54.00      0      0   51.8625        S   First    man        True    E  Southampton    no   True\n",
            "10          1       3  female   4.00      1      1   16.7000        S   Third  child       False    G  Southampton   yes  False\n",
            "11          1       1  female  58.00      0      0   26.5500        S   First  woman       False    C  Southampton   yes   True\n",
            "21          1       2    male  34.00      0      0   13.0000        S  Second    man        True    D  Southampton   yes   True\n",
            "23          1       1    male  28.00      0      0   35.5000        S   First    man        True    A  Southampton   yes   True\n",
            "27          0       1    male  19.00      3      2  263.0000        S   First    man        True    C  Southampton    no  False\n",
            "52          1       1  female  49.00      1      0   76.7292        C   First  woman       False    D    Cherbourg   yes  False\n",
            "54          0       1    male  65.00      0      1   61.9792        C   First    man        True    B    Cherbourg    no  False\n",
            "62          0       1    male  45.00      1      0   83.4750        S   First    man        True    C  Southampton    no  False\n",
            "66          1       2  female  29.00      0      0   10.5000        S  Second  woman       False    F  Southampton   yes   True\n",
            "75          0       3    male  25.00      0      0    7.6500        S   Third    man        True    F  Southampton    no   True\n",
            "88          1       1  female  23.00      3      2  263.0000        S   First  woman       False    C  Southampton   yes  False\n",
            "92          0       1    male  46.00      1      0   61.1750        S   First    man        True    E  Southampton    no  False\n",
            "96          0       1    male  71.00      0      0   34.6542        C   First    man        True    A    Cherbourg    no   True\n",
            "97          1       1    male  23.00      0      1   63.3583        C   First    man        True    D    Cherbourg   yes  False\n",
            "102         0       1    male  21.00      0      1   77.2875        S   First    man        True    D  Southampton    no  False\n",
            "110         0       1    male  47.00      0      0   52.0000        S   First    man        True    C  Southampton    no   True\n",
            "118         0       1    male  24.00      0      1  247.5208        C   First    man        True    B    Cherbourg    no  False\n",
            "123         1       2  female  32.50      0      0   13.0000        S  Second  woman       False    E  Southampton   yes   True\n",
            "124         0       1    male  54.00      0      1   77.2875        S   First    man        True    D  Southampton    no  False\n",
            "136         1       1  female  19.00      0      2   26.2833        S   First  woman       False    D  Southampton   yes  False\n",
            "137         0       1    male  37.00      1      0   53.1000        S   First    man        True    C  Southampton    no  False\n",
            "139         0       1    male  24.00      0      0   79.2000        C   First    man        True    B    Cherbourg    no   True\n",
            "148         0       2    male  36.50      0      2   26.0000        S  Second    man        True    F  Southampton    no  False\n",
            "151         1       1  female  22.00      1      0   66.6000        S   First  woman       False    C  Southampton   yes  False\n",
            "170         0       1    male  61.00      0      0   33.5000        S   First    man        True    B  Southampton    no   True\n",
            "174         0       1    male  56.00      0      0   30.6958        C   First    man        True    A    Cherbourg    no   True\n",
            "177         0       1  female  50.00      0      0   28.7125        C   First  woman       False    C    Cherbourg    no   True\n",
            "183         1       2    male   1.00      2      1   39.0000        S  Second  child       False    F  Southampton   yes  False\n",
            "193         1       2    male   3.00      1      1   26.0000        S  Second  child       False    F  Southampton   yes  False\n",
            "194         1       1  female  44.00      0      0   27.7208        C   First  woman       False    B    Cherbourg   yes   True\n",
            "195         1       1  female  58.00      0      0  146.5208        C   First  woman       False    B    Cherbourg   yes   True\n",
            "205         0       3  female   2.00      0      1   10.4625        S   Third  child       False    G  Southampton    no  False\n",
            "209         1       1    male  40.00      0      0   31.0000        C   First    man        True    A    Cherbourg   yes   True\n",
            "215         1       1  female  31.00      1      0  113.2750        C   First  woman       False    D    Cherbourg   yes  False\n",
            "218         1       1  female  32.00      0      0   76.2917        C   First  woman       False    D    Cherbourg   yes   True\n",
            "224         1       1    male  38.00      1      0   90.0000        S   First    man        True    C  Southampton   yes  False\n",
            "230         1       1  female  35.00      1      0   83.4750        S   First  woman       False    C  Southampton   yes  False\n",
            "245         0       1    male  44.00      2      0   90.0000        Q   First    man        True    C   Queenstown    no  False\n",
            "248         1       1    male  37.00      1      1   52.5542        S   First    man        True    D  Southampton   yes  False\n",
            "251         0       3  female  29.00      1      1   10.4625        S   Third  woman       False    G  Southampton    no  False\n",
            "252         0       1    male  62.00      0      0   26.5500        S   First    man        True    C  Southampton    no   True\n",
            "257         1       1  female  30.00      0      0   86.5000        S   First  woman       False    B  Southampton   yes   True\n",
            "262         0       1    male  52.00      1      1   79.6500        S   First    man        True    E  Southampton    no  False\n",
            "263         0       1    male  40.00      0      0    0.0000        S   First    man        True    B  Southampton    no   True\n",
            "268         1       1  female  58.00      0      1  153.4625        S   First  woman       False    C  Southampton   yes  False\n",
            "269         1       1  female  35.00      0      0  135.6333        S   First  woman       False    C  Southampton   yes   True\n",
            "273         0       1    male  37.00      0      1   29.7000        C   First    man        True    C    Cherbourg    no  False\n",
            "275         1       1  female  63.00      1      0   77.9583        S   First  woman       False    D  Southampton   yes  False\n",
            "291         1       1  female  19.00      1      0   91.0792        C   First  woman       False    B    Cherbourg   yes  False\n",
            "292         0       2    male  36.00      0      0   12.8750        C  Second    man        True    D    Cherbourg    no   True\n",
            "297         0       1  female   2.00      1      2  151.5500        S   First  child       False    C  Southampton    no  False\n",
            "299         1       1  female  50.00      0      1  247.5208        C   First  woman       False    B    Cherbourg   yes  False\n",
            "305         1       1    male   0.92      1      2  151.5500        S   First  child       False    C  Southampton   yes  False\n",
            "307         1       1  female  17.00      1      0  108.9000        C   First  woman       False    C    Cherbourg   yes  False\n",
            "309         1       1  female  30.00      0      0   56.9292        C   First  woman       False    E    Cherbourg   yes   True\n",
            "310         1       1  female  24.00      0      0   83.1583        C   First  woman       False    C    Cherbourg   yes   True\n",
            "311         1       1  female  18.00      2      2  262.3750        C   First  woman       False    B    Cherbourg   yes  False\n",
            "318         1       1  female  31.00      0      2  164.8667        S   First  woman       False    C  Southampton   yes  False\n",
            "319         1       1  female  40.00      1      1  134.5000        C   First  woman       False    E    Cherbourg   yes  False\n",
            "325         1       1  female  36.00      0      0  135.6333        C   First  woman       False    C    Cherbourg   yes   True\n",
            "327         1       2  female  36.00      0      0   13.0000        S  Second  woman       False    D  Southampton   yes   True\n",
            "329         1       1  female  16.00      0      1   57.9792        C   First  woman       False    B    Cherbourg   yes  False\n",
            "331         0       1    male  45.50      0      0   28.5000        S   First    man        True    C  Southampton    no   True\n",
            "332         0       1    male  38.00      0      1  153.4625        S   First    man        True    C  Southampton    no  False\n",
            "336         0       1    male  29.00      1      0   66.6000        S   First    man        True    C  Southampton    no  False\n",
            "337         1       1  female  41.00      0      0  134.5000        C   First  woman       False    E    Cherbourg   yes   True\n",
            "340         1       2    male   2.00      1      1   26.0000        S  Second  child       False    F  Southampton   yes  False\n",
            "341         1       1  female  24.00      3      2  263.0000        S   First  woman       False    C  Southampton   yes  False\n",
            "345         1       2  female  24.00      0      0   13.0000        S  Second  woman       False    F  Southampton   yes   True\n",
            "356         1       1  female  22.00      0      1   55.0000        S   First  woman       False    E  Southampton   yes  False\n",
            "366         1       1  female  60.00      1      0   75.2500        C   First  woman       False    D    Cherbourg   yes  False\n",
            "369         1       1  female  24.00      0      0   69.3000        C   First  woman       False    B    Cherbourg   yes   True\n",
            "370         1       1    male  25.00      1      0   55.4417        C   First    man        True    E    Cherbourg   yes  False\n",
            "377         0       1    male  27.00      0      2  211.5000        C   First    man        True    C    Cherbourg    no  False\n",
            "390         1       1    male  36.00      1      2  120.0000        S   First    man        True    B  Southampton   yes  False\n",
            "393         1       1  female  23.00      1      0  113.2750        C   First  woman       False    D    Cherbourg   yes  False\n",
            "394         1       3  female  24.00      0      2   16.7000        S   Third  woman       False    G  Southampton   yes  False\n",
            "412         1       1  female  33.00      1      0   90.0000        Q   First  woman       False    C   Queenstown   yes  False\n",
            "429         1       3    male  32.00      0      0    8.0500        S   Third    man        True    E  Southampton   yes   True\n",
            "430         1       1    male  28.00      0      0   26.5500        S   First    man        True    C  Southampton   yes   True\n",
            "434         0       1    male  50.00      1      0   55.9000        S   First    man        True    E  Southampton    no  False\n",
            "435         1       1  female  14.00      1      2  120.0000        S   First  child       False    B  Southampton   yes  False\n",
            "438         0       1    male  64.00      1      4  263.0000        S   First    man        True    C  Southampton    no  False\n",
            "445         1       1    male   4.00      0      2   81.8583        S   First  child       False    A  Southampton   yes  False\n",
            "449         1       1    male  52.00      0      0   30.5000        S   First    man        True    C  Southampton   yes   True\n",
            "452         0       1    male  30.00      0      0   27.7500        C   First    man        True    C    Cherbourg    no   True\n",
            "453         1       1    male  49.00      1      0   89.1042        C   First    man        True    C    Cherbourg   yes  False\n",
            "456         0       1    male  65.00      0      0   26.5500        S   First    man        True    E  Southampton    no   True\n",
            "460         1       1    male  48.00      0      0   26.5500        S   First    man        True    E  Southampton   yes   True\n",
            "462         0       1    male  47.00      0      0   38.5000        S   First    man        True    E  Southampton    no   True\n",
            "473         1       2  female  23.00      0      0   13.7917        C  Second  woman       False    D    Cherbourg   yes   True\n",
            "484         1       1    male  25.00      1      0   91.0792        C   First    man        True    B    Cherbourg   yes  False\n",
            "486         1       1  female  35.00      1      0   90.0000        S   First  woman       False    C  Southampton   yes  False\n",
            "487         0       1    male  58.00      0      0   29.7000        C   First    man        True    B    Cherbourg    no   True\n",
            "492         0       1    male  55.00      0      0   30.5000        S   First    man        True    C  Southampton    no   True\n",
            "496         1       1  female  54.00      1      0   78.2667        C   First  woman       False    D    Cherbourg   yes  False\n",
            "498         0       1  female  25.00      1      2  151.5500        S   First  woman       False    C  Southampton    no  False\n",
            "504         1       1  female  16.00      0      0   86.5000        S   First  woman       False    B  Southampton   yes   True\n",
            "505         0       1    male  18.00      1      0  108.9000        C   First    man        True    C    Cherbourg    no  False\n",
            "512         1       1    male  36.00      0      0   26.2875        S   First    man        True    E  Southampton   yes   True\n",
            "515         0       1    male  47.00      0      0   34.0208        S   First    man        True    D  Southampton    no   True\n",
            "516         1       2  female  34.00      0      0   10.5000        S  Second  woman       False    F  Southampton   yes   True\n",
            "520         1       1  female  30.00      0      0   93.5000        S   First  woman       False    B  Southampton   yes   True\n",
            "523         1       1  female  44.00      0      1   57.9792        C   First  woman       False    B    Cherbourg   yes  False\n",
            "536         0       1    male  45.00      0      0   26.5500        S   First    man        True    B  Southampton    no   True\n",
            "539         1       1  female  22.00      0      2   49.5000        C   First  woman       False    B    Cherbourg   yes  False\n",
            "540         1       1  female  36.00      0      2   71.0000        S   First  woman       False    B  Southampton   yes  False\n",
            "544         0       1    male  50.00      1      0  106.4250        C   First    man        True    C    Cherbourg    no  False\n",
            "550         1       1    male  17.00      0      2  110.8833        C   First    man        True    C    Cherbourg   yes  False\n",
            "556         1       1  female  48.00      1      0   39.6000        C   First  woman       False    A    Cherbourg   yes  False\n",
            "558         1       1  female  39.00      1      1   79.6500        S   First  woman       False    E  Southampton   yes  False\n",
            "571         1       1  female  53.00      2      0   51.4792        S   First  woman       False    C  Southampton   yes  False\n",
            "572         1       1    male  36.00      0      0   26.3875        S   First    man        True    E  Southampton   yes   True\n",
            "577         1       1  female  39.00      1      0   55.9000        S   First  woman       False    E  Southampton   yes  False\n",
            "581         1       1  female  39.00      1      1  110.8833        C   First  woman       False    C    Cherbourg   yes  False\n",
            "583         0       1    male  36.00      0      0   40.1250        C   First    man        True    A    Cherbourg    no   True\n",
            "585         1       1  female  18.00      0      2   79.6500        S   First  woman       False    E  Southampton   yes  False\n",
            "587         1       1    male  60.00      1      1   79.2000        C   First    man        True    B    Cherbourg   yes  False\n",
            "591         1       1  female  52.00      1      0   78.2667        C   First  woman       False    D    Cherbourg   yes  False\n",
            "599         1       1    male  49.00      1      0   56.9292        C   First    man        True    A    Cherbourg   yes  False\n",
            "609         1       1  female  40.00      0      0  153.4625        S   First  woman       False    C  Southampton   yes   True\n",
            "618         1       2  female   4.00      2      1   39.0000        S  Second  child       False    F  Southampton   yes  False\n",
            "621         1       1    male  42.00      1      0   52.5542        S   First    man        True    D  Southampton   yes  False\n",
            "625         0       1    male  61.00      0      0   32.3208        S   First    man        True    D  Southampton    no   True\n",
            "627         1       1  female  21.00      0      0   77.9583        S   First  woman       False    D  Southampton   yes   True\n",
            "630         1       1    male  80.00      0      0   30.0000        S   First    man        True    A  Southampton   yes   True\n",
            "632         1       1    male  32.00      0      0   30.5000        C   First    man        True    B    Cherbourg   yes   True\n",
            "641         1       1  female  24.00      0      0   69.3000        C   First  woman       False    B    Cherbourg   yes   True\n",
            "645         1       1    male  48.00      1      0   76.7292        C   First    man        True    D    Cherbourg   yes  False\n",
            "647         1       1    male  56.00      0      0   35.5000        C   First    man        True    A    Cherbourg   yes   True\n",
            "659         0       1    male  58.00      0      2  113.2750        C   First    man        True    D    Cherbourg    no  False\n",
            "662         0       1    male  47.00      0      0   25.5875        S   First    man        True    E  Southampton    no   True\n",
            "671         0       1    male  31.00      1      0   52.0000        S   First    man        True    B  Southampton    no  False\n",
            "679         1       1    male  36.00      0      1  512.3292        C   First    man        True    B    Cherbourg   yes  False\n",
            "681         1       1    male  27.00      0      0   76.7292        C   First    man        True    D    Cherbourg   yes   True\n",
            "689         1       1  female  15.00      0      1  211.3375        S   First  child       False    B  Southampton   yes  False\n",
            "690         1       1    male  31.00      1      0   57.0000        S   First    man        True    B  Southampton   yes  False\n",
            "698         0       1    male  49.00      1      1  110.8833        C   First    man        True    C    Cherbourg    no  False\n",
            "699         0       3    male  42.00      0      0    7.6500        S   Third    man        True    F  Southampton    no   True\n",
            "700         1       1  female  18.00      1      0  227.5250        C   First  woman       False    C    Cherbourg   yes  False\n",
            "701         1       1    male  35.00      0      0   26.2875        S   First    man        True    E  Southampton   yes   True\n",
            "707         1       1    male  42.00      0      0   26.2875        S   First    man        True    E  Southampton   yes   True\n",
            "710         1       1  female  24.00      0      0   49.5042        C   First  woman       False    C    Cherbourg   yes   True\n",
            "712         1       1    male  48.00      1      0   52.0000        S   First    man        True    C  Southampton   yes  False\n",
            "715         0       3    male  19.00      0      0    7.6500        S   Third    man        True    F  Southampton    no   True\n",
            "716         1       1  female  38.00      0      0  227.5250        C   First  woman       False    C    Cherbourg   yes   True\n",
            "717         1       2  female  27.00      0      0   10.5000        S  Second  woman       False    E  Southampton   yes   True\n",
            "724         1       1    male  27.00      1      0   53.1000        S   First    man        True    E  Southampton   yes  False\n",
            "730         1       1  female  29.00      0      0  211.3375        S   First  woman       False    B  Southampton   yes   True\n",
            "737         1       1    male  35.00      0      0  512.3292        C   First    man        True    B    Cherbourg   yes   True\n",
            "741         0       1    male  36.00      1      0   78.8500        S   First    man        True    C  Southampton    no  False\n",
            "742         1       1  female  21.00      2      2  262.3750        C   First  woman       False    B    Cherbourg   yes  False\n",
            "745         0       1    male  70.00      1      1   71.0000        S   First    man        True    B  Southampton    no  False\n",
            "748         0       1    male  19.00      1      0   53.1000        S   First    man        True    D  Southampton    no  False\n",
            "751         1       3    male   6.00      0      1   12.4750        S   Third  child       False    E  Southampton   yes  False\n",
            "759         1       1  female  33.00      0      0   86.5000        S   First  woman       False    B  Southampton   yes   True\n",
            "763         1       1  female  36.00      1      2  120.0000        S   First  woman       False    B  Southampton   yes  False\n",
            "765         1       1  female  51.00      1      0   77.9583        S   First  woman       False    D  Southampton   yes  False\n",
            "772         0       2  female  57.00      0      0   10.5000        S  Second  woman       False    E  Southampton    no   True\n",
            "779         1       1  female  43.00      0      1  211.3375        S   First  woman       False    B  Southampton   yes  False\n",
            "781         1       1  female  17.00      1      0   57.0000        S   First  woman       False    B  Southampton   yes  False\n",
            "782         0       1    male  29.00      0      0   30.0000        S   First    man        True    D  Southampton    no   True\n",
            "789         0       1    male  46.00      0      0   79.2000        C   First    man        True    B    Cherbourg    no   True\n",
            "796         1       1  female  49.00      0      0   25.9292        S   First  woman       False    D  Southampton   yes   True\n",
            "802         1       1    male  11.00      1      2  120.0000        S   First  child       False    B  Southampton   yes  False\n",
            "806         0       1    male  39.00      0      0    0.0000        S   First    man        True    A  Southampton    no   True\n",
            "809         1       1  female  33.00      1      0   53.1000        S   First  woman       False    E  Southampton   yes  False\n",
            "820         1       1  female  52.00      1      1   93.5000        S   First  woman       False    B  Southampton   yes  False\n",
            "823         1       3  female  27.00      0      1   12.4750        S   Third  woman       False    E  Southampton   yes  False\n",
            "835         1       1  female  39.00      1      1   83.1583        C   First  woman       False    E    Cherbourg   yes  False\n",
            "853         1       1  female  16.00      0      1   39.4000        S   First  woman       False    D  Southampton   yes  False\n",
            "857         1       1    male  51.00      0      0   26.5500        S   First    man        True    E  Southampton   yes   True\n",
            "862         1       1  female  48.00      0      0   25.9292        S   First  woman       False    D  Southampton   yes   True\n",
            "867         0       1    male  31.00      0      0   50.4958        S   First    man        True    A  Southampton    no   True\n",
            "871         1       1  female  47.00      1      1   52.5542        S   First  woman       False    D  Southampton   yes  False\n",
            "872         0       1    male  33.00      0      0    5.0000        S   First    man        True    B  Southampton    no   True\n",
            "879         1       1  female  56.00      0      1   83.1583        C   First  woman       False    C    Cherbourg   yes  False\n",
            "887         1       1  female  19.00      0      0   30.0000        S   First  woman       False    B  Southampton   yes   True\n",
            "889         1       1    male  26.00      0      0   30.0000        C   First    man        True    C    Cherbourg   yes   True\n"
          ]
        }
      ]
    },
    {
      "cell_type": "code",
      "metadata": {
        "colab": {
          "base_uri": "https://localhost:8080/"
        },
        "id": "Ts4eUs98FNNA",
        "outputId": "92de3ac7-f213-405e-e0ff-33bfcee6b5a2"
      },
      "source": [
        "new_df.info"
      ],
      "execution_count": 66,
      "outputs": [
        {
          "output_type": "execute_result",
          "data": {
            "text/plain": [
              "<bound method DataFrame.info of      survived  pclass     sex   age  ...  deck  embark_town  alive  alone\n",
              "1           1       1  female  38.0  ...     C    Cherbourg    yes  False\n",
              "3           1       1  female  35.0  ...     C  Southampton    yes  False\n",
              "6           0       1    male  54.0  ...     E  Southampton     no   True\n",
              "10          1       3  female   4.0  ...     G  Southampton    yes  False\n",
              "11          1       1  female  58.0  ...     C  Southampton    yes   True\n",
              "..        ...     ...     ...   ...  ...   ...          ...    ...    ...\n",
              "871         1       1  female  47.0  ...     D  Southampton    yes  False\n",
              "872         0       1    male  33.0  ...     B  Southampton     no   True\n",
              "879         1       1  female  56.0  ...     C    Cherbourg    yes  False\n",
              "887         1       1  female  19.0  ...     B  Southampton    yes   True\n",
              "889         1       1    male  26.0  ...     C    Cherbourg    yes   True\n",
              "\n",
              "[182 rows x 15 columns]>"
            ]
          },
          "metadata": {},
          "execution_count": 66
        }
      ]
    },
    {
      "cell_type": "code",
      "metadata": {
        "colab": {
          "base_uri": "https://localhost:8080/"
        },
        "id": "0WnX7EoENWEn",
        "outputId": "612f05b4-6f6b-48dc-e2c7-8d8cfcf15bbc"
      },
      "source": [
        "#To discover duplicates, we can use the duplicated() method.\n",
        "#The duplicated() method returns a Boolean values for each row:\n",
        "print(new_df.duplicated())"
      ],
      "execution_count": 68,
      "outputs": [
        {
          "output_type": "stream",
          "name": "stdout",
          "text": [
            "1      False\n",
            "3      False\n",
            "6      False\n",
            "10     False\n",
            "11     False\n",
            "       ...  \n",
            "871    False\n",
            "872    False\n",
            "879    False\n",
            "887    False\n",
            "889    False\n",
            "Length: 182, dtype: bool\n"
          ]
        }
      ]
    },
    {
      "cell_type": "code",
      "metadata": {
        "id": "aYaYWrLNNsLr"
      },
      "source": [
        "#remove duplicates\n",
        "#df.drop_duplicates(inplace = True)"
      ],
      "execution_count": 69,
      "outputs": []
    },
    {
      "cell_type": "code",
      "metadata": {
        "colab": {
          "base_uri": "https://localhost:8080/",
          "height": 300
        },
        "id": "A2jCiTyhxuAx",
        "outputId": "f348931e-6074-494f-ff14-7d36e8a6f386"
      },
      "source": [
        "#descriptive stats for all single columns\n",
        "new_df.describe()"
      ],
      "execution_count": 72,
      "outputs": [
        {
          "output_type": "execute_result",
          "data": {
            "text/html": [
              "<div>\n",
              "<style scoped>\n",
              "    .dataframe tbody tr th:only-of-type {\n",
              "        vertical-align: middle;\n",
              "    }\n",
              "\n",
              "    .dataframe tbody tr th {\n",
              "        vertical-align: top;\n",
              "    }\n",
              "\n",
              "    .dataframe thead th {\n",
              "        text-align: right;\n",
              "    }\n",
              "</style>\n",
              "<table border=\"1\" class=\"dataframe\">\n",
              "  <thead>\n",
              "    <tr style=\"text-align: right;\">\n",
              "      <th></th>\n",
              "      <th>survived</th>\n",
              "      <th>pclass</th>\n",
              "      <th>age</th>\n",
              "      <th>sibsp</th>\n",
              "      <th>parch</th>\n",
              "      <th>fare</th>\n",
              "    </tr>\n",
              "  </thead>\n",
              "  <tbody>\n",
              "    <tr>\n",
              "      <th>count</th>\n",
              "      <td>182.000000</td>\n",
              "      <td>182.000000</td>\n",
              "      <td>182.000000</td>\n",
              "      <td>182.000000</td>\n",
              "      <td>182.000000</td>\n",
              "      <td>182.000000</td>\n",
              "    </tr>\n",
              "    <tr>\n",
              "      <th>mean</th>\n",
              "      <td>0.675824</td>\n",
              "      <td>1.192308</td>\n",
              "      <td>35.623187</td>\n",
              "      <td>0.467033</td>\n",
              "      <td>0.478022</td>\n",
              "      <td>78.919735</td>\n",
              "    </tr>\n",
              "    <tr>\n",
              "      <th>std</th>\n",
              "      <td>0.469357</td>\n",
              "      <td>0.516411</td>\n",
              "      <td>15.671615</td>\n",
              "      <td>0.645007</td>\n",
              "      <td>0.755869</td>\n",
              "      <td>76.490774</td>\n",
              "    </tr>\n",
              "    <tr>\n",
              "      <th>min</th>\n",
              "      <td>0.000000</td>\n",
              "      <td>1.000000</td>\n",
              "      <td>0.920000</td>\n",
              "      <td>0.000000</td>\n",
              "      <td>0.000000</td>\n",
              "      <td>0.000000</td>\n",
              "    </tr>\n",
              "    <tr>\n",
              "      <th>25%</th>\n",
              "      <td>0.000000</td>\n",
              "      <td>1.000000</td>\n",
              "      <td>24.000000</td>\n",
              "      <td>0.000000</td>\n",
              "      <td>0.000000</td>\n",
              "      <td>29.700000</td>\n",
              "    </tr>\n",
              "    <tr>\n",
              "      <th>50%</th>\n",
              "      <td>1.000000</td>\n",
              "      <td>1.000000</td>\n",
              "      <td>36.000000</td>\n",
              "      <td>0.000000</td>\n",
              "      <td>0.000000</td>\n",
              "      <td>57.000000</td>\n",
              "    </tr>\n",
              "    <tr>\n",
              "      <th>75%</th>\n",
              "      <td>1.000000</td>\n",
              "      <td>1.000000</td>\n",
              "      <td>47.750000</td>\n",
              "      <td>1.000000</td>\n",
              "      <td>1.000000</td>\n",
              "      <td>90.000000</td>\n",
              "    </tr>\n",
              "    <tr>\n",
              "      <th>max</th>\n",
              "      <td>1.000000</td>\n",
              "      <td>3.000000</td>\n",
              "      <td>80.000000</td>\n",
              "      <td>3.000000</td>\n",
              "      <td>4.000000</td>\n",
              "      <td>512.329200</td>\n",
              "    </tr>\n",
              "  </tbody>\n",
              "</table>\n",
              "</div>"
            ],
            "text/plain": [
              "         survived      pclass         age       sibsp       parch        fare\n",
              "count  182.000000  182.000000  182.000000  182.000000  182.000000  182.000000\n",
              "mean     0.675824    1.192308   35.623187    0.467033    0.478022   78.919735\n",
              "std      0.469357    0.516411   15.671615    0.645007    0.755869   76.490774\n",
              "min      0.000000    1.000000    0.920000    0.000000    0.000000    0.000000\n",
              "25%      0.000000    1.000000   24.000000    0.000000    0.000000   29.700000\n",
              "50%      1.000000    1.000000   36.000000    0.000000    0.000000   57.000000\n",
              "75%      1.000000    1.000000   47.750000    1.000000    1.000000   90.000000\n",
              "max      1.000000    3.000000   80.000000    3.000000    4.000000  512.329200"
            ]
          },
          "metadata": {},
          "execution_count": 72
        }
      ]
    },
    {
      "cell_type": "code",
      "metadata": {
        "colab": {
          "base_uri": "https://localhost:8080/"
        },
        "id": "IlKumOlwyER8",
        "outputId": "764ac9e1-aa39-432e-809d-ed4ba6c27ad4"
      },
      "source": [
        "#descriptive stats for all single columns\n",
        "new_df.value_counts()"
      ],
      "execution_count": 109,
      "outputs": [
        {
          "output_type": "execute_result",
          "data": {
            "text/plain": [
              "survived  pclass  sex     age   sibsp  parch  fare      embarked  class  who    adult_male  deck  embark_town  alive  alone\n",
              "1         1       female  24.0  0      0      69.3000   C         First  woman  False       B     Cherbourg    yes    True     2\n",
              "          3       male    32.0  0      0      8.0500    S         Third  man    True        E     Southampton  yes    True     1\n",
              "0         3       female  29.0  1      1      10.4625   S         Third  woman  False       G     Southampton  no     False    1\n",
              "1         1       female  17.0  1      0      57.0000   S         First  woman  False       B     Southampton  yes    False    1\n",
              "                          16.0  0      1      57.9792   C         First  woman  False       B     Cherbourg    yes    False    1\n",
              "                                                                                                                              ..\n",
              "                          51.0  1      0      77.9583   S         First  woman  False       D     Southampton  yes    False    1\n",
              "                          50.0  0      1      247.5208  C         First  woman  False       B     Cherbourg    yes    False    1\n",
              "                          49.0  1      0      76.7292   C         First  woman  False       D     Cherbourg    yes    False    1\n",
              "                                0      0      25.9292   S         First  woman  False       D     Southampton  yes    True     1\n",
              "0         1       female  2.0   1      2      151.5500  S         First  child  False       C     Southampton  no     False    1\n",
              "Length: 181, dtype: int64"
            ]
          },
          "metadata": {},
          "execution_count": 109
        }
      ]
    },
    {
      "cell_type": "code",
      "metadata": {
        "colab": {
          "base_uri": "https://localhost:8080/"
        },
        "id": "ym0LYxgtx6x4",
        "outputId": "7e4fdce3-4e10-4ac4-ebde-0e0271077a55"
      },
      "source": [
        "#descriptive stats for all single columns\n",
        "new_df.mean()"
      ],
      "execution_count": 84,
      "outputs": [
        {
          "output_type": "execute_result",
          "data": {
            "text/plain": [
              "survived       0.675824\n",
              "pclass         1.192308\n",
              "age           35.623187\n",
              "sibsp          0.467033\n",
              "parch          0.478022\n",
              "fare          78.919735\n",
              "adult_male     0.478022\n",
              "alone          0.428571\n",
              "dtype: float64"
            ]
          },
          "metadata": {},
          "execution_count": 84
        }
      ]
    },
    {
      "cell_type": "code",
      "metadata": {
        "colab": {
          "base_uri": "https://localhost:8080/"
        },
        "id": "qMCciEizV0Cs",
        "outputId": "f1dd7ff8-7aa2-4380-d4bf-deb1a7c26c2d"
      },
      "source": [
        "new_df.median()"
      ],
      "execution_count": 85,
      "outputs": [
        {
          "output_type": "execute_result",
          "data": {
            "text/plain": [
              "survived       1.0\n",
              "pclass         1.0\n",
              "age           36.0\n",
              "sibsp          0.0\n",
              "parch          0.0\n",
              "fare          57.0\n",
              "adult_male     0.0\n",
              "alone          0.0\n",
              "dtype: float64"
            ]
          },
          "metadata": {},
          "execution_count": 85
        }
      ]
    },
    {
      "cell_type": "code",
      "metadata": {
        "colab": {
          "base_uri": "https://localhost:8080/"
        },
        "id": "TEnGWXDSV0bv",
        "outputId": "b3717ca2-fb88-48ae-a020-6a2db3f79004"
      },
      "source": [
        "new_df.std()"
      ],
      "execution_count": 87,
      "outputs": [
        {
          "output_type": "execute_result",
          "data": {
            "text/plain": [
              "survived       0.469357\n",
              "pclass         0.516411\n",
              "age           15.671615\n",
              "sibsp          0.645007\n",
              "parch          0.755869\n",
              "fare          76.490774\n",
              "adult_male     0.500895\n",
              "alone          0.496237\n",
              "dtype: float64"
            ]
          },
          "metadata": {},
          "execution_count": 87
        }
      ]
    },
    {
      "cell_type": "code",
      "metadata": {
        "colab": {
          "base_uri": "https://localhost:8080/"
        },
        "id": "C4MKOQ5DEu3Q",
        "outputId": "975acda2-cdf5-4f78-ee12-b9697f66e7b1"
      },
      "source": [
        "men = new_df.loc[new_df.sex == 'male'][\"survived\"]\n",
        "rate_men = sum(men)/len(men)\n",
        "\n",
        "print(\"% of men who survived:\", rate_men)"
      ],
      "execution_count": 76,
      "outputs": [
        {
          "output_type": "stream",
          "name": "stdout",
          "text": [
            "% of men who survived: 0.43617021276595747\n"
          ]
        }
      ]
    },
    {
      "cell_type": "code",
      "metadata": {
        "colab": {
          "base_uri": "https://localhost:8080/"
        },
        "id": "3J-eIyaHFP8E",
        "outputId": "a079d242-86fe-44aa-e484-c069a5d24549"
      },
      "source": [
        "women = new_df.loc[new_df.sex == 'female'][\"survived\"]\n",
        "rate_women = sum(women)/len(women)\n",
        "\n",
        "print(\"% of women who survived:\", rate_women)"
      ],
      "execution_count": 78,
      "outputs": [
        {
          "output_type": "stream",
          "name": "stdout",
          "text": [
            "% of women who survived: 0.9318181818181818\n"
          ]
        }
      ]
    },
    {
      "cell_type": "code",
      "metadata": {
        "colab": {
          "base_uri": "https://localhost:8080/",
          "height": 300
        },
        "id": "VsgvYRwAzESU",
        "outputId": "251ea51c-6dbc-4c91-8b95-f4292f402f54"
      },
      "source": [
        "#descriptive stats for all pairs of columns\n",
        "new_df.corr()\n"
      ],
      "execution_count": 79,
      "outputs": [
        {
          "output_type": "execute_result",
          "data": {
            "text/html": [
              "<div>\n",
              "<style scoped>\n",
              "    .dataframe tbody tr th:only-of-type {\n",
              "        vertical-align: middle;\n",
              "    }\n",
              "\n",
              "    .dataframe tbody tr th {\n",
              "        vertical-align: top;\n",
              "    }\n",
              "\n",
              "    .dataframe thead th {\n",
              "        text-align: right;\n",
              "    }\n",
              "</style>\n",
              "<table border=\"1\" class=\"dataframe\">\n",
              "  <thead>\n",
              "    <tr style=\"text-align: right;\">\n",
              "      <th></th>\n",
              "      <th>survived</th>\n",
              "      <th>pclass</th>\n",
              "      <th>age</th>\n",
              "      <th>sibsp</th>\n",
              "      <th>parch</th>\n",
              "      <th>fare</th>\n",
              "      <th>adult_male</th>\n",
              "      <th>alone</th>\n",
              "    </tr>\n",
              "  </thead>\n",
              "  <tbody>\n",
              "    <tr>\n",
              "      <th>survived</th>\n",
              "      <td>1.000000</td>\n",
              "      <td>-0.037698</td>\n",
              "      <td>-0.251045</td>\n",
              "      <td>0.101376</td>\n",
              "      <td>0.018739</td>\n",
              "      <td>0.130632</td>\n",
              "      <td>-0.582727</td>\n",
              "      <td>-0.111827</td>\n",
              "    </tr>\n",
              "    <tr>\n",
              "      <th>pclass</th>\n",
              "      <td>-0.037698</td>\n",
              "      <td>1.000000</td>\n",
              "      <td>-0.305708</td>\n",
              "      <td>-0.105262</td>\n",
              "      <td>0.046273</td>\n",
              "      <td>-0.316796</td>\n",
              "      <td>-0.122403</td>\n",
              "      <td>0.064678</td>\n",
              "    </tr>\n",
              "    <tr>\n",
              "      <th>age</th>\n",
              "      <td>-0.251045</td>\n",
              "      <td>-0.305708</td>\n",
              "      <td>1.000000</td>\n",
              "      <td>-0.154160</td>\n",
              "      <td>-0.269757</td>\n",
              "      <td>-0.090730</td>\n",
              "      <td>0.338384</td>\n",
              "      <td>0.203460</td>\n",
              "    </tr>\n",
              "    <tr>\n",
              "      <th>sibsp</th>\n",
              "      <td>0.101376</td>\n",
              "      <td>-0.105262</td>\n",
              "      <td>-0.154160</td>\n",
              "      <td>1.000000</td>\n",
              "      <td>0.253478</td>\n",
              "      <td>0.284841</td>\n",
              "      <td>-0.147610</td>\n",
              "      <td>-0.628796</td>\n",
              "    </tr>\n",
              "    <tr>\n",
              "      <th>parch</th>\n",
              "      <td>0.018739</td>\n",
              "      <td>0.046273</td>\n",
              "      <td>-0.269757</td>\n",
              "      <td>0.253478</td>\n",
              "      <td>1.000000</td>\n",
              "      <td>0.388540</td>\n",
              "      <td>-0.183689</td>\n",
              "      <td>-0.549197</td>\n",
              "    </tr>\n",
              "    <tr>\n",
              "      <th>fare</th>\n",
              "      <td>0.130632</td>\n",
              "      <td>-0.316796</td>\n",
              "      <td>-0.090730</td>\n",
              "      <td>0.284841</td>\n",
              "      <td>0.388540</td>\n",
              "      <td>1.000000</td>\n",
              "      <td>-0.114147</td>\n",
              "      <td>-0.298233</td>\n",
              "    </tr>\n",
              "    <tr>\n",
              "      <th>adult_male</th>\n",
              "      <td>-0.582727</td>\n",
              "      <td>-0.122403</td>\n",
              "      <td>0.338384</td>\n",
              "      <td>-0.147610</td>\n",
              "      <td>-0.183689</td>\n",
              "      <td>-0.114147</td>\n",
              "      <td>1.000000</td>\n",
              "      <td>0.193695</td>\n",
              "    </tr>\n",
              "    <tr>\n",
              "      <th>alone</th>\n",
              "      <td>-0.111827</td>\n",
              "      <td>0.064678</td>\n",
              "      <td>0.203460</td>\n",
              "      <td>-0.628796</td>\n",
              "      <td>-0.549197</td>\n",
              "      <td>-0.298233</td>\n",
              "      <td>0.193695</td>\n",
              "      <td>1.000000</td>\n",
              "    </tr>\n",
              "  </tbody>\n",
              "</table>\n",
              "</div>"
            ],
            "text/plain": [
              "            survived    pclass       age  ...      fare  adult_male     alone\n",
              "survived    1.000000 -0.037698 -0.251045  ...  0.130632   -0.582727 -0.111827\n",
              "pclass     -0.037698  1.000000 -0.305708  ... -0.316796   -0.122403  0.064678\n",
              "age        -0.251045 -0.305708  1.000000  ... -0.090730    0.338384  0.203460\n",
              "sibsp       0.101376 -0.105262 -0.154160  ...  0.284841   -0.147610 -0.628796\n",
              "parch       0.018739  0.046273 -0.269757  ...  0.388540   -0.183689 -0.549197\n",
              "fare        0.130632 -0.316796 -0.090730  ...  1.000000   -0.114147 -0.298233\n",
              "adult_male -0.582727 -0.122403  0.338384  ... -0.114147    1.000000  0.193695\n",
              "alone      -0.111827  0.064678  0.203460  ... -0.298233    0.193695  1.000000\n",
              "\n",
              "[8 rows x 8 columns]"
            ]
          },
          "metadata": {},
          "execution_count": 79
        }
      ]
    },
    {
      "cell_type": "code",
      "metadata": {
        "colab": {
          "base_uri": "https://localhost:8080/",
          "height": 283
        },
        "id": "SqguHPNqO0d0",
        "outputId": "38670a08-51eb-4a19-ead4-f2f3cef1c48c"
      },
      "source": [
        "new_df.plot()\n"
      ],
      "execution_count": 107,
      "outputs": [
        {
          "output_type": "execute_result",
          "data": {
            "text/plain": [
              "<matplotlib.axes._subplots.AxesSubplot at 0x7f4f6e517750>"
            ]
          },
          "metadata": {},
          "execution_count": 107
        },
        {
          "output_type": "display_data",
          "data": {
            "image/png": "[encoded data removed]",
            "text/plain": [
              "<Figure size 432x288 with 1 Axes>"
            ]
          },
          "metadata": {
            "needs_background": "light"
          }
        }
      ]
    },
    {
      "cell_type": "code",
      "metadata": {
        "colab": {
          "base_uri": "https://localhost:8080/",
          "height": 542
        },
        "id": "Z2tTK_YcQePd",
        "outputId": "3384149c-519f-4a6a-d43b-4334e14c888f"
      },
      "source": [
        "px.histogram(ti, x='age', title='Was There An Age Bias?')"
      ],
      "execution_count": 81,
      "outputs": [
        {
          "output_type": "display_data",
          "data": {
            "text/html": [
              "<html>\n",
              "<head><meta charset=\"utf-8\" /></head>\n",
              "<body>\n",
              "    <div>\n",
              "            <script src=\"https://cdnjs.cloudflare.com/ajax/libs/mathjax/2.7.5/MathJax.js?config=TeX-AMS-MML_SVG\"></script><script type=\"text/javascript\">if (window.MathJax) {MathJax.Hub.Config({SVG: {font: \"STIX-Web\"}});}</script>\n",
              "                <script type=\"text/javascript\">window.PlotlyConfig = {MathJaxConfig: 'local'};</script>\n",
              "        <script src=\"https://cdn.plot.ly/plotly-latest.min.js\"></script>    \n",
              "            <div id=\"1b88f47e-23ad-4e3e-a0a9-5cd3bac06285\" class=\"plotly-graph-div\" style=\"height:525px; width:100%;\"></div>\n",
              "            <script type=\"text/javascript\">\n",
              "                \n",
              "                    window.PLOTLYENV=window.PLOTLYENV || {};\n",
              "                    \n",
              "                if (document.getElementById(\"1b88f47e-23ad-4e3e-a0a9-5cd3bac06285\")) {\n",
              "                    Plotly.newPlot(\n",
              "                        '1b88f47e-23ad-4e3e-a0a9-5cd3bac06285',\n",
              "                        [{\"alignmentgroup\": \"True\", \"bingroup\": \"x\", \"hoverlabel\": {\"namelength\": 0}, \"hovertemplate\": \"age=%{x}<br>count=%{y}\", \"legendgroup\": \"\", \"marker\": {\"color\": \"#636efa\"}, \"name\": \"\", \"offsetgroup\": \"\", \"orientation\": \"v\", \"showlegend\": false, \"type\": \"histogram\", \"x\": [22.0, 38.0, 26.0, 35.0, 35.0, null, 54.0, 2.0, 27.0, 14.0, 4.0, 58.0, 20.0, 39.0, 14.0, 55.0, 2.0, null, 31.0, null, 35.0, 34.0, 15.0, 28.0, 8.0, 38.0, null, 19.0, null, null, 40.0, null, null, 66.0, 28.0, 42.0, null, 21.0, 18.0, 14.0, 40.0, 27.0, null, 3.0, 19.0, null, null, null, null, 18.0, 7.0, 21.0, 49.0, 29.0, 65.0, null, 21.0, 28.5, 5.0, 11.0, 22.0, 38.0, 45.0, 4.0, null, null, 29.0, 19.0, 17.0, 26.0, 32.0, 16.0, 21.0, 26.0, 32.0, 25.0, null, null, 0.83, 30.0, 22.0, 29.0, null, 28.0, 17.0, 33.0, 16.0, null, 23.0, 24.0, 29.0, 20.0, 46.0, 26.0, 59.0, null, 71.0, 23.0, 34.0, 34.0, 28.0, null, 21.0, 33.0, 37.0, 28.0, 21.0, null, 38.0, null, 47.0, 14.5, 22.0, 20.0, 17.0, 21.0, 70.5, 29.0, 24.0, 2.0, 21.0, null, 32.5, 32.5, 54.0, 12.0, null, 24.0, null, 45.0, 33.0, 20.0, 47.0, 29.0, 25.0, 23.0, 19.0, 37.0, 16.0, 24.0, null, 22.0, 24.0, 19.0, 18.0, 19.0, 27.0, 9.0, 36.5, 42.0, 51.0, 22.0, 55.5, 40.5, null, 51.0, 16.0, 30.0, null, null, 44.0, 40.0, 26.0, 17.0, 1.0, 9.0, null, 45.0, null, 28.0, 61.0, 4.0, 1.0, 21.0, 56.0, 18.0, null, 50.0, 30.0, 36.0, null, null, 9.0, 1.0, 4.0, null, null, 45.0, 40.0, 36.0, 32.0, 19.0, 19.0, 3.0, 44.0, 58.0, null, 42.0, null, 24.0, 28.0, null, 34.0, 45.5, 18.0, 2.0, 32.0, 26.0, 16.0, 40.0, 24.0, 35.0, 22.0, 30.0, null, 31.0, 27.0, 42.0, 32.0, 30.0, 16.0, 27.0, 51.0, null, 38.0, 22.0, 19.0, 20.5, 18.0, null, 35.0, 29.0, 59.0, 5.0, 24.0, null, 44.0, 8.0, 19.0, 33.0, null, null, 29.0, 22.0, 30.0, 44.0, 25.0, 24.0, 37.0, 54.0, null, 29.0, 62.0, 30.0, 41.0, 29.0, null, 30.0, 35.0, 50.0, null, 3.0, 52.0, 40.0, null, 36.0, 16.0, 25.0, 58.0, 35.0, null, 25.0, 41.0, 37.0, null, 63.0, 45.0, null, 7.0, 35.0, 65.0, 28.0, 16.0, 19.0, null, 33.0, 30.0, 22.0, 42.0, 22.0, 26.0, 19.0, 36.0, 24.0, 24.0, null, 23.5, 2.0, null, 50.0, null, null, 19.0, null, null, 0.92, null, 17.0, 30.0, 30.0, 24.0, 18.0, 26.0, 28.0, 43.0, 26.0, 24.0, 54.0, 31.0, 40.0, 22.0, 27.0, 30.0, 22.0, null, 36.0, 61.0, 36.0, 31.0, 16.0, null, 45.5, 38.0, 16.0, null, null, 29.0, 41.0, 45.0, 45.0, 2.0, 24.0, 28.0, 25.0, 36.0, 24.0, 40.0, null, 3.0, 42.0, 23.0, null, 15.0, 25.0, null, 28.0, 22.0, 38.0, null, null, 40.0, 29.0, 45.0, 35.0, null, 30.0, 60.0, null, null, 24.0, 25.0, 18.0, 19.0, 22.0, 3.0, null, 22.0, 27.0, 20.0, 19.0, 42.0, 1.0, 32.0, 35.0, null, 18.0, 1.0, 36.0, null, 17.0, 36.0, 21.0, 28.0, 23.0, 24.0, 22.0, 31.0, 46.0, 23.0, 28.0, 39.0, 26.0, 21.0, 28.0, 20.0, 34.0, 51.0, 3.0, 21.0, null, null, null, 33.0, null, 44.0, null, 34.0, 18.0, 30.0, 10.0, null, 21.0, 29.0, 28.0, 18.0, null, 28.0, 19.0, null, 32.0, 28.0, null, 42.0, 17.0, 50.0, 14.0, 21.0, 24.0, 64.0, 31.0, 45.0, 20.0, 25.0, 28.0, null, 4.0, 13.0, 34.0, 5.0, 52.0, 36.0, null, 30.0, 49.0, null, 29.0, 65.0, null, 50.0, null, 48.0, 34.0, 47.0, 48.0, null, 38.0, null, 56.0, null, 0.75, null, 38.0, 33.0, 23.0, 22.0, null, 34.0, 29.0, 22.0, 2.0, 9.0, null, 50.0, 63.0, 25.0, null, 35.0, 58.0, 30.0, 9.0, null, 21.0, 55.0, 71.0, 21.0, null, 54.0, null, 25.0, 24.0, 17.0, 21.0, null, 37.0, 16.0, 18.0, 33.0, null, 28.0, 26.0, 29.0, null, 36.0, 54.0, 24.0, 47.0, 34.0, null, 36.0, 32.0, 30.0, 22.0, null, 44.0, null, 40.5, 50.0, null, 39.0, 23.0, 2.0, null, 17.0, null, 30.0, 7.0, 45.0, 30.0, null, 22.0, 36.0, 9.0, 11.0, 32.0, 50.0, 64.0, 19.0, null, 33.0, 8.0, 17.0, 27.0, null, 22.0, 22.0, 62.0, 48.0, null, 39.0, 36.0, null, 40.0, 28.0, null, null, 24.0, 19.0, 29.0, null, 32.0, 62.0, 53.0, 36.0, null, 16.0, 19.0, 34.0, 39.0, null, 32.0, 25.0, 39.0, 54.0, 36.0, null, 18.0, 47.0, 60.0, 22.0, null, 35.0, 52.0, 47.0, null, 37.0, 36.0, null, 49.0, null, 49.0, 24.0, null, null, 44.0, 35.0, 36.0, 30.0, 27.0, 22.0, 40.0, 39.0, null, null, null, 35.0, 24.0, 34.0, 26.0, 4.0, 26.0, 27.0, 42.0, 20.0, 21.0, 21.0, 61.0, 57.0, 21.0, 26.0, null, 80.0, 51.0, 32.0, null, 9.0, 28.0, 32.0, 31.0, 41.0, null, 20.0, 24.0, 2.0, null, 0.75, 48.0, 19.0, 56.0, null, 23.0, null, 18.0, 21.0, null, 18.0, 24.0, null, 32.0, 23.0, 58.0, 50.0, 40.0, 47.0, 36.0, 20.0, 32.0, 25.0, null, 43.0, null, 40.0, 31.0, 70.0, 31.0, null, 18.0, 24.5, 18.0, 43.0, 36.0, null, 27.0, 20.0, 14.0, 60.0, 25.0, 14.0, 19.0, 18.0, 15.0, 31.0, 4.0, null, 25.0, 60.0, 52.0, 44.0, null, 49.0, 42.0, 18.0, 35.0, 18.0, 25.0, 26.0, 39.0, 45.0, 42.0, 22.0, null, 24.0, null, 48.0, 29.0, 52.0, 19.0, 38.0, 27.0, null, 33.0, 6.0, 17.0, 34.0, 50.0, 27.0, 20.0, 30.0, null, 25.0, 25.0, 29.0, 11.0, null, 23.0, 23.0, 28.5, 48.0, 35.0, null, null, null, 36.0, 21.0, 24.0, 31.0, 70.0, 16.0, 30.0, 19.0, 31.0, 4.0, 6.0, 33.0, 23.0, 48.0, 0.67, 28.0, 18.0, 34.0, 33.0, null, 41.0, 20.0, 36.0, 16.0, 51.0, null, 30.5, null, 32.0, 24.0, 48.0, 57.0, null, 54.0, 18.0, null, 5.0, null, 43.0, 13.0, 17.0, 29.0, null, 25.0, 25.0, 18.0, 8.0, 1.0, 46.0, null, 16.0, null, null, 25.0, 39.0, 49.0, 31.0, 30.0, 30.0, 34.0, 31.0, 11.0, 0.42, 27.0, 31.0, 39.0, 18.0, 39.0, 33.0, 26.0, 39.0, 35.0, 6.0, 30.5, null, 23.0, 31.0, 43.0, 10.0, 52.0, 27.0, 38.0, 27.0, 2.0, null, null, 1.0, null, 62.0, 15.0, 0.83, null, 23.0, 18.0, 39.0, 21.0, null, 32.0, null, 20.0, 16.0, 30.0, 34.5, 17.0, 42.0, null, 35.0, 28.0, null, 4.0, 74.0, 9.0, 16.0, 44.0, 18.0, 45.0, 51.0, 24.0, null, 41.0, 21.0, 48.0, null, 24.0, 42.0, 27.0, 31.0, null, 4.0, 26.0, 47.0, 33.0, 47.0, 28.0, 15.0, 20.0, 19.0, null, 56.0, 25.0, 33.0, 22.0, 28.0, 25.0, 39.0, 27.0, 19.0, null, 26.0, 32.0], \"xaxis\": \"x\", \"yaxis\": \"y\"}],\n",
              "                        {\"barmode\": \"relative\", \"legend\": {\"tracegroupgap\": 0}, \"template\": {\"data\": {\"bar\": [{\"error_x\": {\"color\": \"#2a3f5f\"}, \"error_y\": {\"color\": \"#2a3f5f\"}, \"marker\": {\"line\": {\"color\": \"#E5ECF6\", \"width\": 0.5}}, \"type\": \"bar\"}], \"barpolar\": [{\"marker\": {\"line\": {\"color\": \"#E5ECF6\", \"width\": 0.5}}, \"type\": \"barpolar\"}], \"carpet\": [{\"aaxis\": {\"endlinecolor\": \"#2a3f5f\", \"gridcolor\": \"white\", \"linecolor\": \"white\", \"minorgridcolor\": \"white\", \"startlinecolor\": \"#2a3f5f\"}, \"baxis\": {\"endlinecolor\": \"#2a3f5f\", \"gridcolor\": \"white\", \"linecolor\": \"white\", \"minorgridcolor\": \"white\", \"startlinecolor\": \"#2a3f5f\"}, \"type\": \"carpet\"}], \"choropleth\": [{\"colorbar\": {\"outlinewidth\": 0, \"ticks\": \"\"}, \"type\": \"choropleth\"}], \"contour\": [{\"colorbar\": {\"outlinewidth\": 0, \"ticks\": \"\"}, \"colorscale\": [[0.0, \"#0d0887\"], [0.1111111111111111, \"#46039f\"], [0.2222222222222222, \"#7201a8\"], [0.3333333333333333, \"#9c179e\"], [0.4444444444444444, \"#bd3786\"], [0.5555555555555556, \"#d8576b\"], [0.6666666666666666, \"#ed7953\"], [0.7777777777777778, \"#fb9f3a\"], [0.8888888888888888, \"#fdca26\"], [1.0, \"#f0f921\"]], \"type\": \"contour\"}], \"contourcarpet\": [{\"colorbar\": {\"outlinewidth\": 0, \"ticks\": \"\"}, \"type\": \"contourcarpet\"}], \"heatmap\": [{\"colorbar\": {\"outlinewidth\": 0, \"ticks\": \"\"}, \"colorscale\": [[0.0, \"#0d0887\"], [0.1111111111111111, \"#46039f\"], [0.2222222222222222, \"#7201a8\"], [0.3333333333333333, \"#9c179e\"], [0.4444444444444444, \"#bd3786\"], [0.5555555555555556, \"#d8576b\"], [0.6666666666666666, \"#ed7953\"], [0.7777777777777778, \"#fb9f3a\"], [0.8888888888888888, \"#fdca26\"], [1.0, \"#f0f921\"]], \"type\": \"heatmap\"}], \"heatmapgl\": [{\"colorbar\": {\"outlinewidth\": 0, \"ticks\": \"\"}, \"colorscale\": [[0.0, \"#0d0887\"], [0.1111111111111111, \"#46039f\"], [0.2222222222222222, \"#7201a8\"], [0.3333333333333333, \"#9c179e\"], [0.4444444444444444, \"#bd3786\"], [0.5555555555555556, \"#d8576b\"], [0.6666666666666666, \"#ed7953\"], [0.7777777777777778, \"#fb9f3a\"], [0.8888888888888888, \"#fdca26\"], [1.0, \"#f0f921\"]], \"type\": \"heatmapgl\"}], \"histogram\": [{\"marker\": {\"colorbar\": {\"outlinewidth\": 0, \"ticks\": \"\"}}, \"type\": \"histogram\"}], \"histogram2d\": [{\"colorbar\": {\"outlinewidth\": 0, \"ticks\": \"\"}, \"colorscale\": [[0.0, \"#0d0887\"], [0.1111111111111111, \"#46039f\"], [0.2222222222222222, \"#7201a8\"], [0.3333333333333333, \"#9c179e\"], [0.4444444444444444, \"#bd3786\"], [0.5555555555555556, \"#d8576b\"], [0.6666666666666666, \"#ed7953\"], [0.7777777777777778, \"#fb9f3a\"], [0.8888888888888888, \"#fdca26\"], [1.0, \"#f0f921\"]], \"type\": \"histogram2d\"}], \"histogram2dcontour\": [{\"colorbar\": {\"outlinewidth\": 0, \"ticks\": \"\"}, \"colorscale\": [[0.0, \"#0d0887\"], [0.1111111111111111, \"#46039f\"], [0.2222222222222222, \"#7201a8\"], [0.3333333333333333, \"#9c179e\"], [0.4444444444444444, \"#bd3786\"], [0.5555555555555556, \"#d8576b\"], [0.6666666666666666, \"#ed7953\"], [0.7777777777777778, \"#fb9f3a\"], [0.8888888888888888, \"#fdca26\"], [1.0, \"#f0f921\"]], \"type\": \"histogram2dcontour\"}], \"mesh3d\": [{\"colorbar\": {\"outlinewidth\": 0, \"ticks\": \"\"}, \"type\": \"mesh3d\"}], \"parcoords\": [{\"line\": {\"colorbar\": {\"outlinewidth\": 0, \"ticks\": \"\"}}, \"type\": \"parcoords\"}], \"pie\": [{\"automargin\": true, \"type\": \"pie\"}], \"scatter\": [{\"marker\": {\"colorbar\": {\"outlinewidth\": 0, \"ticks\": \"\"}}, \"type\": \"scatter\"}], \"scatter3d\": [{\"line\": {\"colorbar\": {\"outlinewidth\": 0, \"ticks\": \"\"}}, \"marker\": {\"colorbar\": {\"outlinewidth\": 0, \"ticks\": \"\"}}, \"type\": \"scatter3d\"}], \"scattercarpet\": [{\"marker\": {\"colorbar\": {\"outlinewidth\": 0, \"ticks\": \"\"}}, \"type\": \"scattercarpet\"}], \"scattergeo\": [{\"marker\": {\"colorbar\": {\"outlinewidth\": 0, \"ticks\": \"\"}}, \"type\": \"scattergeo\"}], \"scattergl\": [{\"marker\": {\"colorbar\": {\"outlinewidth\": 0, \"ticks\": \"\"}}, \"type\": \"scattergl\"}], \"scattermapbox\": [{\"marker\": {\"colorbar\": {\"outlinewidth\": 0, \"ticks\": \"\"}}, \"type\": \"scattermapbox\"}], \"scatterpolar\": [{\"marker\": {\"colorbar\": {\"outlinewidth\": 0, \"ticks\": \"\"}}, \"type\": \"scatterpolar\"}], \"scatterpolargl\": [{\"marker\": {\"colorbar\": {\"outlinewidth\": 0, \"ticks\": \"\"}}, \"type\": \"scatterpolargl\"}], \"scatterternary\": [{\"marker\": {\"colorbar\": {\"outlinewidth\": 0, \"ticks\": \"\"}}, \"type\": \"scatterternary\"}], \"surface\": [{\"colorbar\": {\"outlinewidth\": 0, \"ticks\": \"\"}, \"colorscale\": [[0.0, \"#0d0887\"], [0.1111111111111111, \"#46039f\"], [0.2222222222222222, \"#7201a8\"], [0.3333333333333333, \"#9c179e\"], [0.4444444444444444, \"#bd3786\"], [0.5555555555555556, \"#d8576b\"], [0.6666666666666666, \"#ed7953\"], [0.7777777777777778, \"#fb9f3a\"], [0.8888888888888888, \"#fdca26\"], [1.0, \"#f0f921\"]], \"type\": \"surface\"}], \"table\": [{\"cells\": {\"fill\": {\"color\": \"#EBF0F8\"}, \"line\": {\"color\": \"white\"}}, \"header\": {\"fill\": {\"color\": \"#C8D4E3\"}, \"line\": {\"color\": \"white\"}}, \"type\": \"table\"}]}, \"layout\": {\"annotationdefaults\": {\"arrowcolor\": \"#2a3f5f\", \"arrowhead\": 0, \"arrowwidth\": 1}, \"coloraxis\": {\"colorbar\": {\"outlinewidth\": 0, \"ticks\": \"\"}}, \"colorscale\": {\"diverging\": [[0, \"#8e0152\"], [0.1, \"#c51b7d\"], [0.2, \"#de77ae\"], [0.3, \"#f1b6da\"], [0.4, \"#fde0ef\"], [0.5, \"#f7f7f7\"], [0.6, \"#e6f5d0\"], [0.7, \"#b8e186\"], [0.8, \"#7fbc41\"], [0.9, \"#4d9221\"], [1, \"#276419\"]], \"sequential\": [[0.0, \"#0d0887\"], [0.1111111111111111, \"#46039f\"], [0.2222222222222222, \"#7201a8\"], [0.3333333333333333, \"#9c179e\"], [0.4444444444444444, \"#bd3786\"], [0.5555555555555556, \"#d8576b\"], [0.6666666666666666, \"#ed7953\"], [0.7777777777777778, \"#fb9f3a\"], [0.8888888888888888, \"#fdca26\"], [1.0, \"#f0f921\"]], \"sequentialminus\": [[0.0, \"#0d0887\"], [0.1111111111111111, \"#46039f\"], [0.2222222222222222, \"#7201a8\"], [0.3333333333333333, \"#9c179e\"], [0.4444444444444444, \"#bd3786\"], [0.5555555555555556, \"#d8576b\"], [0.6666666666666666, \"#ed7953\"], [0.7777777777777778, \"#fb9f3a\"], [0.8888888888888888, \"#fdca26\"], [1.0, \"#f0f921\"]]}, \"colorway\": [\"#636efa\", \"#EF553B\", \"#00cc96\", \"#ab63fa\", \"#FFA15A\", \"#19d3f3\", \"#FF6692\", \"#B6E880\", \"#FF97FF\", \"#FECB52\"], \"font\": {\"color\": \"#2a3f5f\"}, \"geo\": {\"bgcolor\": \"white\", \"lakecolor\": \"white\", \"landcolor\": \"#E5ECF6\", \"showlakes\": true, \"showland\": true, \"subunitcolor\": \"white\"}, \"hoverlabel\": {\"align\": \"left\"}, \"hovermode\": \"closest\", \"mapbox\": {\"style\": \"light\"}, \"paper_bgcolor\": \"white\", \"plot_bgcolor\": \"#E5ECF6\", \"polar\": {\"angularaxis\": {\"gridcolor\": \"white\", \"linecolor\": \"white\", \"ticks\": \"\"}, \"bgcolor\": \"#E5ECF6\", \"radialaxis\": {\"gridcolor\": \"white\", \"linecolor\": \"white\", \"ticks\": \"\"}}, \"scene\": {\"xaxis\": {\"backgroundcolor\": \"#E5ECF6\", \"gridcolor\": \"white\", \"gridwidth\": 2, \"linecolor\": \"white\", \"showbackground\": true, \"ticks\": \"\", \"zerolinecolor\": \"white\"}, \"yaxis\": {\"backgroundcolor\": \"#E5ECF6\", \"gridcolor\": \"white\", \"gridwidth\": 2, \"linecolor\": \"white\", \"showbackground\": true, \"ticks\": \"\", \"zerolinecolor\": \"white\"}, \"zaxis\": {\"backgroundcolor\": \"#E5ECF6\", \"gridcolor\": \"white\", \"gridwidth\": 2, \"linecolor\": \"white\", \"showbackground\": true, \"ticks\": \"\", \"zerolinecolor\": \"white\"}}, \"shapedefaults\": {\"line\": {\"color\": \"#2a3f5f\"}}, \"ternary\": {\"aaxis\": {\"gridcolor\": \"white\", \"linecolor\": \"white\", \"ticks\": \"\"}, \"baxis\": {\"gridcolor\": \"white\", \"linecolor\": \"white\", \"ticks\": \"\"}, \"bgcolor\": \"#E5ECF6\", \"caxis\": {\"gridcolor\": \"white\", \"linecolor\": \"white\", \"ticks\": \"\"}}, \"title\": {\"x\": 0.05}, \"xaxis\": {\"automargin\": true, \"gridcolor\": \"white\", \"linecolor\": \"white\", \"ticks\": \"\", \"title\": {\"standoff\": 15}, \"zerolinecolor\": \"white\", \"zerolinewidth\": 2}, \"yaxis\": {\"automargin\": true, \"gridcolor\": \"white\", \"linecolor\": \"white\", \"ticks\": \"\", \"title\": {\"standoff\": 15}, \"zerolinecolor\": \"white\", \"zerolinewidth\": 2}}}, \"title\": {\"text\": \"Was There An Age Bias?\"}, \"xaxis\": {\"anchor\": \"y\", \"domain\": [0.0, 1.0], \"title\": {\"text\": \"age\"}}, \"yaxis\": {\"anchor\": \"x\", \"domain\": [0.0, 1.0], \"title\": {\"text\": \"count\"}}},\n",
              "                        {\"responsive\": true}\n",
              "                    ).then(function(){\n",
              "                            \n",
              "var gd = document.getElementById('1b88f47e-23ad-4e3e-a0a9-5cd3bac06285');\n",
              "var x = new MutationObserver(function (mutations, observer) {{\n",
              "        var display = window.getComputedStyle(gd).display;\n",
              "        if (!display || display === 'none') {{\n",
              "            console.log([gd, 'removed!']);\n",
              "            Plotly.purge(gd);\n",
              "            observer.disconnect();\n",
              "        }}\n",
              "}});\n",
              "\n",
              "// Listen for the removal of the full notebook cells\n",
              "var notebookContainer = gd.closest('#notebook-container');\n",
              "if (notebookContainer) {{\n",
              "    x.observe(notebookContainer, {childList: true});\n",
              "}}\n",
              "\n",
              "// Listen for the clearing of the current output cell\n",
              "var outputEl = gd.closest('.output');\n",
              "if (outputEl) {{\n",
              "    x.observe(outputEl, {childList: true});\n",
              "}}\n",
              "\n",
              "                        })\n",
              "                };\n",
              "                \n",
              "            </script>\n",
              "        </div>\n",
              "</body>\n",
              "</html>"
            ]
          },
          "metadata": {}
        }
      ]
    },
    {
      "cell_type": "code",
      "metadata": {
        "colab": {
          "base_uri": "https://localhost:8080/",
          "height": 542
        },
        "id": "2NzCpBuQPUV5",
        "outputId": "bb49d44e-7b1c-4a8c-f8c8-b287f8d0d4b1"
      },
      "source": [
        "ti = pd.read_csv(\"datasets/titanic.csv\")\n",
        "px.scatter(ti, x='age', y='survived', color='class', size='fare', title='Was There A Class Bias?')\n",
        "\n"
      ],
      "execution_count": 111,
      "outputs": [
        {
          "output_type": "display_data",
          "data": {
            "text/html": [
              "<html>\n",
              "<head><meta charset=\"utf-8\" /></head>\n",
              "<body>\n",
              "    <div>\n",
              "            <script src=\"https://cdnjs.cloudflare.com/ajax/libs/mathjax/2.7.5/MathJax.js?config=TeX-AMS-MML_SVG\"></script><script type=\"text/javascript\">if (window.MathJax) {MathJax.Hub.Config({SVG: {font: \"STIX-Web\"}});}</script>\n",
              "                <script type=\"text/javascript\">window.PlotlyConfig = {MathJaxConfig: 'local'};</script>\n",
              "        <script src=\"https://cdn.plot.ly/plotly-latest.min.js\"></script>    \n",
              "            <div id=\"bb12486c-eecb-462a-9c0a-c0f1c4d23a2d\" class=\"plotly-graph-div\" style=\"height:525px; width:100%;\"></div>\n",
              "            <script type=\"text/javascript\">\n",
              "                \n",
              "                    window.PLOTLYENV=window.PLOTLYENV || {};\n",
              "                    \n",
              "                if (document.getElementById(\"bb12486c-eecb-462a-9c0a-c0f1c4d23a2d\")) {\n",
              "                    Plotly.newPlot(\n",
              "                        'bb12486c-eecb-462a-9c0a-c0f1c4d23a2d',\n",
              "                        [{\"hoverlabel\": {\"namelength\": 0}, \"hovertemplate\": \"class=Third<br>age=%{x}<br>survived=%{y}<br>fare=%{marker.size}\", \"legendgroup\": \"class=Third\", \"marker\": {\"color\": \"#636efa\", \"size\": [7.25, 7.925, 8.05, 8.4583, 21.075, 11.1333, 16.7, 8.05, 31.275, 7.8542, 29.125, 18.0, 7.225, 8.0292, 21.075, 31.3875, 7.225, 7.8792, 7.8958, 7.75, 7.2292, 8.05, 18.0, 11.2417, 9.475, 7.8958, 7.8792, 8.05, 15.5, 7.75, 21.6792, 17.8, 39.6875, 7.8, 7.2292, 46.9, 7.2292, 27.9, 15.2458, 8.1583, 7.925, 8.6625, 46.9, 14.4542, 56.4958, 7.65, 7.8958, 8.05, 12.475, 9.0, 9.5, 7.7875, 15.85, 34.375, 8.05, 8.05, 8.05, 7.8542, 20.575, 7.25, 8.05, 7.8958, 7.8958, 8.6542, 7.925, 7.8958, 7.65, 7.775, 7.8958, 24.15, 14.4542, 8.05, 9.825, 14.4583, 7.925, 7.75, 31.275, 8.05, 11.2417, 7.75, 7.1417, 22.3583, 6.975, 7.8958, 7.05, 14.5, 9.2167, 15.2458, 7.75, 15.85, 6.75, 7.7958, 34.375, 8.05, 14.5, 7.3125, 7.7333, 8.05, 8.6625, 69.55, 16.1, 7.775, 8.6625, 39.6875, 20.525, 27.9, 56.4958, 29.125, 11.1333, 7.925, 7.8542, 25.4667, 0.0, 69.55, 31.3875, 22.025, 15.5, 15.5, 7.8958, 7.8542, 7.75, 8.4042, 7.75, 9.5, 69.55, 6.4958, 7.225, 8.05, 10.4625, 15.85, 18.7875, 7.75, 7.05, 7.25, 7.75, 7.925, 8.05, 8.05, 7.8958, 9.35, 7.25, 25.4667, 7.775, 31.3875, 7.55, 14.4542, 15.5, 7.125, 7.225, 7.775, 7.25, 10.4625, 16.1, 20.2125, 15.2458, 7.75, 31.3875, 7.75, 39.6875, 7.775, 0.0, 7.75, 7.75, 29.125, 20.25, 7.75, 7.8542, 9.5, 8.05, 8.6625, 9.5, 7.8958, 7.75, 8.85, 7.8958, 7.2292, 7.75, 23.25, 0.0, 8.05, 7.8958, 7.8542, 7.25, 7.8958, 69.55, 6.2375, 20.525, 23.25, 18.0, 7.8958, 8.05, 16.1, 15.9, 8.6625, 9.225, 7.2292, 17.8, 7.225, 9.5, 7.8792, 7.8792, 27.9, 14.4542, 7.05, 15.5, 7.25, 7.2292, 7.75, 6.4958, 8.05, 21.075, 7.25, 4.0125, 7.775, 15.7417, 7.925, 7.8958, 46.9, 7.7292, 7.7958, 7.925, 16.7, 7.7958, 7.8542, 7.925, 8.05, 9.825, 15.85, 8.6625, 7.75, 7.775, 25.4667, 7.8958, 6.8583, 7.925, 8.05, 24.15, 7.8958, 7.7333, 7.875, 14.4, 20.2125, 7.25, 7.75, 8.05, 16.1, 7.125, 34.375, 9.5, 7.775, 8.1125, 19.2583, 19.9667, 8.05, 7.8958, 7.75, 8.05, 8.05, 7.05, 7.725, 19.2583, 7.25, 8.6625, 9.8375, 7.0458, 7.5208, 12.2875, 46.9, 8.05, 9.5875, 25.4667, 8.05, 15.9, 19.9667, 7.25, 8.05, 14.4583, 15.1, 7.7958, 8.6625, 7.75, 7.6292, 9.5875, 22.525, 56.4958, 7.75, 8.05, 7.4958, 24.15, 7.8958, 7.8958, 7.225, 7.2292, 7.75, 7.925, 7.2292, 7.2292, 22.3583, 8.6625, 14.5, 31.275, 31.275, 20.525, 7.8292, 7.225, 7.775, 17.4, 7.75, 7.8958, 8.05, 8.05, 24.15, 7.8958, 21.075, 7.2292, 7.8542, 7.75, 8.05, 14.5, 14.4583, 7.925, 8.7125, 8.05, 8.05, 7.125, 7.25, 7.75, 24.15, 0.0, 7.225, 7.8958, 8.05, 15.55, 7.8958, 31.275, 7.05, 15.5, 7.75, 8.05, 14.4, 16.1, 14.4542, 15.7417, 7.8542, 16.1, 7.8958, 7.7333, 7.0542, 27.9, 7.925, 39.6875, 16.1, 7.8542, 27.9, 56.4958, 19.2583, 7.8958, 7.55, 7.55, 7.8958, 8.4333, 7.8292, 6.75, 7.8958, 15.5, 7.225, 7.4958, 7.925, 7.775, 8.05, 7.775, 8.05, 9.8417, 46.9, 8.1375, 9.225, 46.9, 39.6875, 10.1708, 7.7958, 13.4167, 56.4958, 7.225, 8.05, 7.7333, 7.65, 14.4542, 7.7417, 7.8542, 15.2458, 9.4833, 7.65, 15.5, 7.775, 7.0542, 8.6625, 7.7375, 7.925, 18.7875, 16.1, 34.375, 7.8958, 7.8958, 16.1, 7.925, 20.25, 7.75, 12.475, 9.5, 7.8958, 7.7958, 8.05, 14.5, 7.125, 7.2292, 7.775, 7.75, 24.15, 8.3625, 9.5, 7.8542, 7.225, 7.75, 7.75, 12.475, 7.7375, 7.2292, 23.45, 7.05, 7.25, 7.4958, 29.125, 20.575, 7.75, 69.55, 7.8958, 8.6833, 7.2292, 24.15, 8.5167, 6.975, 7.775, 7.775, 7.8875, 24.15, 31.275, 8.05, 7.925, 6.45, 27.9, 8.6625, 12.475, 39.6875, 6.95, 56.4958, 7.75, 14.4542, 7.2292, 7.8542, 8.3, 8.6625, 8.05, 56.4958, 7.925, 6.4375, 8.6625, 7.55, 69.55, 7.8958, 31.275, 7.775, 15.2458, 9.35, 19.2583, 7.2292, 14.1083, 69.55, 9.5, 11.1333, 7.8958, 9.0, 7.225, 9.8458, 7.8958, 7.8958, 7.8958, 10.5167, 7.05, 29.125, 23.45, 7.75], \"sizemode\": \"area\", \"sizeref\": 1.280823, \"symbol\": \"circle\"}, \"mode\": \"markers\", \"name\": \"class=Third\", \"showlegend\": true, \"type\": \"scatter\", \"x\": [22.0, 26.0, 35.0, null, 2.0, 27.0, 4.0, 20.0, 39.0, 14.0, 2.0, 31.0, null, 15.0, 8.0, 38.0, null, null, null, null, null, 21.0, 18.0, 14.0, 40.0, null, 19.0, null, null, null, null, 18.0, 7.0, 21.0, 28.5, 11.0, 22.0, 4.0, null, 19.0, 17.0, 26.0, 16.0, 26.0, 32.0, 25.0, null, null, 30.0, 22.0, 29.0, null, 33.0, 16.0, null, 24.0, 29.0, 20.0, 26.0, 59.0, null, 28.0, null, 33.0, 37.0, 28.0, 21.0, null, 38.0, null, 14.5, 22.0, 20.0, 17.0, 21.0, 70.5, 2.0, null, 12.0, null, 24.0, null, 45.0, 33.0, 20.0, 47.0, 16.0, null, 22.0, 24.0, 19.0, 27.0, 9.0, 55.5, 40.5, null, 16.0, 30.0, null, null, 44.0, 26.0, 17.0, 1.0, 9.0, 45.0, 28.0, 4.0, 1.0, 21.0, 18.0, null, 36.0, null, 9.0, 4.0, null, 40.0, 36.0, 19.0, null, 42.0, null, 28.0, null, 34.0, 45.5, 18.0, 2.0, 32.0, 26.0, 16.0, 24.0, 22.0, null, 27.0, 16.0, 51.0, null, 22.0, 20.5, null, 29.0, 5.0, null, null, null, 22.0, 30.0, 25.0, null, 29.0, 30.0, 41.0, 29.0, null, 3.0, null, 16.0, 25.0, 25.0, null, 45.0, 7.0, 35.0, 65.0, 28.0, 16.0, 19.0, 33.0, 30.0, 22.0, 22.0, 24.0, 24.0, 23.5, null, null, 19.0, null, 28.0, 26.0, 22.0, 27.0, null, 61.0, 31.0, null, 16.0, null, 45.0, null, 3.0, 42.0, 23.0, 15.0, 25.0, null, 28.0, null, null, 40.0, 45.0, 35.0, null, 30.0, null, null, 18.0, 19.0, 3.0, 22.0, 20.0, 19.0, 1.0, 32.0, null, 1.0, null, 21.0, 28.0, 24.0, 22.0, 31.0, 39.0, 26.0, 21.0, 28.0, 20.0, 51.0, 21.0, null, null, null, 44.0, null, 10.0, null, 21.0, 29.0, 28.0, 18.0, null, null, 32.0, null, 17.0, 21.0, 20.0, 25.0, null, 5.0, null, null, 29.0, null, 34.0, null, 38.0, null, 0.75, null, 38.0, 22.0, 29.0, 22.0, 2.0, 9.0, 50.0, 63.0, null, 30.0, 9.0, null, 21.0, 21.0, null, null, 24.0, 17.0, 21.0, null, 37.0, 28.0, 26.0, 29.0, null, 24.0, null, 32.0, 22.0, null, null, 40.5, 39.0, null, 17.0, null, 30.0, null, 9.0, 11.0, 33.0, null, 22.0, 22.0, 36.0, null, 40.0, null, null, 24.0, 19.0, 29.0, null, 32.0, null, 16.0, 19.0, null, 32.0, null, 22.0, null, 35.0, 47.0, null, 36.0, 49.0, null, null, 44.0, 36.0, 30.0, 39.0, null, null, null, 35.0, 34.0, 26.0, 27.0, 20.0, 21.0, 21.0, 26.0, null, 51.0, 9.0, 32.0, 41.0, null, 20.0, 2.0, null, 0.75, 19.0, null, 23.0, null, 21.0, null, 18.0, null, 32.0, 40.0, 36.0, 20.0, null, 43.0, 18.0, 24.5, 18.0, 43.0, null, 20.0, 14.0, 14.0, 19.0, 18.0, 4.0, null, 25.0, 44.0, null, 42.0, 18.0, 25.0, 26.0, null, 29.0, 19.0, null, 33.0, 17.0, 20.0, null, 25.0, 11.0, 28.5, 48.0, null, null, 24.0, 31.0, 16.0, 31.0, 6.0, 33.0, 23.0, 28.0, 34.0, null, 41.0, 20.0, 16.0, 30.5, null, 32.0, 24.0, 48.0, null, 18.0, null, 5.0, null, 13.0, null, 25.0, 25.0, 18.0, 8.0, 1.0, null, null, 25.0, 31.0, 30.0, 30.0, 0.42, 27.0, 31.0, 18.0, 26.0, 39.0, 6.0, 30.5, 23.0, 43.0, 10.0, 27.0, 27.0, 2.0, null, null, null, 15.0, null, 23.0, 18.0, 21.0, null, 32.0, 20.0, 34.5, 17.0, 42.0, null, 35.0, 4.0, 74.0, 9.0, 18.0, 24.0, null, 41.0, null, null, 4.0, 26.0, 47.0, 15.0, 20.0, 19.0, null, 33.0, 22.0, 25.0, 39.0, null, 32.0], \"xaxis\": \"x\", \"y\": [0, 1, 0, 0, 0, 1, 1, 0, 0, 0, 0, 0, 1, 1, 0, 1, 0, 1, 0, 1, 1, 0, 0, 1, 0, 0, 1, 0, 0, 1, 0, 0, 0, 0, 0, 0, 0, 0, 1, 0, 1, 0, 0, 0, 1, 0, 0, 0, 1, 0, 1, 1, 1, 0, 0, 0, 0, 0, 0, 0, 0, 0, 0, 0, 0, 0, 1, 1, 0, 1, 0, 0, 0, 0, 0, 0, 0, 0, 1, 0, 1, 1, 0, 0, 0, 0, 0, 0, 1, 1, 0, 1, 0, 0, 0, 0, 1, 0, 0, 0, 0, 0, 0, 0, 1, 0, 0, 0, 1, 0, 0, 0, 0, 0, 0, 1, 1, 0, 0, 1, 0, 0, 1, 0, 0, 0, 0, 1, 0, 0, 1, 1, 0, 0, 0, 1, 1, 0, 0, 0, 0, 0, 0, 1, 0, 0, 1, 0, 0, 0, 0, 0, 0, 0, 1, 0, 1, 0, 0, 1, 1, 1, 0, 0, 1, 0, 0, 0, 1, 0, 1, 0, 1, 0, 0, 0, 1, 1, 0, 0, 0, 1, 0, 0, 0, 0, 1, 1, 0, 0, 1, 1, 1, 0, 0, 0, 0, 0, 0, 1, 1, 0, 0, 0, 0, 0, 1, 1, 0, 0, 0, 1, 0, 0, 1, 0, 0, 0, 0, 1, 0, 1, 0, 0, 1, 0, 0, 0, 0, 0, 0, 0, 0, 0, 1, 0, 0, 0, 0, 0, 0, 0, 0, 0, 1, 1, 0, 0, 0, 0, 1, 1, 0, 0, 1, 0, 0, 0, 0, 0, 1, 0, 0, 0, 0, 0, 1, 0, 0, 1, 0, 0, 1, 0, 0, 0, 0, 0, 0, 0, 0, 0, 0, 0, 1, 1, 0, 0, 0, 0, 0, 0, 0, 0, 0, 0, 0, 1, 0, 0, 0, 0, 0, 0, 1, 1, 1, 0, 0, 0, 0, 0, 0, 0, 0, 1, 1, 0, 0, 0, 1, 0, 0, 0, 0, 0, 0, 0, 0, 0, 0, 0, 0, 0, 0, 0, 1, 0, 0, 0, 0, 0, 1, 0, 0, 0, 0, 0, 0, 0, 0, 0, 0, 0, 1, 1, 0, 0, 1, 0, 0, 1, 0, 0, 0, 0, 0, 1, 0, 0, 0, 0, 1, 0, 0, 0, 0, 0, 0, 0, 1, 1, 0, 0, 1, 0, 0, 0, 0, 1, 0, 0, 0, 0, 0, 0, 1, 0, 0, 0, 0, 0, 0, 0, 1, 0, 0, 1, 0, 0, 0, 0, 0, 0, 1, 0, 0, 0, 0, 0, 0, 0, 0, 0, 1, 0, 1, 0, 0, 0, 1, 0, 1, 0, 0, 0, 1, 0, 0, 1, 1, 0, 0, 0, 0, 0, 0, 0, 0, 0, 1, 1, 0, 0, 0, 1, 1, 0, 0, 0, 0, 0, 1, 0, 0, 0, 0, 0, 0, 0, 0, 0, 1, 1, 0, 0, 0, 0, 1, 0, 0, 1, 0, 0, 0, 0, 0, 0, 0, 0, 0], \"yaxis\": \"y\"}, {\"hoverlabel\": {\"namelength\": 0}, \"hovertemplate\": \"class=First<br>age=%{x}<br>survived=%{y}<br>fare=%{marker.size}\", \"legendgroup\": \"class=First\", \"marker\": {\"color\": \"#EF553B\", \"size\": [71.2833, 53.1, 51.8625, 26.55, 35.5, 263.0, 27.7208, 146.5208, 82.1708, 52.0, 76.7292, 61.9792, 35.5, 80.0, 83.475, 27.7208, 47.1, 263.0, 61.175, 34.6542, 63.3583, 77.2875, 52.0, 247.5208, 77.2875, 26.2833, 53.1, 79.2, 66.6, 61.3792, 55.0, 25.925, 33.5, 30.6958, 28.7125, 50.0, 26.55, 27.7208, 146.5208, 31.0, 113.275, 76.2917, 90.0, 83.475, 90.0, 52.5542, 26.55, 79.2, 86.5, 512.3292, 79.65, 0.0, 153.4625, 135.6333, 31.0, 29.7, 77.9583, 26.0, 78.85, 91.0792, 27.7208, 151.55, 30.5, 247.5208, 151.55, 110.8833, 108.9, 56.9292, 83.1583, 262.375, 164.8667, 134.5, 135.6333, 57.9792, 28.5, 153.4625, 133.65, 66.6, 134.5, 35.5, 263.0, 35.0, 55.0, 75.25, 69.3, 55.4417, 135.6333, 82.1708, 211.5, 227.525, 52.0, 120.0, 113.275, 90.0, 26.55, 55.9, 120.0, 263.0, 81.8583, 26.55, 30.5, 27.75, 89.1042, 26.55, 51.8625, 26.55, 38.5, 26.55, 52.0, 91.0792, 90.0, 29.7, 30.5, 49.5042, 78.2667, 151.55, 86.5, 108.9, 26.55, 26.2875, 59.4, 34.0208, 93.5, 57.9792, 221.7792, 26.55, 106.425, 49.5, 71.0, 106.425, 26.0, 110.8833, 26.55, 39.6, 227.525, 79.65, 51.4792, 26.3875, 55.9, 110.8833, 40.125, 79.65, 79.2, 78.2667, 56.9292, 42.4, 26.55, 30.5, 153.4625, 52.5542, 32.3208, 77.9583, 30.0, 30.5, 0.0, 69.3, 76.7292, 35.5, 113.275, 133.65, 25.5875, 52.0, 52.0, 512.3292, 76.7292, 211.3375, 57.0, 26.55, 110.8833, 227.525, 26.2875, 26.2875, 151.55, 49.5042, 26.55, 52.0, 227.525, 53.1, 211.3375, 512.3292, 30.0, 78.85, 262.375, 71.0, 53.1, 86.5, 120.0, 77.9583, 39.6, 211.3375, 57.0, 30.0, 79.2, 30.6958, 25.9292, 120.0, 0.0, 53.1, 0.0, 93.5, 0.0, 80.0, 83.1583, 29.7, 31.0, 89.1042, 39.4, 164.8667, 26.55, 25.9292, 50.4958, 52.5542, 5.0, 83.1583, 30.0, 30.0], \"sizemode\": \"area\", \"sizeref\": 1.280823, \"symbol\": \"circle\"}, \"mode\": \"markers\", \"name\": \"class=First\", \"showlegend\": true, \"type\": \"scatter\", \"x\": [38.0, 35.0, 54.0, 58.0, 28.0, 19.0, 40.0, null, 28.0, 42.0, 49.0, 65.0, null, 38.0, 45.0, null, 28.0, 23.0, 46.0, 71.0, 23.0, 21.0, 47.0, 24.0, 54.0, 19.0, 37.0, 24.0, 22.0, 51.0, null, null, 61.0, 56.0, 50.0, null, 45.0, 44.0, 58.0, 40.0, 31.0, 32.0, 38.0, 35.0, 44.0, 37.0, 62.0, null, 30.0, 35.0, 52.0, 40.0, 58.0, 35.0, null, 37.0, 63.0, null, 26.0, 19.0, null, 2.0, null, 50.0, 0.92, null, 17.0, 30.0, 24.0, 18.0, 31.0, 40.0, 36.0, 16.0, 45.5, 38.0, null, 29.0, 41.0, 45.0, 24.0, null, 22.0, 60.0, 24.0, 25.0, 22.0, null, 27.0, 42.0, 35.0, 36.0, 23.0, 33.0, 28.0, 50.0, 14.0, 64.0, 4.0, 34.0, 52.0, 30.0, 49.0, 65.0, null, 48.0, 47.0, 56.0, null, 25.0, 35.0, 58.0, 55.0, 71.0, 54.0, 25.0, 16.0, 18.0, null, 36.0, 54.0, 47.0, 30.0, 44.0, null, 45.0, 30.0, 22.0, 36.0, 50.0, 64.0, 17.0, 62.0, 48.0, null, 39.0, 53.0, 36.0, 39.0, 39.0, 36.0, 18.0, 60.0, 52.0, 49.0, null, 35.0, 27.0, 40.0, 42.0, 61.0, 21.0, 80.0, 32.0, null, 24.0, 48.0, 56.0, 58.0, 50.0, 47.0, null, 31.0, 36.0, 27.0, 15.0, 31.0, 60.0, 49.0, 18.0, 35.0, 42.0, 22.0, 24.0, null, 48.0, 38.0, 27.0, 29.0, 35.0, null, 36.0, 21.0, 70.0, 19.0, 33.0, 36.0, 51.0, null, 43.0, 17.0, 29.0, 46.0, null, 49.0, 11.0, 39.0, 33.0, null, 52.0, 38.0, 62.0, 39.0, null, 30.0, null, 16.0, 45.0, 51.0, 48.0, 31.0, 47.0, 33.0, 56.0, 19.0, 26.0], \"xaxis\": \"x\", \"y\": [1, 1, 0, 1, 1, 0, 0, 1, 0, 0, 1, 0, 1, 1, 0, 0, 0, 1, 0, 0, 1, 0, 0, 0, 0, 1, 0, 0, 1, 0, 1, 0, 0, 0, 0, 0, 1, 1, 1, 1, 1, 1, 1, 1, 0, 1, 0, 1, 1, 1, 0, 0, 1, 1, 0, 0, 1, 0, 1, 1, 0, 0, 1, 1, 1, 1, 1, 1, 1, 1, 1, 1, 1, 1, 0, 0, 1, 0, 1, 0, 1, 0, 1, 1, 1, 1, 0, 1, 0, 1, 1, 1, 1, 1, 1, 0, 1, 0, 1, 1, 1, 0, 1, 0, 1, 1, 0, 0, 0, 1, 1, 0, 0, 0, 1, 0, 1, 0, 1, 1, 1, 0, 1, 1, 0, 0, 1, 1, 1, 0, 0, 1, 0, 1, 0, 1, 1, 1, 1, 1, 0, 1, 1, 1, 1, 0, 1, 1, 1, 1, 0, 1, 1, 1, 0, 1, 1, 1, 0, 1, 0, 1, 0, 1, 1, 1, 1, 0, 0, 1, 1, 1, 1, 1, 0, 1, 1, 1, 1, 1, 1, 0, 1, 0, 0, 1, 1, 1, 0, 1, 1, 0, 0, 0, 1, 1, 0, 1, 0, 1, 0, 1, 1, 1, 1, 1, 1, 1, 1, 1, 0, 1, 0, 1, 1, 1], \"yaxis\": \"y\"}, {\"hoverlabel\": {\"namelength\": 0}, \"hovertemplate\": \"class=Second<br>age=%{x}<br>survived=%{y}<br>fare=%{marker.size}\", \"legendgroup\": \"class=Second\", \"marker\": {\"color\": \"#00cc96\", \"size\": [30.0708, 16.0, 13.0, 26.0, 13.0, 10.5, 21.0, 41.5792, 26.0, 10.5, 27.75, 10.5, 10.5, 73.5, 29.0, 10.5, 23.0, 26.0, 21.0, 73.5, 30.0708, 13.0, 26.0, 13.0, 15.0458, 11.5, 36.75, 26.0, 13.0, 12.525, 15.75, 13.0, 15.05, 39.0, 13.0, 13.0, 26.0, 13.0, 21.0, 13.0, 27.0, 10.5, 13.0, 10.5, 13.0, 13.5, 10.5, 26.0, 26.25, 10.5, 12.275, 10.5, 14.5, 26.0, 26.0, 10.5, 19.5, 0.0, 13.0, 12.875, 12.35, 24.0, 26.0, 26.25, 26.0, 14.0, 12.35, 29.0, 13.0, 26.0, 13.0, 13.0, 13.0, 13.0, 13.0, 13.0, 27.7208, 73.5, 13.0, 12.0, 26.0, 10.5, 12.65, 21.0, 18.75, 0.0, 32.5, 13.0, 13.0, 26.0, 26.0, 26.0, 18.75, 10.5, 26.25, 13.0, 19.5, 27.75, 10.5, 13.0, 0.0, 27.75, 13.7917, 21.0, 0.0, 26.0, 10.5, 26.0, 10.5, 11.5, 26.0, 26.25, 26.0, 26.0, 13.8625, 36.75, 26.0, 13.5, 10.5, 13.0, 30.0, 26.0, 15.0, 26.0, 33.0, 27.0, 41.5792, 65.0, 39.0, 10.5, 12.35, 13.0, 26.25, 23.0, 73.5, 13.0, 73.5, 13.0, 39.0, 10.5, 13.0, 0.0, 39.0, 41.5792, 13.5, 26.0, 13.5, 13.0, 10.5, 33.0, 13.0, 13.0, 21.0, 26.0, 0.0, 13.0, 13.0, 13.0, 23.0, 65.0, 14.5, 11.5, 10.5, 23.0, 26.0, 13.0, 13.0, 26.25, 13.0, 10.5, 37.0042, 37.0042, 18.75, 10.5, 33.0, 26.0, 11.5, 13.0, 13.0, 13.8583, 24.0, 26.0, 10.5, 13.0], \"sizemode\": \"area\", \"sizeref\": 1.280823, \"symbol\": \"circle\"}, \"mode\": \"markers\", \"name\": \"class=Second\", \"showlegend\": true, \"type\": \"scatter\", \"x\": [14.0, 55.0, null, 35.0, 34.0, 66.0, 27.0, 3.0, 29.0, 21.0, 5.0, 29.0, 32.0, 21.0, 0.83, 17.0, 34.0, 34.0, 29.0, 21.0, 32.5, 32.5, 29.0, 25.0, 23.0, 18.0, 19.0, 36.5, 42.0, 51.0, 40.0, 30.0, null, 1.0, 32.0, 19.0, 3.0, 24.0, 35.0, 30.0, 42.0, 30.0, 27.0, 19.0, 18.0, 59.0, 24.0, 44.0, 8.0, 19.0, 33.0, 29.0, 24.0, 54.0, 50.0, 36.0, 41.0, null, 42.0, 36.0, null, 30.0, 26.0, 43.0, 24.0, 54.0, 30.0, 22.0, 36.0, 2.0, 28.0, 25.0, 36.0, 24.0, 40.0, 38.0, 29.0, 18.0, 36.0, 17.0, 46.0, 23.0, 28.0, 34.0, 3.0, null, 34.0, 18.0, 30.0, 28.0, 19.0, 42.0, 24.0, 31.0, 45.0, 28.0, 13.0, 36.0, 50.0, 48.0, null, 33.0, 23.0, 34.0, null, 33.0, 34.0, 36.0, 50.0, 23.0, 2.0, 7.0, 32.0, 19.0, null, 8.0, 27.0, 28.0, 62.0, 34.0, 25.0, 54.0, 47.0, 37.0, null, 24.0, 22.0, 24.0, 4.0, 26.0, 57.0, 28.0, 31.0, 18.0, 24.0, 23.0, 32.0, 25.0, 40.0, 70.0, 31.0, null, 60.0, 25.0, 52.0, 39.0, 45.0, 52.0, 27.0, 6.0, 34.0, 50.0, 30.0, 25.0, null, 23.0, 23.0, 30.0, 4.0, 48.0, 0.67, 18.0, 57.0, 54.0, 16.0, 39.0, 34.0, 31.0, 39.0, 35.0, 31.0, 1.0, 0.83, 16.0, 28.0, 44.0, 21.0, 24.0, 42.0, 27.0, 28.0, 25.0, 28.0, 27.0], \"xaxis\": \"x\", \"y\": [1, 1, 1, 0, 1, 0, 0, 1, 1, 1, 1, 1, 0, 0, 1, 1, 1, 0, 0, 0, 0, 1, 1, 0, 0, 0, 0, 0, 0, 0, 1, 0, 0, 1, 1, 0, 1, 0, 1, 0, 0, 0, 0, 1, 0, 0, 0, 0, 1, 0, 0, 0, 1, 0, 1, 0, 1, 0, 1, 0, 1, 0, 0, 0, 1, 0, 1, 1, 1, 1, 0, 0, 0, 1, 1, 0, 0, 0, 1, 1, 0, 0, 1, 0, 1, 0, 1, 1, 0, 1, 1, 1, 1, 0, 1, 1, 1, 0, 1, 0, 0, 1, 1, 0, 0, 1, 1, 1, 1, 0, 1, 1, 1, 1, 1, 1, 0, 0, 1, 1, 1, 0, 0, 0, 1, 1, 1, 1, 1, 0, 0, 1, 0, 1, 0, 0, 0, 0, 1, 0, 1, 0, 0, 0, 0, 0, 1, 0, 1, 1, 0, 0, 1, 0, 0, 0, 0, 1, 1, 1, 1, 0, 0, 1, 0, 0, 0, 1, 0, 0, 0, 1, 1, 0, 0, 0, 0, 0, 1, 1, 1, 1, 0, 0], \"yaxis\": \"y\"}],\n",
              "                        {\"legend\": {\"itemsizing\": \"constant\", \"tracegroupgap\": 0}, \"template\": {\"data\": {\"bar\": [{\"error_x\": {\"color\": \"#2a3f5f\"}, \"error_y\": {\"color\": \"#2a3f5f\"}, \"marker\": {\"line\": {\"color\": \"#E5ECF6\", \"width\": 0.5}}, \"type\": \"bar\"}], \"barpolar\": [{\"marker\": {\"line\": {\"color\": \"#E5ECF6\", \"width\": 0.5}}, \"type\": \"barpolar\"}], \"carpet\": [{\"aaxis\": {\"endlinecolor\": \"#2a3f5f\", \"gridcolor\": \"white\", \"linecolor\": \"white\", \"minorgridcolor\": \"white\", \"startlinecolor\": \"#2a3f5f\"}, \"baxis\": {\"endlinecolor\": \"#2a3f5f\", \"gridcolor\": \"white\", \"linecolor\": \"white\", \"minorgridcolor\": \"white\", \"startlinecolor\": \"#2a3f5f\"}, \"type\": \"carpet\"}], \"choropleth\": [{\"colorbar\": {\"outlinewidth\": 0, \"ticks\": \"\"}, \"type\": \"choropleth\"}], \"contour\": [{\"colorbar\": {\"outlinewidth\": 0, \"ticks\": \"\"}, \"colorscale\": [[0.0, \"#0d0887\"], [0.1111111111111111, \"#46039f\"], [0.2222222222222222, \"#7201a8\"], [0.3333333333333333, \"#9c179e\"], [0.4444444444444444, \"#bd3786\"], [0.5555555555555556, \"#d8576b\"], [0.6666666666666666, \"#ed7953\"], [0.7777777777777778, \"#fb9f3a\"], [0.8888888888888888, \"#fdca26\"], [1.0, \"#f0f921\"]], \"type\": \"contour\"}], \"contourcarpet\": [{\"colorbar\": {\"outlinewidth\": 0, \"ticks\": \"\"}, \"type\": \"contourcarpet\"}], \"heatmap\": [{\"colorbar\": {\"outlinewidth\": 0, \"ticks\": \"\"}, \"colorscale\": [[0.0, \"#0d0887\"], [0.1111111111111111, \"#46039f\"], [0.2222222222222222, \"#7201a8\"], [0.3333333333333333, \"#9c179e\"], [0.4444444444444444, \"#bd3786\"], [0.5555555555555556, \"#d8576b\"], [0.6666666666666666, \"#ed7953\"], [0.7777777777777778, \"#fb9f3a\"], [0.8888888888888888, \"#fdca26\"], [1.0, \"#f0f921\"]], \"type\": \"heatmap\"}], \"heatmapgl\": [{\"colorbar\": {\"outlinewidth\": 0, \"ticks\": \"\"}, \"colorscale\": [[0.0, \"#0d0887\"], [0.1111111111111111, \"#46039f\"], [0.2222222222222222, \"#7201a8\"], [0.3333333333333333, \"#9c179e\"], [0.4444444444444444, \"#bd3786\"], [0.5555555555555556, \"#d8576b\"], [0.6666666666666666, \"#ed7953\"], [0.7777777777777778, \"#fb9f3a\"], [0.8888888888888888, \"#fdca26\"], [1.0, \"#f0f921\"]], \"type\": \"heatmapgl\"}], \"histogram\": [{\"marker\": {\"colorbar\": {\"outlinewidth\": 0, \"ticks\": \"\"}}, \"type\": \"histogram\"}], \"histogram2d\": [{\"colorbar\": {\"outlinewidth\": 0, \"ticks\": \"\"}, \"colorscale\": [[0.0, \"#0d0887\"], [0.1111111111111111, \"#46039f\"], [0.2222222222222222, \"#7201a8\"], [0.3333333333333333, \"#9c179e\"], [0.4444444444444444, \"#bd3786\"], [0.5555555555555556, \"#d8576b\"], [0.6666666666666666, \"#ed7953\"], [0.7777777777777778, \"#fb9f3a\"], [0.8888888888888888, \"#fdca26\"], [1.0, \"#f0f921\"]], \"type\": \"histogram2d\"}], \"histogram2dcontour\": [{\"colorbar\": {\"outlinewidth\": 0, \"ticks\": \"\"}, \"colorscale\": [[0.0, \"#0d0887\"], [0.1111111111111111, \"#46039f\"], [0.2222222222222222, \"#7201a8\"], [0.3333333333333333, \"#9c179e\"], [0.4444444444444444, \"#bd3786\"], [0.5555555555555556, \"#d8576b\"], [0.6666666666666666, \"#ed7953\"], [0.7777777777777778, \"#fb9f3a\"], [0.8888888888888888, \"#fdca26\"], [1.0, \"#f0f921\"]], \"type\": \"histogram2dcontour\"}], \"mesh3d\": [{\"colorbar\": {\"outlinewidth\": 0, \"ticks\": \"\"}, \"type\": \"mesh3d\"}], \"parcoords\": [{\"line\": {\"colorbar\": {\"outlinewidth\": 0, \"ticks\": \"\"}}, \"type\": \"parcoords\"}], \"pie\": [{\"automargin\": true, \"type\": \"pie\"}], \"scatter\": [{\"marker\": {\"colorbar\": {\"outlinewidth\": 0, \"ticks\": \"\"}}, \"type\": \"scatter\"}], \"scatter3d\": [{\"line\": {\"colorbar\": {\"outlinewidth\": 0, \"ticks\": \"\"}}, \"marker\": {\"colorbar\": {\"outlinewidth\": 0, \"ticks\": \"\"}}, \"type\": \"scatter3d\"}], \"scattercarpet\": [{\"marker\": {\"colorbar\": {\"outlinewidth\": 0, \"ticks\": \"\"}}, \"type\": \"scattercarpet\"}], \"scattergeo\": [{\"marker\": {\"colorbar\": {\"outlinewidth\": 0, \"ticks\": \"\"}}, \"type\": \"scattergeo\"}], \"scattergl\": [{\"marker\": {\"colorbar\": {\"outlinewidth\": 0, \"ticks\": \"\"}}, \"type\": \"scattergl\"}], \"scattermapbox\": [{\"marker\": {\"colorbar\": {\"outlinewidth\": 0, \"ticks\": \"\"}}, \"type\": \"scattermapbox\"}], \"scatterpolar\": [{\"marker\": {\"colorbar\": {\"outlinewidth\": 0, \"ticks\": \"\"}}, \"type\": \"scatterpolar\"}], \"scatterpolargl\": [{\"marker\": {\"colorbar\": {\"outlinewidth\": 0, \"ticks\": \"\"}}, \"type\": \"scatterpolargl\"}], \"scatterternary\": [{\"marker\": {\"colorbar\": {\"outlinewidth\": 0, \"ticks\": \"\"}}, \"type\": \"scatterternary\"}], \"surface\": [{\"colorbar\": {\"outlinewidth\": 0, \"ticks\": \"\"}, \"colorscale\": [[0.0, \"#0d0887\"], [0.1111111111111111, \"#46039f\"], [0.2222222222222222, \"#7201a8\"], [0.3333333333333333, \"#9c179e\"], [0.4444444444444444, \"#bd3786\"], [0.5555555555555556, \"#d8576b\"], [0.6666666666666666, \"#ed7953\"], [0.7777777777777778, \"#fb9f3a\"], [0.8888888888888888, \"#fdca26\"], [1.0, \"#f0f921\"]], \"type\": \"surface\"}], \"table\": [{\"cells\": {\"fill\": {\"color\": \"#EBF0F8\"}, \"line\": {\"color\": \"white\"}}, \"header\": {\"fill\": {\"color\": \"#C8D4E3\"}, \"line\": {\"color\": \"white\"}}, \"type\": \"table\"}]}, \"layout\": {\"annotationdefaults\": {\"arrowcolor\": \"#2a3f5f\", \"arrowhead\": 0, \"arrowwidth\": 1}, \"coloraxis\": {\"colorbar\": {\"outlinewidth\": 0, \"ticks\": \"\"}}, \"colorscale\": {\"diverging\": [[0, \"#8e0152\"], [0.1, \"#c51b7d\"], [0.2, \"#de77ae\"], [0.3, \"#f1b6da\"], [0.4, \"#fde0ef\"], [0.5, \"#f7f7f7\"], [0.6, \"#e6f5d0\"], [0.7, \"#b8e186\"], [0.8, \"#7fbc41\"], [0.9, \"#4d9221\"], [1, \"#276419\"]], \"sequential\": [[0.0, \"#0d0887\"], [0.1111111111111111, \"#46039f\"], [0.2222222222222222, \"#7201a8\"], [0.3333333333333333, \"#9c179e\"], [0.4444444444444444, \"#bd3786\"], [0.5555555555555556, \"#d8576b\"], [0.6666666666666666, \"#ed7953\"], [0.7777777777777778, \"#fb9f3a\"], [0.8888888888888888, \"#fdca26\"], [1.0, \"#f0f921\"]], \"sequentialminus\": [[0.0, \"#0d0887\"], [0.1111111111111111, \"#46039f\"], [0.2222222222222222, \"#7201a8\"], [0.3333333333333333, \"#9c179e\"], [0.4444444444444444, \"#bd3786\"], [0.5555555555555556, \"#d8576b\"], [0.6666666666666666, \"#ed7953\"], [0.7777777777777778, \"#fb9f3a\"], [0.8888888888888888, \"#fdca26\"], [1.0, \"#f0f921\"]]}, \"colorway\": [\"#636efa\", \"#EF553B\", \"#00cc96\", \"#ab63fa\", \"#FFA15A\", \"#19d3f3\", \"#FF6692\", \"#B6E880\", \"#FF97FF\", \"#FECB52\"], \"font\": {\"color\": \"#2a3f5f\"}, \"geo\": {\"bgcolor\": \"white\", \"lakecolor\": \"white\", \"landcolor\": \"#E5ECF6\", \"showlakes\": true, \"showland\": true, \"subunitcolor\": \"white\"}, \"hoverlabel\": {\"align\": \"left\"}, \"hovermode\": \"closest\", \"mapbox\": {\"style\": \"light\"}, \"paper_bgcolor\": \"white\", \"plot_bgcolor\": \"#E5ECF6\", \"polar\": {\"angularaxis\": {\"gridcolor\": \"white\", \"linecolor\": \"white\", \"ticks\": \"\"}, \"bgcolor\": \"#E5ECF6\", \"radialaxis\": {\"gridcolor\": \"white\", \"linecolor\": \"white\", \"ticks\": \"\"}}, \"scene\": {\"xaxis\": {\"backgroundcolor\": \"#E5ECF6\", \"gridcolor\": \"white\", \"gridwidth\": 2, \"linecolor\": \"white\", \"showbackground\": true, \"ticks\": \"\", \"zerolinecolor\": \"white\"}, \"yaxis\": {\"backgroundcolor\": \"#E5ECF6\", \"gridcolor\": \"white\", \"gridwidth\": 2, \"linecolor\": \"white\", \"showbackground\": true, \"ticks\": \"\", \"zerolinecolor\": \"white\"}, \"zaxis\": {\"backgroundcolor\": \"#E5ECF6\", \"gridcolor\": \"white\", \"gridwidth\": 2, \"linecolor\": \"white\", \"showbackground\": true, \"ticks\": \"\", \"zerolinecolor\": \"white\"}}, \"shapedefaults\": {\"line\": {\"color\": \"#2a3f5f\"}}, \"ternary\": {\"aaxis\": {\"gridcolor\": \"white\", \"linecolor\": \"white\", \"ticks\": \"\"}, \"baxis\": {\"gridcolor\": \"white\", \"linecolor\": \"white\", \"ticks\": \"\"}, \"bgcolor\": \"#E5ECF6\", \"caxis\": {\"gridcolor\": \"white\", \"linecolor\": \"white\", \"ticks\": \"\"}}, \"title\": {\"x\": 0.05}, \"xaxis\": {\"automargin\": true, \"gridcolor\": \"white\", \"linecolor\": \"white\", \"ticks\": \"\", \"title\": {\"standoff\": 15}, \"zerolinecolor\": \"white\", \"zerolinewidth\": 2}, \"yaxis\": {\"automargin\": true, \"gridcolor\": \"white\", \"linecolor\": \"white\", \"ticks\": \"\", \"title\": {\"standoff\": 15}, \"zerolinecolor\": \"white\", \"zerolinewidth\": 2}}}, \"title\": {\"text\": \"Was There A Class Bias?\"}, \"xaxis\": {\"anchor\": \"y\", \"domain\": [0.0, 1.0], \"title\": {\"text\": \"age\"}}, \"yaxis\": {\"anchor\": \"x\", \"domain\": [0.0, 1.0], \"title\": {\"text\": \"survived\"}}},\n",
              "                        {\"responsive\": true}\n",
              "                    ).then(function(){\n",
              "                            \n",
              "var gd = document.getElementById('bb12486c-eecb-462a-9c0a-c0f1c4d23a2d');\n",
              "var x = new MutationObserver(function (mutations, observer) {{\n",
              "        var display = window.getComputedStyle(gd).display;\n",
              "        if (!display || display === 'none') {{\n",
              "            console.log([gd, 'removed!']);\n",
              "            Plotly.purge(gd);\n",
              "            observer.disconnect();\n",
              "        }}\n",
              "}});\n",
              "\n",
              "// Listen for the removal of the full notebook cells\n",
              "var notebookContainer = gd.closest('#notebook-container');\n",
              "if (notebookContainer) {{\n",
              "    x.observe(notebookContainer, {childList: true});\n",
              "}}\n",
              "\n",
              "// Listen for the clearing of the current output cell\n",
              "var outputEl = gd.closest('.output');\n",
              "if (outputEl) {{\n",
              "    x.observe(outputEl, {childList: true});\n",
              "}}\n",
              "\n",
              "                        })\n",
              "                };\n",
              "                \n",
              "            </script>\n",
              "        </div>\n",
              "</body>\n",
              "</html>"
            ]
          },
          "metadata": {}
        }
      ]
    },
    {
      "cell_type": "code",
      "metadata": {
        "colab": {
          "base_uri": "https://localhost:8080/",
          "height": 542
        },
        "id": "yD1y4nKsRXoD",
        "outputId": "1eeafd3f-25cc-48d1-9cc1-6b09d786e577"
      },
      "source": [
        "fig = px.pie(ti, values='fare', names='sex', title='Was There A Gender Bias?')\n",
        "fig.show()"
      ],
      "execution_count": 83,
      "outputs": [
        {
          "output_type": "display_data",
          "data": {
            "text/html": [
              "<html>\n",
              "<head><meta charset=\"utf-8\" /></head>\n",
              "<body>\n",
              "    <div>\n",
              "            <script src=\"https://cdnjs.cloudflare.com/ajax/libs/mathjax/2.7.5/MathJax.js?config=TeX-AMS-MML_SVG\"></script><script type=\"text/javascript\">if (window.MathJax) {MathJax.Hub.Config({SVG: {font: \"STIX-Web\"}});}</script>\n",
              "                <script type=\"text/javascript\">window.PlotlyConfig = {MathJaxConfig: 'local'};</script>\n",
              "        <script src=\"https://cdn.plot.ly/plotly-latest.min.js\"></script>    \n",
              "            <div id=\"da79fe27-e007-48af-b9bb-b58f1cd92413\" class=\"plotly-graph-div\" style=\"height:525px; width:100%;\"></div>\n",
              "            <script type=\"text/javascript\">\n",
              "                \n",
              "                    window.PLOTLYENV=window.PLOTLYENV || {};\n",
              "                    \n",
              "                if (document.getElementById(\"da79fe27-e007-48af-b9bb-b58f1cd92413\")) {\n",
              "                    Plotly.newPlot(\n",
              "                        'da79fe27-e007-48af-b9bb-b58f1cd92413',\n",
              "                        [{\"domain\": {\"x\": [0.0, 1.0], \"y\": [0.0, 1.0]}, \"hoverlabel\": {\"namelength\": 0}, \"hovertemplate\": \"sex=%{label}<br>fare=%{value}\", \"labels\": [\"male\", \"female\", \"female\", \"female\", \"male\", \"male\", \"male\", \"male\", \"female\", \"female\", \"female\", \"female\", \"male\", \"male\", \"female\", \"female\", \"male\", \"male\", \"female\", \"female\", \"male\", \"male\", \"female\", \"male\", \"female\", \"female\", \"male\", \"male\", \"female\", \"male\", \"male\", \"female\", \"female\", \"male\", \"male\", \"male\", \"male\", \"male\", \"female\", \"female\", \"female\", \"female\", \"male\", \"female\", \"female\", \"male\", \"male\", \"female\", \"male\", \"female\", \"male\", \"male\", \"female\", \"female\", \"male\", \"male\", \"female\", \"male\", \"female\", \"male\", \"male\", \"female\", \"male\", \"male\", \"male\", \"male\", \"female\", \"male\", \"female\", \"male\", \"male\", \"female\", \"male\", \"male\", \"male\", \"male\", \"male\", \"male\", \"male\", \"female\", \"male\", \"male\", \"female\", \"male\", \"female\", \"female\", \"male\", \"male\", \"female\", \"male\", \"male\", \"male\", \"male\", \"male\", \"male\", \"male\", \"male\", \"male\", \"female\", \"male\", \"female\", \"male\", \"male\", \"male\", \"male\", \"male\", \"female\", \"male\", \"male\", \"female\", \"male\", \"female\", \"male\", \"female\", \"female\", \"male\", \"male\", \"male\", \"male\", \"female\", \"male\", \"male\", \"male\", \"female\", \"male\", \"male\", \"male\", \"male\", \"female\", \"male\", \"male\", \"male\", \"female\", \"female\", \"male\", \"male\", \"female\", \"male\", \"male\", \"male\", \"female\", \"female\", \"female\", \"male\", \"male\", \"male\", \"male\", \"female\", \"male\", \"male\", \"male\", \"female\", \"male\", \"male\", \"male\", \"male\", \"female\", \"male\", \"male\", \"male\", \"male\", \"female\", \"male\", \"male\", \"male\", \"male\", \"female\", \"female\", \"male\", \"male\", \"male\", \"male\", \"female\", \"male\", \"male\", \"male\", \"male\", \"female\", \"male\", \"male\", \"female\", \"male\", \"male\", \"male\", \"female\", \"male\", \"female\", \"male\", \"male\", \"male\", \"female\", \"male\", \"female\", \"male\", \"female\", \"female\", \"male\", \"male\", \"female\", \"female\", \"male\", \"male\", \"male\", \"male\", \"male\", \"female\", \"male\", \"male\", \"female\", \"male\", \"male\", \"female\", \"male\", \"male\", \"male\", \"female\", \"female\", \"male\", \"female\", \"male\", \"male\", \"male\", \"male\", \"male\", \"male\", \"male\", \"male\", \"male\", \"male\", \"female\", \"female\", \"male\", \"male\", \"female\", \"male\", \"female\", \"male\", \"female\", \"male\", \"male\", \"female\", \"female\", \"male\", \"male\", \"male\", \"male\", \"female\", \"female\", \"male\", \"male\", \"male\", \"female\", \"male\", \"male\", \"female\", \"female\", \"female\", \"female\", \"female\", \"female\", \"male\", \"male\", \"male\", \"male\", \"female\", \"male\", \"male\", \"male\", \"female\", \"female\", \"male\", \"male\", \"female\", \"male\", \"female\", \"female\", \"female\", \"male\", \"male\", \"female\", \"male\", \"male\", \"male\", \"male\", \"male\", \"male\", \"male\", \"male\", \"male\", \"female\", \"female\", \"female\", \"male\", \"female\", \"male\", \"male\", \"male\", \"female\", \"male\", \"female\", \"female\", \"male\", \"male\", \"female\", \"male\", \"male\", \"female\", \"female\", \"male\", \"female\", \"female\", \"female\", \"female\", \"male\", \"male\", \"female\", \"female\", \"male\", \"female\", \"female\", \"male\", \"male\", \"female\", \"female\", \"male\", \"female\", \"male\", \"female\", \"female\", \"female\", \"female\", \"male\", \"male\", \"male\", \"female\", \"male\", \"male\", \"female\", \"male\", \"male\", \"male\", \"female\", \"male\", \"male\", \"male\", \"female\", \"female\", \"female\", \"male\", \"male\", \"male\", \"male\", \"male\", \"male\", \"male\", \"male\", \"female\", \"female\", \"female\", \"female\", \"male\", \"male\", \"female\", \"male\", \"male\", \"male\", \"female\", \"female\", \"female\", \"female\", \"male\", \"male\", \"male\", \"male\", \"female\", \"female\", \"female\", \"male\", \"male\", \"male\", \"female\", \"female\", \"male\", \"female\", \"male\", \"male\", \"male\", \"female\", \"male\", \"female\", \"male\", \"male\", \"male\", \"female\", \"female\", \"male\", \"female\", \"male\", \"male\", \"female\", \"male\", \"male\", \"female\", \"male\", \"female\", \"male\", \"male\", \"male\", \"male\", \"female\", \"male\", \"male\", \"female\", \"male\", \"male\", \"female\", \"female\", \"female\", \"male\", \"female\", \"male\", \"male\", \"male\", \"female\", \"male\", \"male\", \"female\", \"female\", \"male\", \"male\", \"male\", \"female\", \"female\", \"male\", \"male\", \"female\", \"female\", \"female\", \"male\", \"male\", \"female\", \"male\", \"male\", \"female\", \"male\", \"male\", \"female\", \"male\", \"female\", \"male\", \"male\", \"male\", \"male\", \"male\", \"male\", \"male\", \"male\", \"female\", \"female\", \"male\", \"male\", \"male\", \"male\", \"male\", \"male\", \"male\", \"male\", \"male\", \"male\", \"female\", \"male\", \"male\", \"female\", \"female\", \"female\", \"male\", \"male\", \"male\", \"male\", \"female\", \"male\", \"male\", \"male\", \"female\", \"male\", \"female\", \"female\", \"male\", \"male\", \"male\", \"male\", \"male\", \"male\", \"male\", \"male\", \"male\", \"female\", \"male\", \"female\", \"male\", \"male\", \"female\", \"female\", \"female\", \"female\", \"male\", \"female\", \"male\", \"male\", \"male\", \"male\", \"male\", \"male\", \"female\", \"male\", \"male\", \"female\", \"male\", \"female\", \"male\", \"female\", \"male\", \"male\", \"female\", \"male\", \"male\", \"female\", \"male\", \"male\", \"male\", \"female\", \"male\", \"male\", \"female\", \"female\", \"female\", \"male\", \"female\", \"male\", \"female\", \"female\", \"female\", \"female\", \"male\", \"male\", \"male\", \"female\", \"male\", \"male\", \"male\", \"male\", \"male\", \"male\", \"male\", \"female\", \"male\", \"female\", \"male\", \"female\", \"female\", \"male\", \"male\", \"male\", \"male\", \"female\", \"male\", \"male\", \"female\", \"male\", \"male\", \"male\", \"female\", \"male\", \"female\", \"male\", \"male\", \"female\", \"female\", \"female\", \"male\", \"female\", \"female\", \"male\", \"male\", \"male\", \"female\", \"male\", \"male\", \"male\", \"male\", \"male\", \"female\", \"male\", \"female\", \"male\", \"male\", \"female\", \"male\", \"male\", \"male\", \"female\", \"male\", \"male\", \"male\", \"male\", \"male\", \"male\", \"male\", \"female\", \"female\", \"female\", \"male\", \"female\", \"male\", \"male\", \"female\", \"male\", \"female\", \"female\", \"male\", \"male\", \"male\", \"male\", \"male\", \"male\", \"male\", \"male\", \"female\", \"male\", \"male\", \"male\", \"male\", \"male\", \"male\", \"female\", \"female\", \"male\", \"male\", \"female\", \"male\", \"male\", \"female\", \"female\", \"male\", \"female\", \"male\", \"male\", \"male\", \"male\", \"female\", \"male\", \"female\", \"male\", \"female\", \"female\", \"male\", \"male\", \"female\", \"male\", \"male\", \"male\", \"male\", \"male\", \"male\", \"male\", \"male\", \"male\", \"male\", \"male\", \"female\", \"female\", \"male\", \"male\", \"male\", \"male\", \"male\", \"male\", \"female\", \"female\", \"male\", \"female\", \"male\", \"male\", \"male\", \"male\", \"male\", \"male\", \"male\", \"male\", \"female\", \"male\", \"female\", \"male\", \"male\", \"male\", \"male\", \"male\", \"female\", \"male\", \"male\", \"female\", \"male\", \"female\", \"male\", \"male\", \"male\", \"female\", \"male\", \"female\", \"male\", \"female\", \"male\", \"male\", \"male\", \"male\", \"male\", \"female\", \"female\", \"male\", \"male\", \"female\", \"male\", \"male\", \"male\", \"male\", \"male\", \"female\", \"female\", \"male\", \"female\", \"female\", \"male\", \"male\", \"male\", \"male\", \"male\", \"female\", \"male\", \"male\", \"male\", \"male\", \"male\", \"female\", \"male\", \"male\", \"male\", \"male\", \"female\", \"male\", \"male\", \"female\", \"male\", \"male\", \"male\", \"female\", \"male\", \"male\", \"male\", \"male\", \"female\", \"male\", \"male\", \"male\", \"female\", \"male\", \"female\", \"male\", \"female\", \"male\", \"male\", \"male\", \"male\", \"female\", \"male\", \"female\", \"male\", \"male\", \"female\", \"male\", \"female\", \"female\", \"female\", \"male\", \"male\", \"male\", \"male\", \"female\", \"male\", \"male\", \"male\", \"male\", \"male\", \"female\", \"male\", \"male\", \"male\", \"female\", \"female\", \"male\", \"female\", \"male\", \"female\", \"male\", \"male\", \"male\", \"male\", \"male\", \"female\", \"male\", \"female\", \"male\", \"male\", \"male\", \"female\", \"male\", \"male\", \"female\", \"male\", \"male\", \"male\", \"female\", \"male\", \"male\", \"female\", \"male\", \"male\", \"male\", \"male\", \"male\", \"female\", \"female\", \"male\", \"male\", \"male\", \"male\", \"female\", \"male\", \"male\", \"male\", \"male\", \"male\", \"male\", \"female\", \"male\", \"male\", \"male\", \"male\", \"male\", \"male\", \"female\", \"male\", \"male\", \"female\", \"female\", \"female\", \"female\", \"female\", \"male\", \"female\", \"male\", \"male\", \"male\", \"female\", \"female\", \"male\", \"female\", \"female\", \"male\", \"male\", \"male\", \"male\", \"female\", \"male\", \"male\", \"female\", \"female\", \"male\", \"male\", \"male\", \"female\", \"female\", \"male\", \"female\", \"male\", \"male\", \"female\", \"male\", \"female\", \"female\", \"male\", \"male\"], \"legendgroup\": \"\", \"name\": \"\", \"showlegend\": true, \"type\": \"pie\", \"values\": [7.25, 71.2833, 7.925, 53.1, 8.05, 8.4583, 51.8625, 21.075, 11.1333, 30.0708, 16.7, 26.55, 8.05, 31.275, 7.8542, 16.0, 29.125, 13.0, 18.0, 7.225, 26.0, 13.0, 8.0292, 35.5, 21.075, 31.3875, 7.225, 263.0, 7.8792, 7.8958, 27.7208, 146.5208, 7.75, 10.5, 82.1708, 52.0, 7.2292, 8.05, 18.0, 11.2417, 9.475, 21.0, 7.8958, 41.5792, 7.8792, 8.05, 15.5, 7.75, 21.6792, 17.8, 39.6875, 7.8, 76.7292, 26.0, 61.9792, 35.5, 10.5, 7.2292, 27.75, 46.9, 7.2292, 80.0, 83.475, 27.9, 27.7208, 15.2458, 10.5, 8.1583, 7.925, 8.6625, 10.5, 46.9, 73.5, 14.4542, 56.4958, 7.65, 7.8958, 8.05, 29.0, 12.475, 9.0, 9.5, 7.7875, 47.1, 10.5, 15.85, 34.375, 8.05, 263.0, 8.05, 8.05, 7.8542, 61.175, 20.575, 7.25, 8.05, 34.6542, 63.3583, 23.0, 26.0, 7.8958, 7.8958, 77.2875, 8.6542, 7.925, 7.8958, 7.65, 7.775, 7.8958, 24.15, 52.0, 14.4542, 8.05, 9.825, 14.4583, 7.925, 7.75, 21.0, 247.5208, 31.275, 73.5, 8.05, 30.0708, 13.0, 77.2875, 11.2417, 7.75, 7.1417, 22.3583, 6.975, 7.8958, 7.05, 14.5, 26.0, 13.0, 15.0458, 26.2833, 53.1, 9.2167, 79.2, 15.2458, 7.75, 15.85, 6.75, 11.5, 36.75, 7.7958, 34.375, 26.0, 13.0, 12.525, 66.6, 8.05, 14.5, 7.3125, 61.3792, 7.7333, 8.05, 8.6625, 69.55, 16.1, 15.75, 7.775, 8.6625, 39.6875, 20.525, 55.0, 27.9, 25.925, 56.4958, 33.5, 29.125, 11.1333, 7.925, 30.6958, 7.8542, 25.4667, 28.7125, 13.0, 0.0, 69.55, 15.05, 31.3875, 39.0, 22.025, 50.0, 15.5, 26.55, 15.5, 7.8958, 13.0, 13.0, 7.8542, 26.0, 27.7208, 146.5208, 7.75, 8.4042, 7.75, 13.0, 9.5, 69.55, 6.4958, 7.225, 8.05, 10.4625, 15.85, 18.7875, 7.75, 31.0, 7.05, 21.0, 7.25, 13.0, 7.75, 113.275, 7.925, 27.0, 76.2917, 10.5, 8.05, 13.0, 8.05, 7.8958, 90.0, 9.35, 10.5, 7.25, 13.0, 25.4667, 83.475, 7.775, 13.5, 31.3875, 10.5, 7.55, 26.0, 26.25, 10.5, 12.275, 14.4542, 15.5, 10.5, 7.125, 7.225, 90.0, 7.775, 14.5, 52.5542, 26.0, 7.25, 10.4625, 26.55, 16.1, 20.2125, 15.2458, 79.2, 86.5, 512.3292, 26.0, 7.75, 31.3875, 79.65, 0.0, 7.75, 10.5, 39.6875, 7.775, 153.4625, 135.6333, 31.0, 0.0, 19.5, 29.7, 7.75, 77.9583, 7.75, 0.0, 29.125, 20.25, 7.75, 7.8542, 9.5, 8.05, 26.0, 8.6625, 9.5, 7.8958, 13.0, 7.75, 78.85, 91.0792, 12.875, 8.85, 7.8958, 27.7208, 7.2292, 151.55, 30.5, 247.5208, 7.75, 23.25, 0.0, 12.35, 8.05, 151.55, 110.8833, 108.9, 24.0, 56.9292, 83.1583, 262.375, 26.0, 7.8958, 26.25, 7.8542, 26.0, 14.0, 164.8667, 134.5, 7.25, 7.8958, 12.35, 29.0, 69.55, 135.6333, 6.2375, 13.0, 20.525, 57.9792, 23.25, 28.5, 153.4625, 18.0, 133.65, 7.8958, 66.6, 134.5, 8.05, 35.5, 26.0, 263.0, 13.0, 13.0, 13.0, 13.0, 13.0, 16.1, 15.9, 8.6625, 9.225, 35.0, 7.2292, 17.8, 7.225, 9.5, 55.0, 13.0, 7.8792, 7.8792, 27.9, 27.7208, 14.4542, 7.05, 15.5, 7.25, 75.25, 7.2292, 7.75, 69.3, 55.4417, 6.4958, 8.05, 135.6333, 21.075, 82.1708, 7.25, 211.5, 4.0125, 7.775, 227.525, 15.7417, 7.925, 52.0, 7.8958, 73.5, 46.9, 13.0, 7.7292, 12.0, 120.0, 7.7958, 7.925, 113.275, 16.7, 7.7958, 7.8542, 26.0, 10.5, 12.65, 7.925, 8.05, 9.825, 15.85, 8.6625, 21.0, 7.75, 18.75, 7.775, 25.4667, 7.8958, 6.8583, 90.0, 0.0, 7.925, 8.05, 32.5, 13.0, 13.0, 24.15, 7.8958, 7.7333, 7.875, 14.4, 20.2125, 7.25, 26.0, 26.0, 7.75, 8.05, 26.55, 16.1, 26.0, 7.125, 55.9, 120.0, 34.375, 18.75, 263.0, 10.5, 26.25, 9.5, 7.775, 13.0, 8.1125, 81.8583, 19.5, 26.55, 19.2583, 30.5, 27.75, 19.9667, 27.75, 89.1042, 8.05, 7.8958, 26.55, 51.8625, 10.5, 7.75, 26.55, 8.05, 38.5, 13.0, 8.05, 7.05, 0.0, 26.55, 7.725, 19.2583, 7.25, 8.6625, 27.75, 13.7917, 9.8375, 52.0, 21.0, 7.0458, 7.5208, 12.2875, 46.9, 0.0, 8.05, 9.5875, 91.0792, 25.4667, 90.0, 29.7, 8.05, 15.9, 19.9667, 7.25, 30.5, 49.5042, 8.05, 14.4583, 78.2667, 15.1, 151.55, 7.7958, 8.6625, 7.75, 7.6292, 9.5875, 86.5, 108.9, 26.0, 26.55, 22.525, 56.4958, 7.75, 8.05, 26.2875, 59.4, 7.4958, 34.0208, 10.5, 24.15, 26.0, 7.8958, 93.5, 7.8958, 7.225, 57.9792, 7.2292, 7.75, 10.5, 221.7792, 7.925, 11.5, 26.0, 7.2292, 7.2292, 22.3583, 8.6625, 26.25, 26.55, 106.425, 14.5, 49.5, 71.0, 31.275, 31.275, 26.0, 106.425, 26.0, 26.0, 13.8625, 20.525, 36.75, 110.8833, 26.0, 7.8292, 7.225, 7.775, 26.55, 39.6, 227.525, 79.65, 17.4, 7.75, 7.8958, 13.5, 8.05, 8.05, 24.15, 7.8958, 21.075, 7.2292, 7.8542, 10.5, 51.4792, 26.3875, 7.75, 8.05, 14.5, 13.0, 55.9, 14.4583, 7.925, 30.0, 110.8833, 26.0, 40.125, 8.7125, 79.65, 15.0, 79.2, 8.05, 8.05, 7.125, 78.2667, 7.25, 7.75, 26.0, 24.15, 33.0, 0.0, 7.225, 56.9292, 27.0, 7.8958, 42.4, 8.05, 26.55, 15.55, 7.8958, 30.5, 41.5792, 153.4625, 31.275, 7.05, 15.5, 7.75, 8.05, 65.0, 14.4, 16.1, 39.0, 10.5, 14.4542, 52.5542, 15.7417, 7.8542, 16.1, 32.3208, 12.35, 77.9583, 7.8958, 7.7333, 30.0, 7.0542, 30.5, 0.0, 27.9, 13.0, 7.925, 26.25, 39.6875, 16.1, 7.8542, 69.3, 27.9, 56.4958, 19.2583, 76.7292, 7.8958, 35.5, 7.55, 7.55, 7.8958, 23.0, 8.4333, 7.8292, 6.75, 73.5, 7.8958, 15.5, 13.0, 113.275, 133.65, 7.225, 25.5875, 7.4958, 7.925, 73.5, 13.0, 7.775, 8.05, 52.0, 39.0, 52.0, 10.5, 13.0, 0.0, 7.775, 8.05, 9.8417, 46.9, 512.3292, 8.1375, 76.7292, 9.225, 46.9, 39.0, 41.5792, 39.6875, 10.1708, 7.7958, 211.3375, 57.0, 13.4167, 56.4958, 7.225, 26.55, 13.5, 8.05, 7.7333, 110.8833, 7.65, 227.525, 26.2875, 14.4542, 7.7417, 7.8542, 26.0, 13.5, 26.2875, 151.55, 15.2458, 49.5042, 26.55, 52.0, 9.4833, 13.0, 7.65, 227.525, 10.5, 15.5, 7.775, 33.0, 7.0542, 13.0, 13.0, 53.1, 8.6625, 21.0, 7.7375, 26.0, 7.925, 211.3375, 18.7875, 0.0, 13.0, 13.0, 16.1, 34.375, 512.3292, 7.8958, 7.8958, 30.0, 78.85, 262.375, 16.1, 7.925, 71.0, 20.25, 13.0, 53.1, 7.75, 23.0, 12.475, 9.5, 7.8958, 65.0, 14.5, 7.7958, 11.5, 8.05, 86.5, 14.5, 7.125, 7.2292, 120.0, 7.775, 77.9583, 39.6, 7.75, 24.15, 8.3625, 9.5, 7.8542, 10.5, 7.225, 23.0, 7.75, 7.75, 12.475, 7.7375, 211.3375, 7.2292, 57.0, 30.0, 23.45, 7.05, 7.25, 7.4958, 29.125, 20.575, 79.2, 7.75, 26.0, 69.55, 30.6958, 7.8958, 13.0, 25.9292, 8.6833, 7.2292, 24.15, 13.0, 26.25, 120.0, 8.5167, 6.975, 7.775, 0.0, 7.775, 13.0, 53.1, 7.8875, 24.15, 10.5, 31.275, 8.05, 0.0, 7.925, 37.0042, 6.45, 27.9, 93.5, 8.6625, 0.0, 12.475, 39.6875, 6.95, 56.4958, 37.0042, 7.75, 80.0, 14.4542, 18.75, 7.2292, 7.8542, 8.3, 83.1583, 8.6625, 8.05, 56.4958, 29.7, 7.925, 10.5, 31.0, 6.4375, 8.6625, 7.55, 69.55, 7.8958, 33.0, 89.1042, 31.275, 7.775, 15.2458, 39.4, 26.0, 9.35, 164.8667, 26.55, 19.2583, 7.2292, 14.1083, 11.5, 25.9292, 69.55, 13.0, 13.0, 13.8583, 50.4958, 9.5, 11.1333, 7.8958, 52.5542, 5.0, 9.0, 24.0, 7.225, 9.8458, 7.8958, 7.8958, 83.1583, 26.0, 7.8958, 10.5167, 10.5, 7.05, 29.125, 13.0, 30.0, 23.45, 30.0, 7.75]}],\n",
              "                        {\"legend\": {\"tracegroupgap\": 0}, \"template\": {\"data\": {\"bar\": [{\"error_x\": {\"color\": \"#2a3f5f\"}, \"error_y\": {\"color\": \"#2a3f5f\"}, \"marker\": {\"line\": {\"color\": \"#E5ECF6\", \"width\": 0.5}}, \"type\": \"bar\"}], \"barpolar\": [{\"marker\": {\"line\": {\"color\": \"#E5ECF6\", \"width\": 0.5}}, \"type\": \"barpolar\"}], \"carpet\": [{\"aaxis\": {\"endlinecolor\": \"#2a3f5f\", \"gridcolor\": \"white\", \"linecolor\": \"white\", \"minorgridcolor\": \"white\", \"startlinecolor\": \"#2a3f5f\"}, \"baxis\": {\"endlinecolor\": \"#2a3f5f\", \"gridcolor\": \"white\", \"linecolor\": \"white\", \"minorgridcolor\": \"white\", \"startlinecolor\": \"#2a3f5f\"}, \"type\": \"carpet\"}], \"choropleth\": [{\"colorbar\": {\"outlinewidth\": 0, \"ticks\": \"\"}, \"type\": \"choropleth\"}], \"contour\": [{\"colorbar\": {\"outlinewidth\": 0, \"ticks\": \"\"}, \"colorscale\": [[0.0, \"#0d0887\"], [0.1111111111111111, \"#46039f\"], [0.2222222222222222, \"#7201a8\"], [0.3333333333333333, \"#9c179e\"], [0.4444444444444444, \"#bd3786\"], [0.5555555555555556, \"#d8576b\"], [0.6666666666666666, \"#ed7953\"], [0.7777777777777778, \"#fb9f3a\"], [0.8888888888888888, \"#fdca26\"], [1.0, \"#f0f921\"]], \"type\": \"contour\"}], \"contourcarpet\": [{\"colorbar\": {\"outlinewidth\": 0, \"ticks\": \"\"}, \"type\": \"contourcarpet\"}], \"heatmap\": [{\"colorbar\": {\"outlinewidth\": 0, \"ticks\": \"\"}, \"colorscale\": [[0.0, \"#0d0887\"], [0.1111111111111111, \"#46039f\"], [0.2222222222222222, \"#7201a8\"], [0.3333333333333333, \"#9c179e\"], [0.4444444444444444, \"#bd3786\"], [0.5555555555555556, \"#d8576b\"], [0.6666666666666666, \"#ed7953\"], [0.7777777777777778, \"#fb9f3a\"], [0.8888888888888888, \"#fdca26\"], [1.0, \"#f0f921\"]], \"type\": \"heatmap\"}], \"heatmapgl\": [{\"colorbar\": {\"outlinewidth\": 0, \"ticks\": \"\"}, \"colorscale\": [[0.0, \"#0d0887\"], [0.1111111111111111, \"#46039f\"], [0.2222222222222222, \"#7201a8\"], [0.3333333333333333, \"#9c179e\"], [0.4444444444444444, \"#bd3786\"], [0.5555555555555556, \"#d8576b\"], [0.6666666666666666, \"#ed7953\"], [0.7777777777777778, \"#fb9f3a\"], [0.8888888888888888, \"#fdca26\"], [1.0, \"#f0f921\"]], \"type\": \"heatmapgl\"}], \"histogram\": [{\"marker\": {\"colorbar\": {\"outlinewidth\": 0, \"ticks\": \"\"}}, \"type\": \"histogram\"}], \"histogram2d\": [{\"colorbar\": {\"outlinewidth\": 0, \"ticks\": \"\"}, \"colorscale\": [[0.0, \"#0d0887\"], [0.1111111111111111, \"#46039f\"], [0.2222222222222222, \"#7201a8\"], [0.3333333333333333, \"#9c179e\"], [0.4444444444444444, \"#bd3786\"], [0.5555555555555556, \"#d8576b\"], [0.6666666666666666, \"#ed7953\"], [0.7777777777777778, \"#fb9f3a\"], [0.8888888888888888, \"#fdca26\"], [1.0, \"#f0f921\"]], \"type\": \"histogram2d\"}], \"histogram2dcontour\": [{\"colorbar\": {\"outlinewidth\": 0, \"ticks\": \"\"}, \"colorscale\": [[0.0, \"#0d0887\"], [0.1111111111111111, \"#46039f\"], [0.2222222222222222, \"#7201a8\"], [0.3333333333333333, \"#9c179e\"], [0.4444444444444444, \"#bd3786\"], [0.5555555555555556, \"#d8576b\"], [0.6666666666666666, \"#ed7953\"], [0.7777777777777778, \"#fb9f3a\"], [0.8888888888888888, \"#fdca26\"], [1.0, \"#f0f921\"]], \"type\": \"histogram2dcontour\"}], \"mesh3d\": [{\"colorbar\": {\"outlinewidth\": 0, \"ticks\": \"\"}, \"type\": \"mesh3d\"}], \"parcoords\": [{\"line\": {\"colorbar\": {\"outlinewidth\": 0, \"ticks\": \"\"}}, \"type\": \"parcoords\"}], \"pie\": [{\"automargin\": true, \"type\": \"pie\"}], \"scatter\": [{\"marker\": {\"colorbar\": {\"outlinewidth\": 0, \"ticks\": \"\"}}, \"type\": \"scatter\"}], \"scatter3d\": [{\"line\": {\"colorbar\": {\"outlinewidth\": 0, \"ticks\": \"\"}}, \"marker\": {\"colorbar\": {\"outlinewidth\": 0, \"ticks\": \"\"}}, \"type\": \"scatter3d\"}], \"scattercarpet\": [{\"marker\": {\"colorbar\": {\"outlinewidth\": 0, \"ticks\": \"\"}}, \"type\": \"scattercarpet\"}], \"scattergeo\": [{\"marker\": {\"colorbar\": {\"outlinewidth\": 0, \"ticks\": \"\"}}, \"type\": \"scattergeo\"}], \"scattergl\": [{\"marker\": {\"colorbar\": {\"outlinewidth\": 0, \"ticks\": \"\"}}, \"type\": \"scattergl\"}], \"scattermapbox\": [{\"marker\": {\"colorbar\": {\"outlinewidth\": 0, \"ticks\": \"\"}}, \"type\": \"scattermapbox\"}], \"scatterpolar\": [{\"marker\": {\"colorbar\": {\"outlinewidth\": 0, \"ticks\": \"\"}}, \"type\": \"scatterpolar\"}], \"scatterpolargl\": [{\"marker\": {\"colorbar\": {\"outlinewidth\": 0, \"ticks\": \"\"}}, \"type\": \"scatterpolargl\"}], \"scatterternary\": [{\"marker\": {\"colorbar\": {\"outlinewidth\": 0, \"ticks\": \"\"}}, \"type\": \"scatterternary\"}], \"surface\": [{\"colorbar\": {\"outlinewidth\": 0, \"ticks\": \"\"}, \"colorscale\": [[0.0, \"#0d0887\"], [0.1111111111111111, \"#46039f\"], [0.2222222222222222, \"#7201a8\"], [0.3333333333333333, \"#9c179e\"], [0.4444444444444444, \"#bd3786\"], [0.5555555555555556, \"#d8576b\"], [0.6666666666666666, \"#ed7953\"], [0.7777777777777778, \"#fb9f3a\"], [0.8888888888888888, \"#fdca26\"], [1.0, \"#f0f921\"]], \"type\": \"surface\"}], \"table\": [{\"cells\": {\"fill\": {\"color\": \"#EBF0F8\"}, \"line\": {\"color\": \"white\"}}, \"header\": {\"fill\": {\"color\": \"#C8D4E3\"}, \"line\": {\"color\": \"white\"}}, \"type\": \"table\"}]}, \"layout\": {\"annotationdefaults\": {\"arrowcolor\": \"#2a3f5f\", \"arrowhead\": 0, \"arrowwidth\": 1}, \"coloraxis\": {\"colorbar\": {\"outlinewidth\": 0, \"ticks\": \"\"}}, \"colorscale\": {\"diverging\": [[0, \"#8e0152\"], [0.1, \"#c51b7d\"], [0.2, \"#de77ae\"], [0.3, \"#f1b6da\"], [0.4, \"#fde0ef\"], [0.5, \"#f7f7f7\"], [0.6, \"#e6f5d0\"], [0.7, \"#b8e186\"], [0.8, \"#7fbc41\"], [0.9, \"#4d9221\"], [1, \"#276419\"]], \"sequential\": [[0.0, \"#0d0887\"], [0.1111111111111111, \"#46039f\"], [0.2222222222222222, \"#7201a8\"], [0.3333333333333333, \"#9c179e\"], [0.4444444444444444, \"#bd3786\"], [0.5555555555555556, \"#d8576b\"], [0.6666666666666666, \"#ed7953\"], [0.7777777777777778, \"#fb9f3a\"], [0.8888888888888888, \"#fdca26\"], [1.0, \"#f0f921\"]], \"sequentialminus\": [[0.0, \"#0d0887\"], [0.1111111111111111, \"#46039f\"], [0.2222222222222222, \"#7201a8\"], [0.3333333333333333, \"#9c179e\"], [0.4444444444444444, \"#bd3786\"], [0.5555555555555556, \"#d8576b\"], [0.6666666666666666, \"#ed7953\"], [0.7777777777777778, \"#fb9f3a\"], [0.8888888888888888, \"#fdca26\"], [1.0, \"#f0f921\"]]}, \"colorway\": [\"#636efa\", \"#EF553B\", \"#00cc96\", \"#ab63fa\", \"#FFA15A\", \"#19d3f3\", \"#FF6692\", \"#B6E880\", \"#FF97FF\", \"#FECB52\"], \"font\": {\"color\": \"#2a3f5f\"}, \"geo\": {\"bgcolor\": \"white\", \"lakecolor\": \"white\", \"landcolor\": \"#E5ECF6\", \"showlakes\": true, \"showland\": true, \"subunitcolor\": \"white\"}, \"hoverlabel\": {\"align\": \"left\"}, \"hovermode\": \"closest\", \"mapbox\": {\"style\": \"light\"}, \"paper_bgcolor\": \"white\", \"plot_bgcolor\": \"#E5ECF6\", \"polar\": {\"angularaxis\": {\"gridcolor\": \"white\", \"linecolor\": \"white\", \"ticks\": \"\"}, \"bgcolor\": \"#E5ECF6\", \"radialaxis\": {\"gridcolor\": \"white\", \"linecolor\": \"white\", \"ticks\": \"\"}}, \"scene\": {\"xaxis\": {\"backgroundcolor\": \"#E5ECF6\", \"gridcolor\": \"white\", \"gridwidth\": 2, \"linecolor\": \"white\", \"showbackground\": true, \"ticks\": \"\", \"zerolinecolor\": \"white\"}, \"yaxis\": {\"backgroundcolor\": \"#E5ECF6\", \"gridcolor\": \"white\", \"gridwidth\": 2, \"linecolor\": \"white\", \"showbackground\": true, \"ticks\": \"\", \"zerolinecolor\": \"white\"}, \"zaxis\": {\"backgroundcolor\": \"#E5ECF6\", \"gridcolor\": \"white\", \"gridwidth\": 2, \"linecolor\": \"white\", \"showbackground\": true, \"ticks\": \"\", \"zerolinecolor\": \"white\"}}, \"shapedefaults\": {\"line\": {\"color\": \"#2a3f5f\"}}, \"ternary\": {\"aaxis\": {\"gridcolor\": \"white\", \"linecolor\": \"white\", \"ticks\": \"\"}, \"baxis\": {\"gridcolor\": \"white\", \"linecolor\": \"white\", \"ticks\": \"\"}, \"bgcolor\": \"#E5ECF6\", \"caxis\": {\"gridcolor\": \"white\", \"linecolor\": \"white\", \"ticks\": \"\"}}, \"title\": {\"x\": 0.05}, \"xaxis\": {\"automargin\": true, \"gridcolor\": \"white\", \"linecolor\": \"white\", \"ticks\": \"\", \"title\": {\"standoff\": 15}, \"zerolinecolor\": \"white\", \"zerolinewidth\": 2}, \"yaxis\": {\"automargin\": true, \"gridcolor\": \"white\", \"linecolor\": \"white\", \"ticks\": \"\", \"title\": {\"standoff\": 15}, \"zerolinecolor\": \"white\", \"zerolinewidth\": 2}}}, \"title\": {\"text\": \"Was There A Gender Bias?\"}},\n",
              "                        {\"responsive\": true}\n",
              "                    ).then(function(){\n",
              "                            \n",
              "var gd = document.getElementById('da79fe27-e007-48af-b9bb-b58f1cd92413');\n",
              "var x = new MutationObserver(function (mutations, observer) {{\n",
              "        var display = window.getComputedStyle(gd).display;\n",
              "        if (!display || display === 'none') {{\n",
              "            console.log([gd, 'removed!']);\n",
              "            Plotly.purge(gd);\n",
              "            observer.disconnect();\n",
              "        }}\n",
              "}});\n",
              "\n",
              "// Listen for the removal of the full notebook cells\n",
              "var notebookContainer = gd.closest('#notebook-container');\n",
              "if (notebookContainer) {{\n",
              "    x.observe(notebookContainer, {childList: true});\n",
              "}}\n",
              "\n",
              "// Listen for the clearing of the current output cell\n",
              "var outputEl = gd.closest('.output');\n",
              "if (outputEl) {{\n",
              "    x.observe(outputEl, {childList: true});\n",
              "}}\n",
              "\n",
              "                        })\n",
              "                };\n",
              "                \n",
              "            </script>\n",
              "        </div>\n",
              "</body>\n",
              "</html>"
            ]
          },
          "metadata": {}
        }
      ]
    }
  ]
}