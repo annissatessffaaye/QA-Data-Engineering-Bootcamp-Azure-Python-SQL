{
  "nbformat": 4,
  "nbformat_minor": 0,
  "metadata": {
    "colab": {
      "name": "azure_hello_part_b",
      "provenance": [],
      "collapsed_sections": [],
      "authorship_tag": "ABX9TyPBiMeKYVE7iqIsd4746iaZ",
      "include_colab_link": true
    },
    "kernelspec": {
      "name": "python3",
      "display_name": "Python 3"
    },
    "language_info": {
      "name": "python"
    }
  },
  "cells": [
    {
      "cell_type": "markdown",
      "metadata": {
        "id": "view-in-github",
        "colab_type": "text"
      },
      "source": [
        "<a href=\"https://colab.research.google.com/github/annissatessffaaye/QAPython/blob/main/azure_hello_part_b.ipynb\" target=\"_parent\"><img src=\"https://colab.research.google.com/assets/colab-badge.svg\" alt=\"Open In Colab\"/></a>"
      ]
    },
    {
      "cell_type": "code",
      "metadata": {
        "id": "21Xq4Q0NJOFa"
      },
      "source": [
        "# get-started/run-hello.py\n",
        "from azureml.core import Workspace, Experiment, Environment, ScriptRunConfig\n",
        "\n",
        "#Workspace connects to my Azure Machine Learning workspace, \n",
        "#so that I can communicate with my Azure Machine Learning resources\n",
        "ws = Workspace.from_config()\n",
        "\n",
        "#Experiment provides a simple way to organize multiple runs under a single name. \n",
        "#If I want to later I can see how experiments make it easy to compare metrics between dozens of runs.\n",
        "experiment = Experiment(workspace=ws, name='day1-experiment-hello')\n",
        "\n",
        "#ScriptRunConfig wraps my hello.py code and passes it to my workspace. As the name suggests, \n",
        "#I can use this class to configure how I want my script to run in Azure Machine Learning. \n",
        "#It also specifies what compute target the script will run on. \n",
        "#In this code, the target is the compute cluster that I created in the setup previously.\n",
        "config = ScriptRunConfig(source_directory='./src', script='hello.py', compute_target='cpu-cluster')\n",
        "\n",
        "#Submits my script. This submission is called a run. A run encapsulates a single execution of my code. \n",
        "#I'm using a run to monitor the script progress, capture the output, analyze the results, visualize metrics, and more.\n",
        "run = experiment.submit(config)\n",
        "\n",
        "#The run object provides a handle on the execution of my code. \n",
        "#I can monitor its progress from the Azure Machine Learning studio with the URL that's printed from the Python script.\n",
        "aml_url = run.get_portal_url()\n",
        "print(aml_url)"
      ],
      "execution_count": null,
      "outputs": []
    }
  ]
}