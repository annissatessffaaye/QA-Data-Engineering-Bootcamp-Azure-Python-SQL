{
  "nbformat": 4,
  "nbformat_minor": 0,
  "metadata": {
    "colab": {
      "name": "QA Introducing Python Fundamentals.ipynb",
      "provenance": [],
      "collapsed_sections": [],
      "authorship_tag": "ABX9TyNPW0cl2tsZ2SaE+x0mxd0e",
      "include_colab_link": true
    },
    "kernelspec": {
      "name": "python3",
      "display_name": "Python 3"
    },
    "language_info": {
      "name": "python"
    }
  },
  "cells": [
    {
      "cell_type": "markdown",
      "metadata": {
        "id": "view-in-github",
        "colab_type": "text"
      },
      "source": [
        "<a href=\"https://colab.research.google.com/github/annissatessffaaye/QAPython/blob/master/QA_Introducing_Python_Fundamentals.ipynb\" target=\"_parent\"><img src=\"https://colab.research.google.com/assets/colab-badge.svg\" alt=\"Open In Colab\"/></a>"
      ]
    },
    {
      "cell_type": "code",
      "metadata": {
        "colab": {
          "base_uri": "https://localhost:8080/"
        },
        "id": "Y_eSkiLYixBq",
        "outputId": "db5b6895-2068-4256-b7e2-a76a881db0be"
      },
      "source": [
        "print(5)\n",
        "print(5.0)\n",
        "print(\"5\")\n",
        "print(True)\n",
        "print([\"Lovers\", \"Haters\", \"Needers\"])"
      ],
      "execution_count": 1,
      "outputs": [
        {
          "output_type": "stream",
          "name": "stdout",
          "text": [
            "5\n",
            "5.0\n",
            "5\n",
            "True\n",
            "['Lovers', 'Haters', 'Needers']\n"
          ]
        }
      ]
    },
    {
      "cell_type": "code",
      "metadata": {
        "colab": {
          "base_uri": "https://localhost:8080/"
        },
        "id": "g8svQ_ibi9FB",
        "outputId": "fe57acde-03dd-4b22-ed83-3bb538f70efb"
      },
      "source": [
        "print(type(5))\n",
        "print(type(5.0))\n",
        "print(type(\"5\"))\n",
        "print(type(True))\n",
        "print(type([\"Lovers\", \"Haters\", \"Needers\"]))"
      ],
      "execution_count": 2,
      "outputs": [
        {
          "output_type": "stream",
          "name": "stdout",
          "text": [
            "<class 'int'>\n",
            "<class 'float'>\n",
            "<class 'str'>\n",
            "<class 'bool'>\n",
            "<class 'list'>\n"
          ]
        }
      ]
    },
    {
      "cell_type": "code",
      "metadata": {
        "colab": {
          "base_uri": "https://localhost:8080/"
        },
        "id": "idfZQxGUjHNH",
        "outputId": "a93da08d-48a7-44d0-cc8a-e5115220402e"
      },
      "source": [
        "name = 'Kofi'\n",
        "age = 41\n",
        "height = 1.82\n",
        "hobbies = [\"Artificial Intelligence\", \"Gaming\", \"Functional Medicine\"]\n",
        "is_alive = True\n",
        "\n",
        "fmesg = f\"{name} is {age} and {height * 100} cm\" # formatted string\n",
        "\n",
        "print(name, age, height)  # print with multiple args = spaced output\n",
        "print(hobbies)\n",
        "print(is_alive)\n",
        "\n",
        "\n",
        "print(fmesg)"
      ],
      "execution_count": 4,
      "outputs": [
        {
          "output_type": "stream",
          "name": "stdout",
          "text": [
            "Kofi 41 1.82\n",
            "['Artificial Intelligence', 'Gaming', 'Functional Medicine']\n",
            "True\n",
            "Kofi is 41 and 182.0 cm\n"
          ]
        }
      ]
    },
    {
      "cell_type": "code",
      "metadata": {
        "colab": {
          "base_uri": "https://localhost:8080/"
        },
        "id": "gvORM3gHjaDQ",
        "outputId": "a315290e-9a74-4edd-ee29-2b19c9afbfaf"
      },
      "source": [
        "age += 1\n",
        "\n",
        "age   # the last line of a jupyter cell is always printed"
      ],
      "execution_count": 5,
      "outputs": [
        {
          "output_type": "execute_result",
          "data": {
            "text/plain": [
              "42"
            ]
          },
          "metadata": {},
          "execution_count": 5
        }
      ]
    },
    {
      "cell_type": "code",
      "metadata": {
        "colab": {
          "base_uri": "https://localhost:8080/"
        },
        "id": "nvZNWNeCjcCk",
        "outputId": "645db0bb-65f2-40cc-8373-86126819617c"
      },
      "source": [
        "print( \"Kofi \" + \"Glover\")\n",
        "print( 2 ** 3 )    # 2 * 2 * 2 = 2^3\n",
        "print( \"-\" * 3 )\n",
        "print( \"@\" in \"kofi.glover@qa.com\")\n",
        "print( True and False )\n",
        "print( [\"Cake\", \"Cream\"] + [\"Flour\", \"Sugar\"] )\n",
        "print( 1.14 <=  2.13 )"
      ],
      "execution_count": 6,
      "outputs": [
        {
          "output_type": "stream",
          "name": "stdout",
          "text": [
            "Kofi Glover\n",
            "8\n",
            "---\n",
            "True\n",
            "False\n",
            "['Cake', 'Cream', 'Flour', 'Sugar']\n",
            "True\n"
          ]
        }
      ]
    },
    {
      "cell_type": "code",
      "metadata": {
        "id": "Zj5jKtqwjoYf"
      },
      "source": [
        "michael_bp = 175\n",
        "alice_bp = 175\n",
        "eve_bp = 140"
      ],
      "execution_count": 7,
      "outputs": []
    },
    {
      "cell_type": "code",
      "metadata": {
        "colab": {
          "base_uri": "https://localhost:8080/"
        },
        "id": "8vosK0h9jvcI",
        "outputId": "b81a9094-0431-4f15-a0bf-6fea175d92c1"
      },
      "source": [
        "michael_bp == alice_bp"
      ],
      "execution_count": 8,
      "outputs": [
        {
          "output_type": "execute_result",
          "data": {
            "text/plain": [
              "True"
            ]
          },
          "metadata": {},
          "execution_count": 8
        }
      ]
    },
    {
      "cell_type": "code",
      "metadata": {
        "colab": {
          "base_uri": "https://localhost:8080/"
        },
        "id": "hldu9U6qj2Y3",
        "outputId": "f87a4af7-269c-4290-d68a-2ef02ac271bd"
      },
      "source": [
        "michael_bp != alice_bp"
      ],
      "execution_count": 9,
      "outputs": [
        {
          "output_type": "execute_result",
          "data": {
            "text/plain": [
              "False"
            ]
          },
          "metadata": {},
          "execution_count": 9
        }
      ]
    },
    {
      "cell_type": "code",
      "metadata": {
        "colab": {
          "base_uri": "https://localhost:8080/"
        },
        "id": "xr-CZZTUj4E5",
        "outputId": "91dab9eb-ec98-42c1-e1cf-356c848b9ef6"
      },
      "source": [
        "michael_bp != eve_bp\n"
      ],
      "execution_count": 10,
      "outputs": [
        {
          "output_type": "execute_result",
          "data": {
            "text/plain": [
              "True"
            ]
          },
          "metadata": {},
          "execution_count": 10
        }
      ]
    },
    {
      "cell_type": "code",
      "metadata": {
        "colab": {
          "base_uri": "https://localhost:8080/"
        },
        "id": "Z3x8jBulkAJW",
        "outputId": "ee188398-7c1c-43d6-aec4-3cc639f30659"
      },
      "source": [
        "michael_bp >= eve_bp"
      ],
      "execution_count": 11,
      "outputs": [
        {
          "output_type": "execute_result",
          "data": {
            "text/plain": [
              "True"
            ]
          },
          "metadata": {},
          "execution_count": 11
        }
      ]
    },
    {
      "cell_type": "code",
      "metadata": {
        "id": "ADTVFb2DkE34"
      },
      "source": [
        "message = \"WARNING: Too High!\""
      ],
      "execution_count": 12,
      "outputs": []
    },
    {
      "cell_type": "code",
      "metadata": {
        "colab": {
          "base_uri": "https://localhost:8080/"
        },
        "id": "qTa_UvUxkLM1",
        "outputId": "3d40cd52-b077-4c59-d33c-29c68ff83a52"
      },
      "source": [
        "(\"WARNING\" in message) and (michael_bp >= eve_bp)"
      ],
      "execution_count": 13,
      "outputs": [
        {
          "output_type": "execute_result",
          "data": {
            "text/plain": [
              "True"
            ]
          },
          "metadata": {},
          "execution_count": 13
        }
      ]
    },
    {
      "cell_type": "code",
      "metadata": {
        "id": "akkXf9T-kPUC"
      },
      "source": [
        "safe_max = 150\n",
        "safe_min = 80"
      ],
      "execution_count": 14,
      "outputs": []
    },
    {
      "cell_type": "code",
      "metadata": {
        "colab": {
          "base_uri": "https://localhost:8080/"
        },
        "id": "owgyKTQfkZJn",
        "outputId": "e4f6bf63-8ce2-4ac0-9cb7-179ea296050c"
      },
      "source": [
        "michael_bp < safe_max"
      ],
      "execution_count": 15,
      "outputs": [
        {
          "output_type": "execute_result",
          "data": {
            "text/plain": [
              "False"
            ]
          },
          "metadata": {},
          "execution_count": 15
        }
      ]
    },
    {
      "cell_type": "code",
      "metadata": {
        "colab": {
          "base_uri": "https://localhost:8080/"
        },
        "id": "_Miz2l14ka4y",
        "outputId": "7f483370-ef1b-43f4-a601-e442adbbd713"
      },
      "source": [
        "eve_bp < safe_max\n"
      ],
      "execution_count": 16,
      "outputs": [
        {
          "output_type": "execute_result",
          "data": {
            "text/plain": [
              "True"
            ]
          },
          "metadata": {},
          "execution_count": 16
        }
      ]
    },
    {
      "cell_type": "code",
      "metadata": {
        "colab": {
          "base_uri": "https://localhost:8080/"
        },
        "id": "lacDUkTlkhVl",
        "outputId": "3ac01b55-26ca-4364-e6da-83bbcf118754"
      },
      "source": [
        "\n",
        "(eve_bp < safe_max) or (michael_bp < safe_max)"
      ],
      "execution_count": 17,
      "outputs": [
        {
          "output_type": "execute_result",
          "data": {
            "text/plain": [
              "True"
            ]
          },
          "metadata": {},
          "execution_count": 17
        }
      ]
    },
    {
      "cell_type": "code",
      "metadata": {
        "colab": {
          "base_uri": "https://localhost:8080/"
        },
        "id": "c6lMnikgkrpd",
        "outputId": "32eceb2e-29ec-40bf-e713-e9f466c3d6a7"
      },
      "source": [
        "not (\"WARNING\" in message)"
      ],
      "execution_count": 18,
      "outputs": [
        {
          "output_type": "execute_result",
          "data": {
            "text/plain": [
              "False"
            ]
          },
          "metadata": {},
          "execution_count": 18
        }
      ]
    },
    {
      "cell_type": "code",
      "metadata": {
        "colab": {
          "base_uri": "https://localhost:8080/"
        },
        "id": "k5y_5r4WkxK1",
        "outputId": "bc7ad38f-4ec8-4133-dfad-b8767438f65b"
      },
      "source": [
        "\"WARNING\" not in message\n"
      ],
      "execution_count": 19,
      "outputs": [
        {
          "output_type": "execute_result",
          "data": {
            "text/plain": [
              "False"
            ]
          },
          "metadata": {},
          "execution_count": 19
        }
      ]
    },
    {
      "cell_type": "code",
      "metadata": {
        "colab": {
          "base_uri": "https://localhost:8080/"
        },
        "id": "5RSNeIA4k3t_",
        "outputId": "0c9e2dc5-4eb7-41d6-e71b-948890e7fef4"
      },
      "source": [
        "if (\"WARNING\" in message) and (michael_bp > safe_max):\n",
        "    print(\"GO TO HOSPITAL\")\n",
        "else:\n",
        "    print(\"STAY AT HOME\")"
      ],
      "execution_count": 20,
      "outputs": [
        {
          "output_type": "stream",
          "name": "stdout",
          "text": [
            "GO TO HOSPITAL\n"
          ]
        }
      ]
    },
    {
      "cell_type": "code",
      "metadata": {
        "colab": {
          "base_uri": "https://localhost:8080/"
        },
        "id": "Ukk7nPS5lEZU",
        "outputId": "0bc7e369-b120-4b5f-b53d-e7a55ddd7647"
      },
      "source": [
        "name = \"Kofi\"\n",
        "\n",
        "print(name)          # output the value of name\n",
        "print( id(name) )    # output the memory location of the value of name\n",
        "print( type(name) )  # output the type of the value of name\n",
        "print( len(name) )   # output the length of (the value of) name "
      ],
      "execution_count": 21,
      "outputs": [
        {
          "output_type": "stream",
          "name": "stdout",
          "text": [
            "Kofi\n",
            "140201843574448\n",
            "<class 'str'>\n",
            "4\n"
          ]
        }
      ]
    },
    {
      "cell_type": "code",
      "metadata": {
        "colab": {
          "base_uri": "https://localhost:8080/"
        },
        "id": "EIWFPue4lGlp",
        "outputId": "4719779c-727d-4241-cd20-c991aa21af9c"
      },
      "source": [
        "# data.operation(requirements)\n",
        "# obj.method(parameters)\n",
        "# ask name to upper() itself \n",
        "# ask name if it startswith(M)\n",
        "\n",
        "print( name.upper()  )\n",
        "print( name.lower()   )\n",
        "print( name.startswith(\"K\") )\n",
        "print( name.endswith(\"K\") )\n",
        "\n",
        "# all data in python is an object\n",
        "# objects are data structures:  values (properties), types (class), id, methods"
      ],
      "execution_count": 22,
      "outputs": [
        {
          "output_type": "stream",
          "name": "stdout",
          "text": [
            "KOFI\n",
            "kofi\n",
            "True\n",
            "False\n"
          ]
        }
      ]
    },
    {
      "cell_type": "code",
      "metadata": {
        "colab": {
          "base_uri": "https://localhost:8080/"
        },
        "id": "ykBMtC9AlM8s",
        "outputId": "39c83870-31bc-4b33-a684-cba28ed96d93"
      },
      "source": [
        "dir(name)[-5:] # lists the last 5 attributes & methods of the object "
      ],
      "execution_count": 23,
      "outputs": [
        {
          "output_type": "execute_result",
          "data": {
            "text/plain": [
              "['swapcase', 'title', 'translate', 'upper', 'zfill']"
            ]
          },
          "metadata": {},
          "execution_count": 23
        }
      ]
    },
    {
      "cell_type": "code",
      "metadata": {
        "colab": {
          "base_uri": "https://localhost:8080/"
        },
        "id": "0-HLdD8elTz3",
        "outputId": "ce1479b8-8371-42a0-fbac-fcc4995f0c78"
      },
      "source": [
        "def error(pred, obv):\n",
        "    return (pred - obv) ** 2\n",
        "\n",
        "error(3, 3.3)"
      ],
      "execution_count": 24,
      "outputs": [
        {
          "output_type": "execute_result",
          "data": {
            "text/plain": [
              "0.0899999999999999"
            ]
          },
          "metadata": {},
          "execution_count": 24
        }
      ]
    },
    {
      "cell_type": "code",
      "metadata": {
        "id": "YQSio1gblcI8"
      },
      "source": [
        "def predict(age, height, parameters=(0.5, 0.5, 0)):\n",
        "    \"\"\"\n",
        "    Predict a weight (kg) from an age (yr), height (cm) and\n",
        "        parameters :\n",
        "            (age importance, height importance, base weight)\n",
        "    \"\"\"\n",
        "    # reset the scales so each goes from 0 to 1\n",
        "    age, height = age/100, height/200\n",
        "    \n",
        "    # extract the parameters for each variable\n",
        "    a, h, w = parameters\n",
        "    \n",
        "    # predict a weight\n",
        "    weight = 100 * (a * age + h * height + w)\n",
        "    \n",
        "    return round(weight, 2)"
      ],
      "execution_count": 25,
      "outputs": []
    },
    {
      "cell_type": "code",
      "metadata": {
        "colab": {
          "base_uri": "https://localhost:8080/"
        },
        "id": "zBaSJ0RelsSK",
        "outputId": "9d0170d1-7ada-4f7c-ef5b-5628a145ecf8"
      },
      "source": [
        "help(predict)"
      ],
      "execution_count": 26,
      "outputs": [
        {
          "output_type": "stream",
          "name": "stdout",
          "text": [
            "Help on function predict in module __main__:\n",
            "\n",
            "predict(age, height, parameters=(0.5, 0.5, 0))\n",
            "    Predict a weight (kg) from an age (yr), height (cm) and\n",
            "        parameters :\n",
            "            (age importance, height importance, base weight)\n",
            "\n"
          ]
        }
      ]
    },
    {
      "cell_type": "code",
      "metadata": {
        "colab": {
          "base_uri": "https://localhost:8080/"
        },
        "id": "LF6ly4RSlubf",
        "outputId": "7fb594b1-28ea-45d8-fd06-7b18aea0a4a4"
      },
      "source": [
        "predict(10, 150, (0.6, 0.4, 0.2)) # pass arguments by position"
      ],
      "execution_count": 27,
      "outputs": [
        {
          "output_type": "execute_result",
          "data": {
            "text/plain": [
              "56.0"
            ]
          },
          "metadata": {},
          "execution_count": 27
        }
      ]
    },
    {
      "cell_type": "code",
      "metadata": {
        "colab": {
          "base_uri": "https://localhost:8080/"
        },
        "id": "L9iUCc34l0Q2",
        "outputId": "e70eadd7-4731-4c53-eef4-0ede0a6f1f88"
      },
      "source": [
        "predict(10, 150) # pass arguments by position, one by default"
      ],
      "execution_count": 28,
      "outputs": [
        {
          "output_type": "execute_result",
          "data": {
            "text/plain": [
              "42.5"
            ]
          },
          "metadata": {},
          "execution_count": 28
        }
      ]
    },
    {
      "cell_type": "code",
      "metadata": {
        "colab": {
          "base_uri": "https://localhost:8080/"
        },
        "id": "gOSXvhlQl6I0",
        "outputId": "9e537454-07c0-4499-b140-5d1401043633"
      },
      "source": [
        "predict(age=10, height=150) # pass by name"
      ],
      "execution_count": 29,
      "outputs": [
        {
          "output_type": "execute_result",
          "data": {
            "text/plain": [
              "42.5"
            ]
          },
          "metadata": {},
          "execution_count": 29
        }
      ]
    },
    {
      "cell_type": "code",
      "metadata": {
        "colab": {
          "base_uri": "https://localhost:8080/"
        },
        "id": "Sj5IJ9CJl_MG",
        "outputId": "85aa9161-d9db-415a-c7ef-4218c8f3f2b3"
      },
      "source": [
        "# functions = procedures\n",
        "# can also not return anything\n",
        "\n",
        "def show_results(results):\n",
        "    print(\"-\" * 10)\n",
        "    print(results)\n",
        "    print(\"-\" * 10)\n",
        "    \n",
        "show_results([12, 12, 15])   # writes to screen, but has no return value\n",
        "\n",
        "def distance(x1, x2):\n",
        "    return (x2 - x1) ** 2   # euclidean distance, aka. L2 norm\n",
        "    \n",
        "\n",
        "dist = distance(10, 12)\n",
        "print(dist * 1.1)  # calculated value can be stored in variable\n",
        "\n",
        "\n",
        "rtn = show_results([10, 12])\n",
        "\n",
        "print(type(rtn))\n",
        "print(rtn) # nothing is stored here, no return value"
      ],
      "execution_count": 30,
      "outputs": [
        {
          "output_type": "stream",
          "name": "stdout",
          "text": [
            "----------\n",
            "[12, 12, 15]\n",
            "----------\n",
            "4.4\n",
            "----------\n",
            "[10, 12]\n",
            "----------\n",
            "<class 'NoneType'>\n",
            "None\n"
          ]
        }
      ]
    },
    {
      "cell_type": "code",
      "metadata": {
        "colab": {
          "base_uri": "https://localhost:8080/"
        },
        "id": "18h0UXEYmFvF",
        "outputId": "6c03a203-e6f0-4f3c-b0f2-48923d6bd8d8"
      },
      "source": [
        "def mean(x, y, z):\n",
        "    return (x + y + z)/3\n",
        "\n",
        "def cube(x):\n",
        "    return x ** 3\n",
        "\n",
        "def is_adult(age):\n",
        "    return age >= 18\n",
        "\n",
        "\n",
        "def show(m, c, a):\n",
        "    print(\"mean:\", m)\n",
        "    print(\"cube:\", c)\n",
        "    print(\"age:\", a)\n",
        "    \n",
        "mean_ages = mean(18,18,20)\n",
        "two_late = cube(2)\n",
        "teen = is_adult(15)\n",
        "\n",
        "show(mean_ages, two_late, teen)"
      ],
      "execution_count": 31,
      "outputs": [
        {
          "output_type": "stream",
          "name": "stdout",
          "text": [
            "mean: 18.666666666666668\n",
            "cube: 8\n",
            "age: False\n"
          ]
        }
      ]
    },
    {
      "cell_type": "code",
      "metadata": {
        "colab": {
          "base_uri": "https://localhost:8080/"
        },
        "id": "67_9Ii8emY0V",
        "outputId": "3e795a3c-fb49-4ae8-902d-cd0ac16d7918"
      },
      "source": [
        "# strings\n",
        "\n",
        "quote = \"Be the change you wish to see in the world!\"\n",
        "\n",
        "print( quote[0] )   # first\n",
        "print( quote[1] )   # second\n",
        "print( quote[-2] )  # second from last\n",
        "print( quote[-1] )  # last"
      ],
      "execution_count": 32,
      "outputs": [
        {
          "output_type": "stream",
          "name": "stdout",
          "text": [
            "B\n",
            "e\n",
            "d\n",
            "!\n"
          ]
        }
      ]
    },
    {
      "cell_type": "code",
      "metadata": {
        "colab": {
          "base_uri": "https://localhost:8080/"
        },
        "id": "vB6zVlixmbVW",
        "outputId": "6e6feaaf-12a7-417a-9551-e78ad8df926e"
      },
      "source": [
        "print( quote[0:2] )  # zero until postn-2"
      ],
      "execution_count": 33,
      "outputs": [
        {
          "output_type": "stream",
          "name": "stdout",
          "text": [
            "Be\n"
          ]
        }
      ]
    },
    {
      "cell_type": "code",
      "metadata": {
        "colab": {
          "base_uri": "https://localhost:8080/"
        },
        "id": "u6X5fX5nmgoT",
        "outputId": "17fe05ee-3a9c-4ccc-96b2-f6eba3fe2261"
      },
      "source": [
        "print( quote[0:-6] ) # beginning until -6th postn"
      ],
      "execution_count": 34,
      "outputs": [
        {
          "output_type": "stream",
          "name": "stdout",
          "text": [
            "Be the change you wish to see in the \n"
          ]
        }
      ]
    },
    {
      "cell_type": "code",
      "metadata": {
        "colab": {
          "base_uri": "https://localhost:8080/"
        },
        "id": "Gxt3ad94mmPO",
        "outputId": "fbd43faf-6561-4848-ac37-9cf6e923c4dd"
      },
      "source": [
        "print( quote[0:-6]  + \" bed\" )"
      ],
      "execution_count": 35,
      "outputs": [
        {
          "output_type": "stream",
          "name": "stdout",
          "text": [
            "Be the change you wish to see in the  bed\n"
          ]
        }
      ]
    },
    {
      "cell_type": "code",
      "metadata": {
        "colab": {
          "base_uri": "https://localhost:8080/"
        },
        "id": "k5rptXAEmu0u",
        "outputId": "a3dee682-b9da-4155-b2c6-0dcc4253b29b"
      },
      "source": [
        "print(quote[:2])    # leave off start postn = zero\n",
        "print(quote[-6:] )  # leave off end postn = end of string"
      ],
      "execution_count": 36,
      "outputs": [
        {
          "output_type": "stream",
          "name": "stdout",
          "text": [
            "Be\n",
            "world!\n"
          ]
        }
      ]
    },
    {
      "cell_type": "code",
      "metadata": {
        "colab": {
          "base_uri": "https://localhost:8080/"
        },
        "id": "fNPxAMlbm0O9",
        "outputId": "72dee9b5-9509-4a5a-c30c-a10b6159b9b8"
      },
      "source": [
        "# tuple\n",
        "\n",
        "point = (10, 20, 30)\n",
        "\n",
        "print( point[0] )\n",
        "print( point[1] )\n",
        "print( point[-1] )\n",
        "\n",
        "print( point[0:2] ) #slice, as with strings\n",
        "\n",
        "# point[0] = 15 # error: not allowed to overwrite\n",
        "\n",
        "# technically, () not required...\n",
        "\n",
        "address = \"OldSt\", \"London\"\n",
        "\n",
        "print(address)"
      ],
      "execution_count": 37,
      "outputs": [
        {
          "output_type": "stream",
          "name": "stdout",
          "text": [
            "10\n",
            "20\n",
            "30\n",
            "(10, 20)\n",
            "('OldSt', 'London')\n"
          ]
        }
      ]
    },
    {
      "cell_type": "code",
      "metadata": {
        "colab": {
          "base_uri": "https://localhost:8080/"
        },
        "id": "FOWWscQ4m7BN",
        "outputId": "13bfb415-d0e8-4d3f-a3b7-e8e2688e5ff1"
      },
      "source": [
        "# lists\n",
        "# y target customer satisfaction\n",
        "# x customer features \n",
        "# (days-since-first-purchase, total-spent, nearest-store, addresss)\n",
        "#  \n",
        "\n",
        "x = [300, 1000, \"London\", (\"Old Street\", \"London\")]\n",
        "\n",
        "print(x)\n",
        "print(len(x))\n",
        "\n",
        "print(x[-1])\n",
        "print(len(x[-1]))"
      ],
      "execution_count": 38,
      "outputs": [
        {
          "output_type": "stream",
          "name": "stdout",
          "text": [
            "[300, 1000, 'London', ('Old Street', 'London')]\n",
            "4\n",
            "('Old Street', 'London')\n",
            "2\n"
          ]
        }
      ]
    },
    {
      "cell_type": "code",
      "metadata": {
        "colab": {
          "base_uri": "https://localhost:8080/"
        },
        "id": "u5xSYnqknBuR",
        "outputId": "1f808e5e-ff44-4719-a11a-335c4d418f26"
      },
      "source": [
        "x.append(1)\n",
        "x"
      ],
      "execution_count": 39,
      "outputs": [
        {
          "output_type": "execute_result",
          "data": {
            "text/plain": [
              "[300, 1000, 'London', ('Old Street', 'London'), 1]"
            ]
          },
          "metadata": {},
          "execution_count": 39
        }
      ]
    },
    {
      "cell_type": "code",
      "metadata": {
        "colab": {
          "base_uri": "https://localhost:8080/"
        },
        "id": "zW63fQQ4nHMm",
        "outputId": "cd66d88c-c881-4c40-d691-3d5b4b16101e"
      },
      "source": [
        "x.pop()"
      ],
      "execution_count": 40,
      "outputs": [
        {
          "output_type": "execute_result",
          "data": {
            "text/plain": [
              "1"
            ]
          },
          "metadata": {},
          "execution_count": 40
        }
      ]
    },
    {
      "cell_type": "code",
      "metadata": {
        "colab": {
          "base_uri": "https://localhost:8080/"
        },
        "id": "ctBPXPKwnLVA",
        "outputId": "305d4227-dae0-44d9-ba6f-35b10a4a38ed"
      },
      "source": [
        "print(x)\n",
        "x.insert(0, 1) # insert at postn 0, the element 1\n",
        "\n",
        "print(x)"
      ],
      "execution_count": 41,
      "outputs": [
        {
          "output_type": "stream",
          "name": "stdout",
          "text": [
            "[300, 1000, 'London', ('Old Street', 'London')]\n",
            "[1, 300, 1000, 'London', ('Old Street', 'London')]\n"
          ]
        }
      ]
    },
    {
      "cell_type": "code",
      "metadata": {
        "id": "i_M4wtcMnRCU"
      },
      "source": [
        "def error(y_pred, y, i):\n",
        "    return (y_pred - y[i]) ** 2"
      ],
      "execution_count": 42,
      "outputs": []
    },
    {
      "cell_type": "code",
      "metadata": {
        "colab": {
          "base_uri": "https://localhost:8080/"
        },
        "id": "-t_BymdenVqi",
        "outputId": "dd75e495-28b1-4c2e-ce6f-04ac502e08a7"
      },
      "source": [
        "y = [2, 3, 5, 8]\n",
        "guess = 2.2\n",
        "\n",
        "error(guess, y, 1)   #   (2.2 - 3) ** 2"
      ],
      "execution_count": 43,
      "outputs": [
        {
          "output_type": "execute_result",
          "data": {
            "text/plain": [
              "0.6399999999999997"
            ]
          },
          "metadata": {},
          "execution_count": 43
        }
      ]
    },
    {
      "cell_type": "code",
      "metadata": {
        "colab": {
          "base_uri": "https://localhost:8080/"
        },
        "id": "KKS0aT31nafV",
        "outputId": "f594483e-8b5e-48f6-f259-7416268abeed"
      },
      "source": [
        "user = {\n",
        "    \"name\": \"kofi\",\n",
        "    \"age\": 41,\n",
        "    \"location\": \"uk\"\n",
        "}\n",
        "\n",
        "print(user[\"name\"])     # use string keys to look up value rather than int index\n",
        "print(user[\"age\"])\n",
        "print(user[\"location\"])"
      ],
      "execution_count": 44,
      "outputs": [
        {
          "output_type": "stream",
          "name": "stdout",
          "text": [
            "kofi\n",
            "41\n",
            "uk\n"
          ]
        }
      ]
    },
    {
      "cell_type": "code",
      "metadata": {
        "colab": {
          "base_uri": "https://localhost:8080/",
          "height": 35
        },
        "id": "ELxOwH6LoCnP",
        "outputId": "80ef3cdc-7c48-4846-8bd5-e9dc46b5316e"
      },
      "source": [
        "# data science example: labelling for Fraud|NotFraud\n",
        "# dict keys can be lots of diff. thigns, not just strings...\n",
        "# but must be unique!\n",
        "# key = (age, days-since-purchase-of-insurance)  \n",
        "user = {\n",
        "    (18, 13) : \"Fraud\",\n",
        "    (60, 300) : \"NotFraud\"\n",
        "}\n",
        "\n",
        "user[(18, 13)]"
      ],
      "execution_count": 45,
      "outputs": [
        {
          "output_type": "execute_result",
          "data": {
            "application/vnd.google.colaboratory.intrinsic+json": {
              "type": "string"
            },
            "text/plain": [
              "'Fraud'"
            ]
          },
          "metadata": {},
          "execution_count": 45
        }
      ]
    },
    {
      "cell_type": "code",
      "metadata": {
        "colab": {
          "base_uri": "https://localhost:8080/"
        },
        "id": "Xe-TCmo_oGS4",
        "outputId": "bc08fb38-371b-48d3-a6a9-baac28dd94de"
      },
      "source": [
        "# dictionaries more commonly are more like matrices...\n",
        "users = {\n",
        "    \"age-at-purchase\": [18, 60],\n",
        "    \"days-from-purcahse\": [13, 300]\n",
        "}\n",
        "\n",
        "ages = users['age-at-purchase']\n",
        "\n",
        "sum(ages)/len(ages)"
      ],
      "execution_count": 46,
      "outputs": [
        {
          "output_type": "execute_result",
          "data": {
            "text/plain": [
              "39.0"
            ]
          },
          "metadata": {},
          "execution_count": 46
        }
      ]
    },
    {
      "cell_type": "code",
      "metadata": {
        "colab": {
          "base_uri": "https://localhost:8080/"
        },
        "id": "PhfD6NwPoLJt",
        "outputId": "1bc91cbb-273d-4c4f-e2dd-03660cc3e46c"
      },
      "source": [
        "user_age = 18\n",
        "\n",
        "if user_age > 65:                      # colons\n",
        "    print(\"See Retirement Plans\")      # indentation\n",
        "elif user_age > 21:                    # keyword, elif\n",
        "    print(\"See Vocation Plans\")\n",
        "elif user_age > 13:\n",
        "    print(\"See Education Plans\")\n",
        "else:\n",
        "    print(\"See your mother!\")\n",
        "    "
      ],
      "execution_count": 47,
      "outputs": [
        {
          "output_type": "stream",
          "name": "stdout",
          "text": [
            "See Education Plans\n"
          ]
        }
      ]
    },
    {
      "cell_type": "code",
      "metadata": {
        "colab": {
          "base_uri": "https://localhost:8080/"
        },
        "id": "yAAigTH0oQsI",
        "outputId": "6993a95b-14f8-4423-c6e7-217b2913b13b"
      },
      "source": [
        "# while loops are rare, usually bad -- repeating\n",
        "\n",
        "ratings = [5,5,6,7,8,1]\n",
        "\n",
        "while len(ratings) > 0:\n",
        "    print(ratings.pop())    # remove last one"
      ],
      "execution_count": 48,
      "outputs": [
        {
          "output_type": "stream",
          "name": "stdout",
          "text": [
            "1\n",
            "8\n",
            "7\n",
            "6\n",
            "5\n",
            "5\n"
          ]
        }
      ]
    },
    {
      "cell_type": "code",
      "metadata": {
        "colab": {
          "base_uri": "https://localhost:8080/"
        },
        "id": "xke9OeXfoZs9",
        "outputId": "ba414e7a-ebc5-4ee9-aab2-a9f17eb04186"
      },
      "source": [
        "ratings"
      ],
      "execution_count": 49,
      "outputs": [
        {
          "output_type": "execute_result",
          "data": {
            "text/plain": [
              "[]"
            ]
          },
          "metadata": {},
          "execution_count": 49
        }
      ]
    },
    {
      "cell_type": "code",
      "metadata": {
        "colab": {
          "base_uri": "https://localhost:8080/"
        },
        "id": "UwwXDfq7od6p",
        "outputId": "7964a442-cab3-40ed-90ca-acc60a97c5ca"
      },
      "source": [
        "# for loop -- data processing loop\n",
        "\n",
        "ratings = [5,5,6,7,8,1]\n",
        "\n",
        "for element in ratings:      # for name-of-each-element  in source-data-input\n",
        "    print(element)           # algorithm for processing each-element\n",
        "    \n",
        "ratings"
      ],
      "execution_count": 50,
      "outputs": [
        {
          "output_type": "stream",
          "name": "stdout",
          "text": [
            "5\n",
            "5\n",
            "6\n",
            "7\n",
            "8\n",
            "1\n"
          ]
        },
        {
          "output_type": "execute_result",
          "data": {
            "text/plain": [
              "[5, 5, 6, 7, 8, 1]"
            ]
          },
          "metadata": {},
          "execution_count": 50
        }
      ]
    },
    {
      "cell_type": "code",
      "metadata": {
        "colab": {
          "base_uri": "https://localhost:8080/"
        },
        "id": "3mxNg71togLQ",
        "outputId": "77501223-61a6-45a6-b06f-94d2f2f3d97c"
      },
      "source": [
        "bp = float(input(\"BP?\"))\n",
        "hr = float(input(\"HR?\"))\n",
        "\n",
        "if (bp > 200) or (hr > 200):\n",
        "    print(\"WARNING\")\n",
        "elif (bp > 150) and (hr > 170):\n",
        "    print(\"WARNING\")\n",
        "elif (bp < 100) and (hr < 40):\n",
        "    print(\"WARNING\")\n",
        "else:\n",
        "    print(\"OK!\")"
      ],
      "execution_count": 52,
      "outputs": [
        {
          "output_type": "stream",
          "name": "stdout",
          "text": [
            "BP?1\n",
            "HR?5\n",
            "WARNING\n"
          ]
        }
      ]
    },
    {
      "cell_type": "code",
      "metadata": {
        "colab": {
          "base_uri": "https://localhost:8080/"
        },
        "id": "xHKFdw-wooFE",
        "outputId": "e09cfaae-8f0a-481a-e422-b7560fb20723"
      },
      "source": [
        "feeling = input(\"How do you feel? \")"
      ],
      "execution_count": 53,
      "outputs": [
        {
          "name": "stdout",
          "output_type": "stream",
          "text": [
            "How do you feel? sad\n"
          ]
        }
      ]
    },
    {
      "cell_type": "code",
      "metadata": {
        "colab": {
          "base_uri": "https://localhost:8080/"
        },
        "id": "H6bWewZ8pDhC",
        "outputId": "a303be10-e0e0-42e3-cb45-f0297dcd52f6"
      },
      "source": [
        "if (\"sad\" in feeling) or (feeling.endswith(\"!?\")):\n",
        "    print(\"try some exercise!\")\n",
        "elif (\"happy\" in feeling) or (feeling.endswith(\"!\")):\n",
        "    print(\"try relaxing\")\n",
        "else:\n",
        "    print(\"not possible to offer advice\")"
      ],
      "execution_count": 54,
      "outputs": [
        {
          "output_type": "stream",
          "name": "stdout",
          "text": [
            "try some exercise!\n"
          ]
        }
      ]
    },
    {
      "cell_type": "code",
      "metadata": {
        "id": "UptnLua9paM6"
      },
      "source": [
        "hrs = [60, 70, 80]\n",
        "bps = [100, 200, 250]"
      ],
      "execution_count": 55,
      "outputs": []
    },
    {
      "cell_type": "code",
      "metadata": {
        "colab": {
          "base_uri": "https://localhost:8080/"
        },
        "id": "y7gyUB6Tpgko",
        "outputId": "0d67fad6-ef71-48ed-e57b-c6c72bf370c9"
      },
      "source": [
        "bundled = list(zip(hrs, bps))\n",
        "bundled"
      ],
      "execution_count": 56,
      "outputs": [
        {
          "output_type": "execute_result",
          "data": {
            "text/plain": [
              "[(60, 100), (70, 200), (80, 250)]"
            ]
          },
          "metadata": {},
          "execution_count": 56
        }
      ]
    },
    {
      "cell_type": "code",
      "metadata": {
        "colab": {
          "base_uri": "https://localhost:8080/"
        },
        "id": "o5HnylpjpkwV",
        "outputId": "42f58eb9-daca-4ee1-b71c-56bc974bfb2a"
      },
      "source": [
        "for hr, bp in zip(hrs, bps):\n",
        "    print(hr, bp)"
      ],
      "execution_count": 57,
      "outputs": [
        {
          "output_type": "stream",
          "name": "stdout",
          "text": [
            "60 100\n",
            "70 200\n",
            "80 250\n"
          ]
        }
      ]
    },
    {
      "cell_type": "code",
      "metadata": {
        "colab": {
          "base_uri": "https://localhost:8080/"
        },
        "id": "s2XQtF_sppZ3",
        "outputId": "c765d7b9-5766-4e79-fd33-7cad00d3fa02"
      },
      "source": [
        "for hr, bp in zip(hrs, bps):\n",
        "    print(\"We measured: \", hr, \"bpm\")\n",
        "    print(\"We measured: \", bp, \"mmHg\")\n",
        "    \n",
        "    if (hr > 200) or (bp > 200):\n",
        "        print(\"WARNING\")\n",
        "    else:\n",
        "        print(\"OK\")\n",
        "        \n",
        "    print() # prints an empty line"
      ],
      "execution_count": 58,
      "outputs": [
        {
          "output_type": "stream",
          "name": "stdout",
          "text": [
            "We measured:  60 bpm\n",
            "We measured:  100 mmHg\n",
            "OK\n",
            "\n",
            "We measured:  70 bpm\n",
            "We measured:  200 mmHg\n",
            "OK\n",
            "\n",
            "We measured:  80 bpm\n",
            "We measured:  250 mmHg\n",
            "WARNING\n",
            "\n"
          ]
        }
      ]
    },
    {
      "cell_type": "code",
      "metadata": {
        "colab": {
          "base_uri": "https://localhost:8080/"
        },
        "id": "uHa2cRh3pzn2",
        "outputId": "e01b1de9-560e-42e4-a983-7cc381e4dab7"
      },
      "source": [
        "list(range(0, 100, 20))"
      ],
      "execution_count": 59,
      "outputs": [
        {
          "output_type": "execute_result",
          "data": {
            "text/plain": [
              "[0, 20, 40, 60, 80]"
            ]
          },
          "metadata": {},
          "execution_count": 59
        }
      ]
    },
    {
      "cell_type": "code",
      "metadata": {
        "colab": {
          "base_uri": "https://localhost:8080/"
        },
        "id": "2NbvhJ7xp1bA",
        "outputId": "0df37507-4a11-4da4-8f1c-dffb2f36e3b0"
      },
      "source": [
        "for i in range(0, 100, 20):\n",
        "    print(i)"
      ],
      "execution_count": 60,
      "outputs": [
        {
          "output_type": "stream",
          "name": "stdout",
          "text": [
            "0\n",
            "20\n",
            "40\n",
            "60\n",
            "80\n"
          ]
        }
      ]
    },
    {
      "cell_type": "code",
      "metadata": {
        "colab": {
          "base_uri": "https://localhost:8080/"
        },
        "id": "aXf4hxe3p8aj",
        "outputId": "8dac66b6-6f23-4e7d-c311-c265fbdf5251"
      },
      "source": [
        "predicted_hr = []\n",
        "\n",
        "for hr in range(60, 180, 10):\n",
        "    predicted_hr.append(0.9 * hr + 1)\n",
        "    \n",
        "predicted_hr"
      ],
      "execution_count": 61,
      "outputs": [
        {
          "output_type": "execute_result",
          "data": {
            "text/plain": [
              "[55.0, 64.0, 73.0, 82.0, 91.0, 100.0, 109.0, 118.0, 127.0, 136.0, 145.0, 154.0]"
            ]
          },
          "metadata": {},
          "execution_count": 61
        }
      ]
    },
    {
      "cell_type": "code",
      "metadata": {
        "id": "1qL1iX1tp-ny"
      },
      "source": [
        "hr_readings = [70,50,60,80]"
      ],
      "execution_count": 62,
      "outputs": []
    },
    {
      "cell_type": "code",
      "metadata": {
        "colab": {
          "base_uri": "https://localhost:8080/"
        },
        "id": "WpxGgcQbqEXv",
        "outputId": "a026b4d7-d62f-45a3-fbec-dd9646e9f499"
      },
      "source": [
        "for hr in hr_readings:\n",
        "    print(hr)"
      ],
      "execution_count": 63,
      "outputs": [
        {
          "output_type": "stream",
          "name": "stdout",
          "text": [
            "70\n",
            "50\n",
            "60\n",
            "80\n"
          ]
        }
      ]
    },
    {
      "cell_type": "code",
      "metadata": {
        "colab": {
          "base_uri": "https://localhost:8080/"
        },
        "id": "GczrRD5qqIiW",
        "outputId": "a69ebfad-9304-4dc5-9443-d89019b4f019"
      },
      "source": [
        "for i, hr in enumerate(hr_readings):\n",
        "    print(f\"Reading {i + 1} was {hr} bpm\")"
      ],
      "execution_count": 64,
      "outputs": [
        {
          "output_type": "stream",
          "name": "stdout",
          "text": [
            "Reading 1 was 70 bpm\n",
            "Reading 2 was 50 bpm\n",
            "Reading 3 was 60 bpm\n",
            "Reading 4 was 80 bpm\n"
          ]
        }
      ]
    },
    {
      "cell_type": "code",
      "metadata": {
        "colab": {
          "base_uri": "https://localhost:8080/"
        },
        "id": "qfDuEEGbqNX2",
        "outputId": "ebd29103-2725-4c2a-9dae-df59e1e6ff5c"
      },
      "source": [
        "# iterators -- like data structures, but whole data not stored...\n",
        "\n",
        "ten = range(0, 10)\n",
        "\n",
        "print(ten)"
      ],
      "execution_count": 65,
      "outputs": [
        {
          "output_type": "stream",
          "name": "stdout",
          "text": [
            "range(0, 10)\n"
          ]
        }
      ]
    },
    {
      "cell_type": "code",
      "metadata": {
        "colab": {
          "base_uri": "https://localhost:8080/"
        },
        "id": "UT5ymSixqSPg",
        "outputId": "7010c138-40d9-4752-95f5-a51e8f34d242"
      },
      "source": [
        "for i in ten:      # the range gives a number each go around\n",
        "    print(i)"
      ],
      "execution_count": 66,
      "outputs": [
        {
          "output_type": "stream",
          "name": "stdout",
          "text": [
            "0\n",
            "1\n",
            "2\n",
            "3\n",
            "4\n",
            "5\n",
            "6\n",
            "7\n",
            "8\n",
            "9\n"
          ]
        }
      ]
    },
    {
      "cell_type": "code",
      "metadata": {
        "colab": {
          "base_uri": "https://localhost:8080/"
        },
        "id": "Be3h1h6KqXPW",
        "outputId": "b9e7fd0b-b747-44c6-8e85-0c86f41e3258"
      },
      "source": [
        "numbers = list(ten) # collects all data from ten into list, which stores all in memory\n",
        "\n",
        "numbers"
      ],
      "execution_count": 67,
      "outputs": [
        {
          "output_type": "execute_result",
          "data": {
            "text/plain": [
              "[0, 1, 2, 3, 4, 5, 6, 7, 8, 9]"
            ]
          },
          "metadata": {},
          "execution_count": 67
        }
      ]
    },
    {
      "cell_type": "code",
      "metadata": {
        "colab": {
          "base_uri": "https://localhost:8080/"
        },
        "id": "jtdT4Ldkqb0B",
        "outputId": "44c859f3-7671-4505-f355-316612058778"
      },
      "source": [
        "age = int(\"18\")\n",
        "\n",
        "age < 20"
      ],
      "execution_count": 72,
      "outputs": [
        {
          "output_type": "execute_result",
          "data": {
            "text/plain": [
              "True"
            ]
          },
          "metadata": {},
          "execution_count": 72
        }
      ]
    },
    {
      "cell_type": "code",
      "metadata": {
        "colab": {
          "base_uri": "https://localhost:8080/"
        },
        "id": "DHpVAFavqhvY",
        "outputId": "6e3bea5e-29f8-4b31-c80b-481b52704a45"
      },
      "source": [
        "int(age) < 20"
      ],
      "execution_count": 69,
      "outputs": [
        {
          "output_type": "execute_result",
          "data": {
            "text/plain": [
              "True"
            ]
          },
          "metadata": {},
          "execution_count": 69
        }
      ]
    },
    {
      "cell_type": "code",
      "metadata": {
        "colab": {
          "base_uri": "https://localhost:8080/",
          "height": 35
        },
        "id": "fMt64DmJqneW",
        "outputId": "e66859ca-350a-41a3-d569-6ab5a50edb46"
      },
      "source": [
        "str(5) * 2  # \"5\" * 2"
      ],
      "execution_count": 70,
      "outputs": [
        {
          "output_type": "execute_result",
          "data": {
            "application/vnd.google.colaboratory.intrinsic+json": {
              "type": "string"
            },
            "text/plain": [
              "'55'"
            ]
          },
          "metadata": {},
          "execution_count": 70
        }
      ]
    },
    {
      "cell_type": "code",
      "metadata": {
        "colab": {
          "base_uri": "https://localhost:8080/"
        },
        "id": "BhCDgNmOqsAh",
        "outputId": "5fa23168-a175-4a09-f2aa-d7e5f02e7d55"
      },
      "source": [
        "dict( [ (\"name\", \"Michael\"), (\"age\", 29 )])"
      ],
      "execution_count": 71,
      "outputs": [
        {
          "output_type": "execute_result",
          "data": {
            "text/plain": [
              "{'age': 29, 'name': 'Michael'}"
            ]
          },
          "metadata": {},
          "execution_count": 71
        }
      ]
    }
  ]
}