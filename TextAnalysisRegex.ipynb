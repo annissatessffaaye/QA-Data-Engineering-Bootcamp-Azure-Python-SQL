{
  "nbformat": 4,
  "nbformat_minor": 0,
  "metadata": {
    "colab": {
      "name": "TextAnalysisRegex.ipynb",
      "provenance": [],
      "collapsed_sections": [],
      "authorship_tag": "ABX9TyP5nVeEj/4CIbnzq+3lcRjr",
      "include_colab_link": true
    },
    "kernelspec": {
      "name": "python3",
      "display_name": "Python 3"
    },
    "language_info": {
      "name": "python"
    }
  },
  "cells": [
    {
      "cell_type": "markdown",
      "metadata": {
        "id": "view-in-github",
        "colab_type": "text"
      },
      "source": [
        "<a href=\"https://colab.research.google.com/github/annissatessffaaye/QA-Data-Engineering-Bootcamp-Azure-Python-SQL/blob/main/TextAnalysisRegex.ipynb\" target=\"_parent\"><img src=\"https://colab.research.google.com/assets/colab-badge.svg\" alt=\"Open In Colab\"/></a>"
      ]
    },
    {
      "cell_type": "markdown",
      "metadata": {
        "id": "goKv1QA5eTm4"
      },
      "source": [
        "# Exploratory Text Analysis\n",
        "\n",
        "## What kinds of text analysis are there?\n",
        "\n",
        "* analyst knows the pattern\n",
        "    * regular expressions\n",
        "* analyst does not know the pattern\n",
        "    * natural language processing\n",
        "        * compares historical examples to judge novel cases\n",
        "            * comparisons are statistical and approximate"
      ]
    },
    {
      "cell_type": "markdown",
      "metadata": {
        "id": "M-Ai1PGQed3n"
      },
      "source": [
        "\n",
        "### Examples of Analysis\n",
        "When you know the pattern:"
      ]
    },
    {
      "cell_type": "code",
      "metadata": {
        "id": "OsXLwS7yejN5"
      },
      "source": [
        "pattern = '£ ?[0-9][0-9]?' # £ then SPACE-optional then digit then digit-optional \n",
        "\n",
        "document = 'My eggs cost £3, bread cost £2, vodka cost £35'\n"
      ],
      "execution_count": 1,
      "outputs": []
    },
    {
      "cell_type": "code",
      "metadata": {
        "colab": {
          "base_uri": "https://localhost:8080/"
        },
        "id": "-GYvaoube0LX",
        "outputId": "2a2a1551-12bc-4f65-e58e-dfc8a854cc61"
      },
      "source": [
        "import re\n",
        "\n",
        "re.findall(pattern, document)"
      ],
      "execution_count": 2,
      "outputs": [
        {
          "output_type": "execute_result",
          "data": {
            "text/plain": [
              "['£3', '£2', '£35']"
            ]
          },
          "metadata": {},
          "execution_count": 2
        }
      ]
    },
    {
      "cell_type": "markdown",
      "metadata": {
        "id": "GNXDzxsje_sC"
      },
      "source": [
        "If you dont:\n",
        "\n",
        "* sentiment analysis\n",
        "    * how positive/negative is this (new) review?\n",
        "* topic analysis \n",
        "    * what is this document about?"
      ]
    },
    {
      "cell_type": "markdown",
      "metadata": {
        "id": "69r2ndSlfIJQ"
      },
      "source": [
        "## What can I do if I know what pattern I want to find?\n",
        "\n",
        "* finding (\"extracting\")\n",
        "    * what matches the pattern?\n",
        "* matching (\"validating\")\n",
        "    * does the entire document match YES/NO?\n",
        "* substitute (\"replacing\")\n",
        "    * replace a part that matches a pattern with another...\n",
        "\n"
      ]
    },
    {
      "cell_type": "markdown",
      "metadata": {
        "id": "F8__03zQjYIy"
      },
      "source": [
        "How do I validate text with pandas?"
      ]
    },
    {
      "cell_type": "code",
      "metadata": {
        "colab": {
          "base_uri": "https://localhost:8080/",
          "height": 101
        },
        "id": "fE4q176hfPNj",
        "outputId": "dc7f0a33-6d36-49fc-c90c-3cd2ad43e1b0"
      },
      "source": [
        "import pandas as pd\n",
        "\n",
        "ti = pd.read_csv('datasets/titanic.csv')\n",
        "ti.sample(1)"
      ],
      "execution_count": 3,
      "outputs": [
        {
          "output_type": "execute_result",
          "data": {
            "text/html": [
              "<div>\n",
              "<style scoped>\n",
              "    .dataframe tbody tr th:only-of-type {\n",
              "        vertical-align: middle;\n",
              "    }\n",
              "\n",
              "    .dataframe tbody tr th {\n",
              "        vertical-align: top;\n",
              "    }\n",
              "\n",
              "    .dataframe thead th {\n",
              "        text-align: right;\n",
              "    }\n",
              "</style>\n",
              "<table border=\"1\" class=\"dataframe\">\n",
              "  <thead>\n",
              "    <tr style=\"text-align: right;\">\n",
              "      <th></th>\n",
              "      <th>survived</th>\n",
              "      <th>pclass</th>\n",
              "      <th>sex</th>\n",
              "      <th>age</th>\n",
              "      <th>sibsp</th>\n",
              "      <th>parch</th>\n",
              "      <th>fare</th>\n",
              "      <th>embarked</th>\n",
              "      <th>class</th>\n",
              "      <th>who</th>\n",
              "      <th>adult_male</th>\n",
              "      <th>deck</th>\n",
              "      <th>embark_town</th>\n",
              "      <th>alive</th>\n",
              "      <th>alone</th>\n",
              "    </tr>\n",
              "  </thead>\n",
              "  <tbody>\n",
              "    <tr>\n",
              "      <th>807</th>\n",
              "      <td>0</td>\n",
              "      <td>3</td>\n",
              "      <td>female</td>\n",
              "      <td>18.0</td>\n",
              "      <td>0</td>\n",
              "      <td>0</td>\n",
              "      <td>7.775</td>\n",
              "      <td>S</td>\n",
              "      <td>Third</td>\n",
              "      <td>woman</td>\n",
              "      <td>False</td>\n",
              "      <td>NaN</td>\n",
              "      <td>Southampton</td>\n",
              "      <td>no</td>\n",
              "      <td>True</td>\n",
              "    </tr>\n",
              "  </tbody>\n",
              "</table>\n",
              "</div>"
            ],
            "text/plain": [
              "     survived  pclass     sex   age  ...  deck  embark_town  alive alone\n",
              "807         0       3  female  18.0  ...   NaN  Southampton     no  True\n",
              "\n",
              "[1 rows x 15 columns]"
            ]
          },
          "metadata": {},
          "execution_count": 3
        }
      ]
    },
    {
      "cell_type": "code",
      "metadata": {
        "colab": {
          "base_uri": "https://localhost:8080/",
          "height": 143
        },
        "id": "ta6lhRo2fnj5",
        "outputId": "df646161-4ca3-48f2-8ca2-909ad0b47a6b"
      },
      "source": [
        "ti['ticket'] = \"Ticket: \" + ti['class'] + \"; Price: $ \" + ti['fare'].astype(str) + \"; Port: \" + ti['embark_town'] + \";\"\n",
        "\n",
        "ti[['class', 'fare', 'embark_town', 'ticket']].head(3)\n"
      ],
      "execution_count": 30,
      "outputs": [
        {
          "output_type": "execute_result",
          "data": {
            "text/html": [
              "<div>\n",
              "<style scoped>\n",
              "    .dataframe tbody tr th:only-of-type {\n",
              "        vertical-align: middle;\n",
              "    }\n",
              "\n",
              "    .dataframe tbody tr th {\n",
              "        vertical-align: top;\n",
              "    }\n",
              "\n",
              "    .dataframe thead th {\n",
              "        text-align: right;\n",
              "    }\n",
              "</style>\n",
              "<table border=\"1\" class=\"dataframe\">\n",
              "  <thead>\n",
              "    <tr style=\"text-align: right;\">\n",
              "      <th></th>\n",
              "      <th>class</th>\n",
              "      <th>fare</th>\n",
              "      <th>embark_town</th>\n",
              "      <th>ticket</th>\n",
              "    </tr>\n",
              "  </thead>\n",
              "  <tbody>\n",
              "    <tr>\n",
              "      <th>0</th>\n",
              "      <td>Third</td>\n",
              "      <td>7.2500</td>\n",
              "      <td>Southampton</td>\n",
              "      <td>Ticket: Third; Price: $ 7.25; Port: Southampton;</td>\n",
              "    </tr>\n",
              "    <tr>\n",
              "      <th>1</th>\n",
              "      <td>First</td>\n",
              "      <td>71.2833</td>\n",
              "      <td>Cherbourg</td>\n",
              "      <td>Ticket: First; Price: $ 71.2833; Port: Cherbourg;</td>\n",
              "    </tr>\n",
              "    <tr>\n",
              "      <th>2</th>\n",
              "      <td>Third</td>\n",
              "      <td>7.9250</td>\n",
              "      <td>Southampton</td>\n",
              "      <td>Ticket: Third; Price: $ 7.925; Port: Southampton;</td>\n",
              "    </tr>\n",
              "  </tbody>\n",
              "</table>\n",
              "</div>"
            ],
            "text/plain": [
              "   class  ...                                             ticket\n",
              "0  Third  ...   Ticket: Third; Price: $ 7.25; Port: Southampton;\n",
              "1  First  ...  Ticket: First; Price: $ 71.2833; Port: Cherbourg;\n",
              "2  Third  ...  Ticket: Third; Price: $ 7.925; Port: Southampton;\n",
              "\n",
              "[3 rows x 4 columns]"
            ]
          },
          "metadata": {},
          "execution_count": 30
        }
      ]
    },
    {
      "cell_type": "code",
      "metadata": {
        "colab": {
          "base_uri": "https://localhost:8080/"
        },
        "id": "M1RuBvK9fu2m",
        "outputId": "b4f58677-e8ec-4b04-9327-0f8dc447be48"
      },
      "source": [
        "pattern = '(First|Second)'\n",
        "\n",
        "ti['class'].str.match(pattern)"
      ],
      "execution_count": 31,
      "outputs": [
        {
          "output_type": "execute_result",
          "data": {
            "text/plain": [
              "0      False\n",
              "1       True\n",
              "2      False\n",
              "3       True\n",
              "4      False\n",
              "       ...  \n",
              "886     True\n",
              "887     True\n",
              "888    False\n",
              "889     True\n",
              "890    False\n",
              "Name: class, Length: 891, dtype: bool"
            ]
          },
          "metadata": {},
          "execution_count": 31
        }
      ]
    },
    {
      "cell_type": "code",
      "metadata": {
        "colab": {
          "base_uri": "https://localhost:8080/"
        },
        "id": "KmLv6pr0le9L",
        "outputId": "2e0ea9f6-dd5a-478e-d73f-e8214fa3510b"
      },
      "source": [
        "ti.loc[ ti['class'].str.match(pattern)  , 'survived'].mean()"
      ],
      "execution_count": 32,
      "outputs": [
        {
          "output_type": "execute_result",
          "data": {
            "text/plain": [
              "0.5575"
            ]
          },
          "metadata": {},
          "execution_count": 32
        }
      ]
    },
    {
      "cell_type": "markdown",
      "metadata": {
        "id": "5H5J_pwkf0NQ"
      },
      "source": [
        "How do I extract data with pandas?\n"
      ]
    },
    {
      "cell_type": "code",
      "metadata": {
        "colab": {
          "base_uri": "https://localhost:8080/",
          "height": 143
        },
        "id": "gz4eoXh_f88I",
        "outputId": "5af9c313-5079-4cee-ca48-e48c1eca2bcc"
      },
      "source": [
        "ti[['class', 'fare', 'embark_town', 'ticket']].head(3)\n"
      ],
      "execution_count": 6,
      "outputs": [
        {
          "output_type": "execute_result",
          "data": {
            "text/html": [
              "<div>\n",
              "<style scoped>\n",
              "    .dataframe tbody tr th:only-of-type {\n",
              "        vertical-align: middle;\n",
              "    }\n",
              "\n",
              "    .dataframe tbody tr th {\n",
              "        vertical-align: top;\n",
              "    }\n",
              "\n",
              "    .dataframe thead th {\n",
              "        text-align: right;\n",
              "    }\n",
              "</style>\n",
              "<table border=\"1\" class=\"dataframe\">\n",
              "  <thead>\n",
              "    <tr style=\"text-align: right;\">\n",
              "      <th></th>\n",
              "      <th>class</th>\n",
              "      <th>fare</th>\n",
              "      <th>embark_town</th>\n",
              "      <th>ticket</th>\n",
              "    </tr>\n",
              "  </thead>\n",
              "  <tbody>\n",
              "    <tr>\n",
              "      <th>0</th>\n",
              "      <td>Third</td>\n",
              "      <td>7.2500</td>\n",
              "      <td>Southampton</td>\n",
              "      <td>Ticket: Third; Price: $ 7.25; Port: Southampton;</td>\n",
              "    </tr>\n",
              "    <tr>\n",
              "      <th>1</th>\n",
              "      <td>First</td>\n",
              "      <td>71.2833</td>\n",
              "      <td>Cherbourg</td>\n",
              "      <td>Ticket: First; Price: $ 71.2833; Port: Cherbourg;</td>\n",
              "    </tr>\n",
              "    <tr>\n",
              "      <th>2</th>\n",
              "      <td>Third</td>\n",
              "      <td>7.9250</td>\n",
              "      <td>Southampton</td>\n",
              "      <td>Ticket: Third; Price: $ 7.925; Port: Southampton;</td>\n",
              "    </tr>\n",
              "  </tbody>\n",
              "</table>\n",
              "</div>"
            ],
            "text/plain": [
              "   class  ...                                             ticket\n",
              "0  Third  ...   Ticket: Third; Price: $ 7.25; Port: Southampton;\n",
              "1  First  ...  Ticket: First; Price: $ 71.2833; Port: Cherbourg;\n",
              "2  Third  ...  Ticket: Third; Price: $ 7.925; Port: Southampton;\n",
              "\n",
              "[3 rows x 4 columns]"
            ]
          },
          "metadata": {},
          "execution_count": 6
        }
      ]
    },
    {
      "cell_type": "code",
      "metadata": {
        "id": "arJhEOYagBOm"
      },
      "source": [
        "pattern = '([0-9.]+)'"
      ],
      "execution_count": 7,
      "outputs": []
    },
    {
      "cell_type": "code",
      "metadata": {
        "colab": {
          "base_uri": "https://localhost:8080/",
          "height": 175
        },
        "id": "bOdjeS_JgHM0",
        "outputId": "8ff1207a-9f5c-4f5c-82c4-614083428bc0"
      },
      "source": [
        "ti['ticket'].str.extract(pattern).sample(4)"
      ],
      "execution_count": 8,
      "outputs": [
        {
          "output_type": "execute_result",
          "data": {
            "text/html": [
              "<div>\n",
              "<style scoped>\n",
              "    .dataframe tbody tr th:only-of-type {\n",
              "        vertical-align: middle;\n",
              "    }\n",
              "\n",
              "    .dataframe tbody tr th {\n",
              "        vertical-align: top;\n",
              "    }\n",
              "\n",
              "    .dataframe thead th {\n",
              "        text-align: right;\n",
              "    }\n",
              "</style>\n",
              "<table border=\"1\" class=\"dataframe\">\n",
              "  <thead>\n",
              "    <tr style=\"text-align: right;\">\n",
              "      <th></th>\n",
              "      <th>0</th>\n",
              "    </tr>\n",
              "  </thead>\n",
              "  <tbody>\n",
              "    <tr>\n",
              "      <th>430</th>\n",
              "      <td>26.55</td>\n",
              "    </tr>\n",
              "    <tr>\n",
              "      <th>334</th>\n",
              "      <td>133.65</td>\n",
              "    </tr>\n",
              "    <tr>\n",
              "      <th>103</th>\n",
              "      <td>8.6542</td>\n",
              "    </tr>\n",
              "    <tr>\n",
              "      <th>289</th>\n",
              "      <td>7.75</td>\n",
              "    </tr>\n",
              "  </tbody>\n",
              "</table>\n",
              "</div>"
            ],
            "text/plain": [
              "          0\n",
              "430   26.55\n",
              "334  133.65\n",
              "103  8.6542\n",
              "289    7.75"
            ]
          },
          "metadata": {},
          "execution_count": 8
        }
      ]
    },
    {
      "cell_type": "markdown",
      "metadata": {
        "id": "P_6DrlDIgNHm"
      },
      "source": [
        "How do I substitute text with pandas?"
      ]
    },
    {
      "cell_type": "code",
      "metadata": {
        "colab": {
          "base_uri": "https://localhost:8080/"
        },
        "id": "sX4mk8NwgQlD",
        "outputId": "69e05ca0-7f2f-4074-b054-b4b5da543f50"
      },
      "source": [
        "ti['ticket'].str.replace('$', '€').sample(1)"
      ],
      "execution_count": 9,
      "outputs": [
        {
          "output_type": "execute_result",
          "data": {
            "text/plain": [
              "73    Ticket: Third; Price: € 14.4542; Port: Cherbourg;\n",
              "Name: ticket, dtype: object"
            ]
          },
          "metadata": {},
          "execution_count": 9
        }
      ]
    },
    {
      "cell_type": "markdown",
      "metadata": {
        "id": "9StZRZK_gVth"
      },
      "source": [
        "What are regular expressions?\n",
        "\n",
        "\n"
      ]
    },
    {
      "cell_type": "markdown",
      "metadata": {
        "id": "WIDhrAMsgeN7"
      },
      "source": [
        "Regular expressions are a language for describing patterns in text. \n",
        "\n",
        "They are separate from python, but may be used within python program. (And elsewhere, eg., often in SQL). \n",
        "\n",
        "They are notoriously difficult to read and write; and as a separate language, an additional tool to learn. \n",
        "\n"
      ]
    },
    {
      "cell_type": "markdown",
      "metadata": {
        "id": "6oQGqa5xgnbD"
      },
      "source": [
        "What regular expression patterns can I use?\n",
        "\n",
        "* literals\n",
        "    * `a`, find me an `a`\n",
        "    * `£`, find `£`\n",
        "    * `!` means `!` \n",
        "    * ... most symbols mean \"find me\"\n",
        "* `.`\n",
        "    * find any **single** symbol \n",
        "* character classes -- find a **single** symbol\n",
        "    * `[abc]` $\\rightarrow$ **either** a, b, c\n",
        "    * `[0-9]` $\\rightarrow$ **either** 0, 1, 2, 3,...9\n",
        "    * `[A-Z]` $\\rightarrow$ **either** capital A, B, ... Z\n",
        "    * inversions\n",
        "        * `[^abc]` $\\rightarrow$ **is not** `a` OR `b` OR `c`\n",
        "        * `[^a-zA-Z0-9 ]`  $\\rightarrow$ **is not** alphanumeric-ish\n",
        "    \n",
        "* alternatives -- find the character**s** given by...\n",
        "    * `(May|June|July)`  $\\rightarrow$ **the whole worlds** May OR June..\n",
        "   "
      ]
    },
    {
      "cell_type": "code",
      "metadata": {
        "colab": {
          "base_uri": "https://localhost:8080/",
          "height": 423
        },
        "id": "6hqFGaMwgpVF",
        "outputId": "71b30cc2-5076-4f23-cc80-0ddfc9a6ff84"
      },
      "source": [
        "ti['ticket'].str.extract('(Ticket: (First|Second))')\n"
      ],
      "execution_count": 10,
      "outputs": [
        {
          "output_type": "execute_result",
          "data": {
            "text/html": [
              "<div>\n",
              "<style scoped>\n",
              "    .dataframe tbody tr th:only-of-type {\n",
              "        vertical-align: middle;\n",
              "    }\n",
              "\n",
              "    .dataframe tbody tr th {\n",
              "        vertical-align: top;\n",
              "    }\n",
              "\n",
              "    .dataframe thead th {\n",
              "        text-align: right;\n",
              "    }\n",
              "</style>\n",
              "<table border=\"1\" class=\"dataframe\">\n",
              "  <thead>\n",
              "    <tr style=\"text-align: right;\">\n",
              "      <th></th>\n",
              "      <th>0</th>\n",
              "      <th>1</th>\n",
              "    </tr>\n",
              "  </thead>\n",
              "  <tbody>\n",
              "    <tr>\n",
              "      <th>0</th>\n",
              "      <td>NaN</td>\n",
              "      <td>NaN</td>\n",
              "    </tr>\n",
              "    <tr>\n",
              "      <th>1</th>\n",
              "      <td>Ticket: First</td>\n",
              "      <td>First</td>\n",
              "    </tr>\n",
              "    <tr>\n",
              "      <th>2</th>\n",
              "      <td>NaN</td>\n",
              "      <td>NaN</td>\n",
              "    </tr>\n",
              "    <tr>\n",
              "      <th>3</th>\n",
              "      <td>Ticket: First</td>\n",
              "      <td>First</td>\n",
              "    </tr>\n",
              "    <tr>\n",
              "      <th>4</th>\n",
              "      <td>NaN</td>\n",
              "      <td>NaN</td>\n",
              "    </tr>\n",
              "    <tr>\n",
              "      <th>...</th>\n",
              "      <td>...</td>\n",
              "      <td>...</td>\n",
              "    </tr>\n",
              "    <tr>\n",
              "      <th>886</th>\n",
              "      <td>Ticket: Second</td>\n",
              "      <td>Second</td>\n",
              "    </tr>\n",
              "    <tr>\n",
              "      <th>887</th>\n",
              "      <td>Ticket: First</td>\n",
              "      <td>First</td>\n",
              "    </tr>\n",
              "    <tr>\n",
              "      <th>888</th>\n",
              "      <td>NaN</td>\n",
              "      <td>NaN</td>\n",
              "    </tr>\n",
              "    <tr>\n",
              "      <th>889</th>\n",
              "      <td>Ticket: First</td>\n",
              "      <td>First</td>\n",
              "    </tr>\n",
              "    <tr>\n",
              "      <th>890</th>\n",
              "      <td>NaN</td>\n",
              "      <td>NaN</td>\n",
              "    </tr>\n",
              "  </tbody>\n",
              "</table>\n",
              "<p>891 rows × 2 columns</p>\n",
              "</div>"
            ],
            "text/plain": [
              "                  0       1\n",
              "0               NaN     NaN\n",
              "1     Ticket: First   First\n",
              "2               NaN     NaN\n",
              "3     Ticket: First   First\n",
              "4               NaN     NaN\n",
              "..              ...     ...\n",
              "886  Ticket: Second  Second\n",
              "887   Ticket: First   First\n",
              "888             NaN     NaN\n",
              "889   Ticket: First   First\n",
              "890             NaN     NaN\n",
              "\n",
              "[891 rows x 2 columns]"
            ]
          },
          "metadata": {},
          "execution_count": 10
        }
      ]
    },
    {
      "cell_type": "code",
      "metadata": {
        "colab": {
          "base_uri": "https://localhost:8080/",
          "height": 423
        },
        "id": "C3YOdz9UgyST",
        "outputId": "ed2dc7f7-96f2-4fb7-a1b2-2e69f8d86132"
      },
      "source": [
        "ti['ticket'].str.extract('( [0-9][0-9])')"
      ],
      "execution_count": 11,
      "outputs": [
        {
          "output_type": "execute_result",
          "data": {
            "text/html": [
              "<div>\n",
              "<style scoped>\n",
              "    .dataframe tbody tr th:only-of-type {\n",
              "        vertical-align: middle;\n",
              "    }\n",
              "\n",
              "    .dataframe tbody tr th {\n",
              "        vertical-align: top;\n",
              "    }\n",
              "\n",
              "    .dataframe thead th {\n",
              "        text-align: right;\n",
              "    }\n",
              "</style>\n",
              "<table border=\"1\" class=\"dataframe\">\n",
              "  <thead>\n",
              "    <tr style=\"text-align: right;\">\n",
              "      <th></th>\n",
              "      <th>0</th>\n",
              "    </tr>\n",
              "  </thead>\n",
              "  <tbody>\n",
              "    <tr>\n",
              "      <th>0</th>\n",
              "      <td>NaN</td>\n",
              "    </tr>\n",
              "    <tr>\n",
              "      <th>1</th>\n",
              "      <td>71</td>\n",
              "    </tr>\n",
              "    <tr>\n",
              "      <th>2</th>\n",
              "      <td>NaN</td>\n",
              "    </tr>\n",
              "    <tr>\n",
              "      <th>3</th>\n",
              "      <td>53</td>\n",
              "    </tr>\n",
              "    <tr>\n",
              "      <th>4</th>\n",
              "      <td>NaN</td>\n",
              "    </tr>\n",
              "    <tr>\n",
              "      <th>...</th>\n",
              "      <td>...</td>\n",
              "    </tr>\n",
              "    <tr>\n",
              "      <th>886</th>\n",
              "      <td>13</td>\n",
              "    </tr>\n",
              "    <tr>\n",
              "      <th>887</th>\n",
              "      <td>30</td>\n",
              "    </tr>\n",
              "    <tr>\n",
              "      <th>888</th>\n",
              "      <td>23</td>\n",
              "    </tr>\n",
              "    <tr>\n",
              "      <th>889</th>\n",
              "      <td>30</td>\n",
              "    </tr>\n",
              "    <tr>\n",
              "      <th>890</th>\n",
              "      <td>NaN</td>\n",
              "    </tr>\n",
              "  </tbody>\n",
              "</table>\n",
              "<p>891 rows × 1 columns</p>\n",
              "</div>"
            ],
            "text/plain": [
              "       0\n",
              "0    NaN\n",
              "1     71\n",
              "2    NaN\n",
              "3     53\n",
              "4    NaN\n",
              "..   ...\n",
              "886   13\n",
              "887   30\n",
              "888   23\n",
              "889   30\n",
              "890  NaN\n",
              "\n",
              "[891 rows x 1 columns]"
            ]
          },
          "metadata": {},
          "execution_count": 11
        }
      ]
    },
    {
      "cell_type": "code",
      "metadata": {
        "colab": {
          "base_uri": "https://localhost:8080/"
        },
        "id": "hY_BZKSRg3RG",
        "outputId": "626e1ccd-54f3-4edc-a4a3-4426cb2b1b67"
      },
      "source": [
        "ti['ticket'].sample(1)"
      ],
      "execution_count": 12,
      "outputs": [
        {
          "output_type": "execute_result",
          "data": {
            "text/plain": [
              "859    Ticket: Third; Price: $ 7.2292; Port: Cherbourg;\n",
              "Name: ticket, dtype: object"
            ]
          },
          "metadata": {},
          "execution_count": 12
        }
      ]
    },
    {
      "cell_type": "code",
      "metadata": {
        "colab": {
          "base_uri": "https://localhost:8080/"
        },
        "id": "l79Rit8Eg9oy",
        "outputId": "2cecca6f-54a7-4728-d180-f8a19ea1f4ff"
      },
      "source": [
        "ti['ticket'].sample(1)"
      ],
      "execution_count": 13,
      "outputs": [
        {
          "output_type": "execute_result",
          "data": {
            "text/plain": [
              "204    Ticket: Third; Price: $ 8.05; Port: Southampton;\n",
              "Name: ticket, dtype: object"
            ]
          },
          "metadata": {},
          "execution_count": 13
        }
      ]
    },
    {
      "cell_type": "code",
      "metadata": {
        "colab": {
          "base_uri": "https://localhost:8080/",
          "height": 143
        },
        "id": "t0b2Y4s7hSxI",
        "outputId": "c16de2e5-f295-4dc0-de6f-f65b6992bbd0"
      },
      "source": [
        "ti['ticket'].str.extract('(T........)').sample(3)\n"
      ],
      "execution_count": 14,
      "outputs": [
        {
          "output_type": "execute_result",
          "data": {
            "text/html": [
              "<div>\n",
              "<style scoped>\n",
              "    .dataframe tbody tr th:only-of-type {\n",
              "        vertical-align: middle;\n",
              "    }\n",
              "\n",
              "    .dataframe tbody tr th {\n",
              "        vertical-align: top;\n",
              "    }\n",
              "\n",
              "    .dataframe thead th {\n",
              "        text-align: right;\n",
              "    }\n",
              "</style>\n",
              "<table border=\"1\" class=\"dataframe\">\n",
              "  <thead>\n",
              "    <tr style=\"text-align: right;\">\n",
              "      <th></th>\n",
              "      <th>0</th>\n",
              "    </tr>\n",
              "  </thead>\n",
              "  <tbody>\n",
              "    <tr>\n",
              "      <th>796</th>\n",
              "      <td>Ticket: F</td>\n",
              "    </tr>\n",
              "    <tr>\n",
              "      <th>48</th>\n",
              "      <td>Ticket: T</td>\n",
              "    </tr>\n",
              "    <tr>\n",
              "      <th>523</th>\n",
              "      <td>Ticket: F</td>\n",
              "    </tr>\n",
              "  </tbody>\n",
              "</table>\n",
              "</div>"
            ],
            "text/plain": [
              "             0\n",
              "796  Ticket: F\n",
              "48   Ticket: T\n",
              "523  Ticket: F"
            ]
          },
          "metadata": {},
          "execution_count": 14
        }
      ]
    },
    {
      "cell_type": "code",
      "metadata": {
        "colab": {
          "base_uri": "https://localhost:8080/",
          "height": 143
        },
        "id": "PP-1nNeUhW55",
        "outputId": "effc2924-808c-4c43-fa1a-5e768a872dda"
      },
      "source": [
        "ti['ticket'].str.extract('(Price: [^0-9A-Za-z] ..)').sample(3)\n"
      ],
      "execution_count": 15,
      "outputs": [
        {
          "output_type": "execute_result",
          "data": {
            "text/html": [
              "<div>\n",
              "<style scoped>\n",
              "    .dataframe tbody tr th:only-of-type {\n",
              "        vertical-align: middle;\n",
              "    }\n",
              "\n",
              "    .dataframe tbody tr th {\n",
              "        vertical-align: top;\n",
              "    }\n",
              "\n",
              "    .dataframe thead th {\n",
              "        text-align: right;\n",
              "    }\n",
              "</style>\n",
              "<table border=\"1\" class=\"dataframe\">\n",
              "  <thead>\n",
              "    <tr style=\"text-align: right;\">\n",
              "      <th></th>\n",
              "      <th>0</th>\n",
              "    </tr>\n",
              "  </thead>\n",
              "  <tbody>\n",
              "    <tr>\n",
              "      <th>177</th>\n",
              "      <td>Price: $ 28</td>\n",
              "    </tr>\n",
              "    <tr>\n",
              "      <th>141</th>\n",
              "      <td>Price: $ 7.</td>\n",
              "    </tr>\n",
              "    <tr>\n",
              "      <th>875</th>\n",
              "      <td>Price: $ 7.</td>\n",
              "    </tr>\n",
              "  </tbody>\n",
              "</table>\n",
              "</div>"
            ],
            "text/plain": [
              "               0\n",
              "177  Price: $ 28\n",
              "141  Price: $ 7.\n",
              "875  Price: $ 7."
            ]
          },
          "metadata": {},
          "execution_count": 15
        }
      ]
    },
    {
      "cell_type": "code",
      "metadata": {
        "colab": {
          "base_uri": "https://localhost:8080/",
          "height": 143
        },
        "id": "9TnAzBxLhczP",
        "outputId": "3c9671ee-1dc9-42e5-fdf6-64f95e83df9a"
      },
      "source": [
        "ti['ticket'].str.extract('(Port: (Cherbourg|Southampton))').sample(3)\n"
      ],
      "execution_count": 16,
      "outputs": [
        {
          "output_type": "execute_result",
          "data": {
            "text/html": [
              "<div>\n",
              "<style scoped>\n",
              "    .dataframe tbody tr th:only-of-type {\n",
              "        vertical-align: middle;\n",
              "    }\n",
              "\n",
              "    .dataframe tbody tr th {\n",
              "        vertical-align: top;\n",
              "    }\n",
              "\n",
              "    .dataframe thead th {\n",
              "        text-align: right;\n",
              "    }\n",
              "</style>\n",
              "<table border=\"1\" class=\"dataframe\">\n",
              "  <thead>\n",
              "    <tr style=\"text-align: right;\">\n",
              "      <th></th>\n",
              "      <th>0</th>\n",
              "      <th>1</th>\n",
              "    </tr>\n",
              "  </thead>\n",
              "  <tbody>\n",
              "    <tr>\n",
              "      <th>851</th>\n",
              "      <td>Port: Southampton</td>\n",
              "      <td>Southampton</td>\n",
              "    </tr>\n",
              "    <tr>\n",
              "      <th>641</th>\n",
              "      <td>Port: Cherbourg</td>\n",
              "      <td>Cherbourg</td>\n",
              "    </tr>\n",
              "    <tr>\n",
              "      <th>692</th>\n",
              "      <td>Port: Southampton</td>\n",
              "      <td>Southampton</td>\n",
              "    </tr>\n",
              "  </tbody>\n",
              "</table>\n",
              "</div>"
            ],
            "text/plain": [
              "                     0            1\n",
              "851  Port: Southampton  Southampton\n",
              "641    Port: Cherbourg    Cherbourg\n",
              "692  Port: Southampton  Southampton"
            ]
          },
          "metadata": {},
          "execution_count": 16
        }
      ]
    },
    {
      "cell_type": "markdown",
      "metadata": {
        "id": "K-TXuf9whfK_"
      },
      "source": [
        "* repetitions\n",
        "    * optional `?`\n",
        "        * an optional number: `[0-9]?`\n",
        "    * one or more `+`\n",
        "        * one or more spaces: ` +`  \n",
        "    * optional, or more, `*`\n",
        "        * ` [0-9][0-9]?.[0-9]*`"
      ]
    },
    {
      "cell_type": "code",
      "metadata": {
        "colab": {
          "base_uri": "https://localhost:8080/",
          "height": 143
        },
        "id": "UqthDgqphpRF",
        "outputId": "bc49c529-54c3-4502-deb6-a0ad7794d5e1"
      },
      "source": [
        "ti['ticket'].str.extract('([0-9][0-9]?.[0-9]*)').sample(3)\n"
      ],
      "execution_count": 17,
      "outputs": [
        {
          "output_type": "execute_result",
          "data": {
            "text/html": [
              "<div>\n",
              "<style scoped>\n",
              "    .dataframe tbody tr th:only-of-type {\n",
              "        vertical-align: middle;\n",
              "    }\n",
              "\n",
              "    .dataframe tbody tr th {\n",
              "        vertical-align: top;\n",
              "    }\n",
              "\n",
              "    .dataframe thead th {\n",
              "        text-align: right;\n",
              "    }\n",
              "</style>\n",
              "<table border=\"1\" class=\"dataframe\">\n",
              "  <thead>\n",
              "    <tr style=\"text-align: right;\">\n",
              "      <th></th>\n",
              "      <th>0</th>\n",
              "    </tr>\n",
              "  </thead>\n",
              "  <tbody>\n",
              "    <tr>\n",
              "      <th>756</th>\n",
              "      <td>7.7958</td>\n",
              "    </tr>\n",
              "    <tr>\n",
              "      <th>305</th>\n",
              "      <td>151</td>\n",
              "    </tr>\n",
              "    <tr>\n",
              "      <th>501</th>\n",
              "      <td>7.75</td>\n",
              "    </tr>\n",
              "  </tbody>\n",
              "</table>\n",
              "</div>"
            ],
            "text/plain": [
              "          0\n",
              "756  7.7958\n",
              "305     151\n",
              "501    7.75"
            ]
          },
          "metadata": {},
          "execution_count": 17
        }
      ]
    },
    {
      "cell_type": "code",
      "metadata": {
        "colab": {
          "base_uri": "https://localhost:8080/",
          "height": 143
        },
        "id": "42ru2YL-hw75",
        "outputId": "3e15ad88-669f-4462-c6eb-08ad6e21de07"
      },
      "source": [
        "ti['ticket'].str.extract('(Ticket: [a-zA-Z]+)').sample(3)\n"
      ],
      "execution_count": 18,
      "outputs": [
        {
          "output_type": "execute_result",
          "data": {
            "text/html": [
              "<div>\n",
              "<style scoped>\n",
              "    .dataframe tbody tr th:only-of-type {\n",
              "        vertical-align: middle;\n",
              "    }\n",
              "\n",
              "    .dataframe tbody tr th {\n",
              "        vertical-align: top;\n",
              "    }\n",
              "\n",
              "    .dataframe thead th {\n",
              "        text-align: right;\n",
              "    }\n",
              "</style>\n",
              "<table border=\"1\" class=\"dataframe\">\n",
              "  <thead>\n",
              "    <tr style=\"text-align: right;\">\n",
              "      <th></th>\n",
              "      <th>0</th>\n",
              "    </tr>\n",
              "  </thead>\n",
              "  <tbody>\n",
              "    <tr>\n",
              "      <th>541</th>\n",
              "      <td>Ticket: Third</td>\n",
              "    </tr>\n",
              "    <tr>\n",
              "      <th>337</th>\n",
              "      <td>Ticket: First</td>\n",
              "    </tr>\n",
              "    <tr>\n",
              "      <th>403</th>\n",
              "      <td>Ticket: Third</td>\n",
              "    </tr>\n",
              "  </tbody>\n",
              "</table>\n",
              "</div>"
            ],
            "text/plain": [
              "                 0\n",
              "541  Ticket: Third\n",
              "337  Ticket: First\n",
              "403  Ticket: Third"
            ]
          },
          "metadata": {},
          "execution_count": 18
        }
      ]
    },
    {
      "cell_type": "code",
      "metadata": {
        "colab": {
          "base_uri": "https://localhost:8080/"
        },
        "id": "EkXjZIzGh3BE",
        "outputId": "a210f252-cb39-450d-d6e1-8714f07f4b4c"
      },
      "source": [
        "row = 0\n",
        "match = 1 # second match\n",
        "\n",
        "ti['ticket'].str.extractall('([a-zA-Z]+: [a-zA-Z]+)').loc[row, match]\n"
      ],
      "execution_count": 20,
      "outputs": [
        {
          "output_type": "execute_result",
          "data": {
            "text/plain": [
              "0    Port: Southampton\n",
              "Name: (0, 1), dtype: object"
            ]
          },
          "metadata": {},
          "execution_count": 20
        }
      ]
    },
    {
      "cell_type": "code",
      "metadata": {
        "colab": {
          "base_uri": "https://localhost:8080/",
          "height": 423
        },
        "id": "IO-wH7-_h_Cr",
        "outputId": "9e279e86-bedd-4ad5-aa31-f1b01a6a33ab"
      },
      "source": [
        "ti['ticket'].str.extract('([a-zA-Z]+tow?n)')"
      ],
      "execution_count": 21,
      "outputs": [
        {
          "output_type": "execute_result",
          "data": {
            "text/html": [
              "<div>\n",
              "<style scoped>\n",
              "    .dataframe tbody tr th:only-of-type {\n",
              "        vertical-align: middle;\n",
              "    }\n",
              "\n",
              "    .dataframe tbody tr th {\n",
              "        vertical-align: top;\n",
              "    }\n",
              "\n",
              "    .dataframe thead th {\n",
              "        text-align: right;\n",
              "    }\n",
              "</style>\n",
              "<table border=\"1\" class=\"dataframe\">\n",
              "  <thead>\n",
              "    <tr style=\"text-align: right;\">\n",
              "      <th></th>\n",
              "      <th>0</th>\n",
              "    </tr>\n",
              "  </thead>\n",
              "  <tbody>\n",
              "    <tr>\n",
              "      <th>0</th>\n",
              "      <td>Southampton</td>\n",
              "    </tr>\n",
              "    <tr>\n",
              "      <th>1</th>\n",
              "      <td>NaN</td>\n",
              "    </tr>\n",
              "    <tr>\n",
              "      <th>2</th>\n",
              "      <td>Southampton</td>\n",
              "    </tr>\n",
              "    <tr>\n",
              "      <th>3</th>\n",
              "      <td>Southampton</td>\n",
              "    </tr>\n",
              "    <tr>\n",
              "      <th>4</th>\n",
              "      <td>Southampton</td>\n",
              "    </tr>\n",
              "    <tr>\n",
              "      <th>...</th>\n",
              "      <td>...</td>\n",
              "    </tr>\n",
              "    <tr>\n",
              "      <th>886</th>\n",
              "      <td>Southampton</td>\n",
              "    </tr>\n",
              "    <tr>\n",
              "      <th>887</th>\n",
              "      <td>Southampton</td>\n",
              "    </tr>\n",
              "    <tr>\n",
              "      <th>888</th>\n",
              "      <td>Southampton</td>\n",
              "    </tr>\n",
              "    <tr>\n",
              "      <th>889</th>\n",
              "      <td>NaN</td>\n",
              "    </tr>\n",
              "    <tr>\n",
              "      <th>890</th>\n",
              "      <td>Queenstown</td>\n",
              "    </tr>\n",
              "  </tbody>\n",
              "</table>\n",
              "<p>891 rows × 1 columns</p>\n",
              "</div>"
            ],
            "text/plain": [
              "               0\n",
              "0    Southampton\n",
              "1            NaN\n",
              "2    Southampton\n",
              "3    Southampton\n",
              "4    Southampton\n",
              "..           ...\n",
              "886  Southampton\n",
              "887  Southampton\n",
              "888  Southampton\n",
              "889          NaN\n",
              "890   Queenstown\n",
              "\n",
              "[891 rows x 1 columns]"
            ]
          },
          "metadata": {},
          "execution_count": 21
        }
      ]
    },
    {
      "cell_type": "markdown",
      "metadata": {
        "id": "f6lPUai6iEAA"
      },
      "source": [
        "* EXTRA: \n",
        "    * escaping\n",
        "        * How do I say, literally, the `.` symbol?\n",
        "        * `\\.`"
      ]
    },
    {
      "cell_type": "code",
      "metadata": {
        "colab": {
          "base_uri": "https://localhost:8080/",
          "height": 112
        },
        "id": "uHVXGqKJiH7x",
        "outputId": "bb6d5298-d8d3-4de2-df08-6f847fad4718"
      },
      "source": [
        "ti['ticket'].str.extract('(\\$ [0-9]+\\.[0-9]+)').sample(2)\n"
      ],
      "execution_count": 22,
      "outputs": [
        {
          "output_type": "execute_result",
          "data": {
            "text/html": [
              "<div>\n",
              "<style scoped>\n",
              "    .dataframe tbody tr th:only-of-type {\n",
              "        vertical-align: middle;\n",
              "    }\n",
              "\n",
              "    .dataframe tbody tr th {\n",
              "        vertical-align: top;\n",
              "    }\n",
              "\n",
              "    .dataframe thead th {\n",
              "        text-align: right;\n",
              "    }\n",
              "</style>\n",
              "<table border=\"1\" class=\"dataframe\">\n",
              "  <thead>\n",
              "    <tr style=\"text-align: right;\">\n",
              "      <th></th>\n",
              "      <th>0</th>\n",
              "    </tr>\n",
              "  </thead>\n",
              "  <tbody>\n",
              "    <tr>\n",
              "      <th>385</th>\n",
              "      <td>$ 73.5</td>\n",
              "    </tr>\n",
              "    <tr>\n",
              "      <th>477</th>\n",
              "      <td>$ 7.0458</td>\n",
              "    </tr>\n",
              "  </tbody>\n",
              "</table>\n",
              "</div>"
            ],
            "text/plain": [
              "            0\n",
              "385    $ 73.5\n",
              "477  $ 7.0458"
            ]
          },
          "metadata": {},
          "execution_count": 22
        }
      ]
    },
    {
      "cell_type": "markdown",
      "metadata": {
        "id": "phTQ9E0YiM4M"
      },
      "source": [
        "* positional matching\n",
        "    * `^` means **at the beginning**\n",
        "    * `$` means **at the end**"
      ]
    },
    {
      "cell_type": "code",
      "metadata": {
        "colab": {
          "base_uri": "https://localhost:8080/",
          "height": 112
        },
        "id": "iIh6XuA3iRAj",
        "outputId": "b795dec2-b319-40ed-b186-0b153c4410ca"
      },
      "source": [
        "ti['ticket'].str.extractall('([a-zA-Z]+: [a-zA-Z]+;$)').sample(1)\n"
      ],
      "execution_count": 23,
      "outputs": [
        {
          "output_type": "execute_result",
          "data": {
            "text/html": [
              "<div>\n",
              "<style scoped>\n",
              "    .dataframe tbody tr th:only-of-type {\n",
              "        vertical-align: middle;\n",
              "    }\n",
              "\n",
              "    .dataframe tbody tr th {\n",
              "        vertical-align: top;\n",
              "    }\n",
              "\n",
              "    .dataframe thead th {\n",
              "        text-align: right;\n",
              "    }\n",
              "</style>\n",
              "<table border=\"1\" class=\"dataframe\">\n",
              "  <thead>\n",
              "    <tr style=\"text-align: right;\">\n",
              "      <th></th>\n",
              "      <th></th>\n",
              "      <th>0</th>\n",
              "    </tr>\n",
              "    <tr>\n",
              "      <th></th>\n",
              "      <th>match</th>\n",
              "      <th></th>\n",
              "    </tr>\n",
              "  </thead>\n",
              "  <tbody>\n",
              "    <tr>\n",
              "      <th>866</th>\n",
              "      <th>0</th>\n",
              "      <td>Port: Cherbourg;</td>\n",
              "    </tr>\n",
              "  </tbody>\n",
              "</table>\n",
              "</div>"
            ],
            "text/plain": [
              "                          0\n",
              "    match                  \n",
              "866 0      Port: Cherbourg;"
            ]
          },
          "metadata": {},
          "execution_count": 23
        }
      ]
    },
    {
      "cell_type": "code",
      "metadata": {
        "colab": {
          "base_uri": "https://localhost:8080/",
          "height": 112
        },
        "id": "Smfri_s9iW4j",
        "outputId": "cda76276-33ae-4301-b5f5-04bd620ba7d8"
      },
      "source": [
        "ti['ticket'].str.extractall('(^[a-zA-Z]+: [a-zA-Z]+;)').sample(1)\n"
      ],
      "execution_count": 24,
      "outputs": [
        {
          "output_type": "execute_result",
          "data": {
            "text/html": [
              "<div>\n",
              "<style scoped>\n",
              "    .dataframe tbody tr th:only-of-type {\n",
              "        vertical-align: middle;\n",
              "    }\n",
              "\n",
              "    .dataframe tbody tr th {\n",
              "        vertical-align: top;\n",
              "    }\n",
              "\n",
              "    .dataframe thead th {\n",
              "        text-align: right;\n",
              "    }\n",
              "</style>\n",
              "<table border=\"1\" class=\"dataframe\">\n",
              "  <thead>\n",
              "    <tr style=\"text-align: right;\">\n",
              "      <th></th>\n",
              "      <th></th>\n",
              "      <th>0</th>\n",
              "    </tr>\n",
              "    <tr>\n",
              "      <th></th>\n",
              "      <th>match</th>\n",
              "      <th></th>\n",
              "    </tr>\n",
              "  </thead>\n",
              "  <tbody>\n",
              "    <tr>\n",
              "      <th>258</th>\n",
              "      <th>0</th>\n",
              "      <td>Ticket: First;</td>\n",
              "    </tr>\n",
              "  </tbody>\n",
              "</table>\n",
              "</div>"
            ],
            "text/plain": [
              "                        0\n",
              "    match                \n",
              "258 0      Ticket: First;"
            ]
          },
          "metadata": {},
          "execution_count": 24
        }
      ]
    },
    {
      "cell_type": "markdown",
      "metadata": {
        "id": "aSb-LjddikEY"
      },
      "source": [
        "## Next Steps\n",
        "\n",
        "* review a \"Regex Cheat Sheet\"\n",
        "    * also, eg., https://en.wikipedia.org/wiki/Regular_expression#Examples\n"
      ]
    },
    {
      "cell_type": "markdown",
      "metadata": {
        "id": "HNe4Hq-ZipKM"
      },
      "source": [
        "## Exercise (30 min)\n",
        "\n",
        "* find all the words in the tickets \n",
        "    * HINT: a word is a repeated letter followed by a space or a colon\n",
        "    * HINT: `[ :]` means a space or a colon\n",
        "* find all the USD prices\n",
        "    * HINT: ``` \\$ ``` and repeated numbers \n",
        "    \n",
        "* find all the high-price tickets\n",
        "    * HINT: consider `\\$`, tripple-digit number, `\\.`\n"
      ]
    },
    {
      "cell_type": "code",
      "metadata": {
        "colab": {
          "base_uri": "https://localhost:8080/"
        },
        "id": "KMal7yeGi5Yv",
        "outputId": "3263bfd5-8aa4-4f0b-fc01-dcd39c9dd1c3"
      },
      "source": [
        "ti['ticket'].str.findall('([a-zA-Z]+[ :])').sample(10)\n"
      ],
      "execution_count": 25,
      "outputs": [
        {
          "output_type": "execute_result",
          "data": {
            "text/plain": [
              "360    [Ticket:, Price:, Port:]\n",
              "313    [Ticket:, Price:, Port:]\n",
              "609    [Ticket:, Price:, Port:]\n",
              "864    [Ticket:, Price:, Port:]\n",
              "688    [Ticket:, Price:, Port:]\n",
              "738    [Ticket:, Price:, Port:]\n",
              "366    [Ticket:, Price:, Port:]\n",
              "276    [Ticket:, Price:, Port:]\n",
              "745    [Ticket:, Price:, Port:]\n",
              "571    [Ticket:, Price:, Port:]\n",
              "Name: ticket, dtype: object"
            ]
          },
          "metadata": {},
          "execution_count": 25
        }
      ]
    },
    {
      "cell_type": "code",
      "metadata": {
        "colab": {
          "base_uri": "https://localhost:8080/",
          "height": 112
        },
        "id": "P35CZOo6i-nA",
        "outputId": "0be1a1ea-b9ca-433e-a2b7-ba1d8e330bf2"
      },
      "source": [
        "ti['ticket'].str.extract('(\\$ [0-9]+\\.[0-9]+)').sample(2)\n"
      ],
      "execution_count": 26,
      "outputs": [
        {
          "output_type": "execute_result",
          "data": {
            "text/html": [
              "<div>\n",
              "<style scoped>\n",
              "    .dataframe tbody tr th:only-of-type {\n",
              "        vertical-align: middle;\n",
              "    }\n",
              "\n",
              "    .dataframe tbody tr th {\n",
              "        vertical-align: top;\n",
              "    }\n",
              "\n",
              "    .dataframe thead th {\n",
              "        text-align: right;\n",
              "    }\n",
              "</style>\n",
              "<table border=\"1\" class=\"dataframe\">\n",
              "  <thead>\n",
              "    <tr style=\"text-align: right;\">\n",
              "      <th></th>\n",
              "      <th>0</th>\n",
              "    </tr>\n",
              "  </thead>\n",
              "  <tbody>\n",
              "    <tr>\n",
              "      <th>261</th>\n",
              "      <td>$ 31.3875</td>\n",
              "    </tr>\n",
              "    <tr>\n",
              "      <th>465</th>\n",
              "      <td>$ 7.05</td>\n",
              "    </tr>\n",
              "  </tbody>\n",
              "</table>\n",
              "</div>"
            ],
            "text/plain": [
              "             0\n",
              "261  $ 31.3875\n",
              "465     $ 7.05"
            ]
          },
          "metadata": {},
          "execution_count": 26
        }
      ]
    },
    {
      "cell_type": "code",
      "metadata": {
        "colab": {
          "base_uri": "https://localhost:8080/",
          "height": 1000
        },
        "id": "XJb3MiCQjFhY",
        "outputId": "58dea7ff-ff6f-4ec8-99dd-b9618179be7c"
      },
      "source": [
        "row = 0\n",
        "match = 1 # second match\n",
        "ti['ticket'].str.extractall('(\\$ [0-9][0-9][0-9]+\\.[0-9]+)')#.loc[row, 0]\n"
      ],
      "execution_count": 27,
      "outputs": [
        {
          "output_type": "execute_result",
          "data": {
            "text/html": [
              "<div>\n",
              "<style scoped>\n",
              "    .dataframe tbody tr th:only-of-type {\n",
              "        vertical-align: middle;\n",
              "    }\n",
              "\n",
              "    .dataframe tbody tr th {\n",
              "        vertical-align: top;\n",
              "    }\n",
              "\n",
              "    .dataframe thead th {\n",
              "        text-align: right;\n",
              "    }\n",
              "</style>\n",
              "<table border=\"1\" class=\"dataframe\">\n",
              "  <thead>\n",
              "    <tr style=\"text-align: right;\">\n",
              "      <th></th>\n",
              "      <th></th>\n",
              "      <th>0</th>\n",
              "    </tr>\n",
              "    <tr>\n",
              "      <th></th>\n",
              "      <th>match</th>\n",
              "      <th></th>\n",
              "    </tr>\n",
              "  </thead>\n",
              "  <tbody>\n",
              "    <tr>\n",
              "      <th>27</th>\n",
              "      <th>0</th>\n",
              "      <td>$ 263.0</td>\n",
              "    </tr>\n",
              "    <tr>\n",
              "      <th>31</th>\n",
              "      <th>0</th>\n",
              "      <td>$ 146.5208</td>\n",
              "    </tr>\n",
              "    <tr>\n",
              "      <th>88</th>\n",
              "      <th>0</th>\n",
              "      <td>$ 263.0</td>\n",
              "    </tr>\n",
              "    <tr>\n",
              "      <th>118</th>\n",
              "      <th>0</th>\n",
              "      <td>$ 247.5208</td>\n",
              "    </tr>\n",
              "    <tr>\n",
              "      <th>195</th>\n",
              "      <th>0</th>\n",
              "      <td>$ 146.5208</td>\n",
              "    </tr>\n",
              "    <tr>\n",
              "      <th>215</th>\n",
              "      <th>0</th>\n",
              "      <td>$ 113.275</td>\n",
              "    </tr>\n",
              "    <tr>\n",
              "      <th>258</th>\n",
              "      <th>0</th>\n",
              "      <td>$ 512.3292</td>\n",
              "    </tr>\n",
              "    <tr>\n",
              "      <th>268</th>\n",
              "      <th>0</th>\n",
              "      <td>$ 153.4625</td>\n",
              "    </tr>\n",
              "    <tr>\n",
              "      <th>269</th>\n",
              "      <th>0</th>\n",
              "      <td>$ 135.6333</td>\n",
              "    </tr>\n",
              "    <tr>\n",
              "      <th>297</th>\n",
              "      <th>0</th>\n",
              "      <td>$ 151.55</td>\n",
              "    </tr>\n",
              "    <tr>\n",
              "      <th>299</th>\n",
              "      <th>0</th>\n",
              "      <td>$ 247.5208</td>\n",
              "    </tr>\n",
              "    <tr>\n",
              "      <th>305</th>\n",
              "      <th>0</th>\n",
              "      <td>$ 151.55</td>\n",
              "    </tr>\n",
              "    <tr>\n",
              "      <th>306</th>\n",
              "      <th>0</th>\n",
              "      <td>$ 110.8833</td>\n",
              "    </tr>\n",
              "    <tr>\n",
              "      <th>307</th>\n",
              "      <th>0</th>\n",
              "      <td>$ 108.9</td>\n",
              "    </tr>\n",
              "    <tr>\n",
              "      <th>311</th>\n",
              "      <th>0</th>\n",
              "      <td>$ 262.375</td>\n",
              "    </tr>\n",
              "    <tr>\n",
              "      <th>318</th>\n",
              "      <th>0</th>\n",
              "      <td>$ 164.8667</td>\n",
              "    </tr>\n",
              "    <tr>\n",
              "      <th>319</th>\n",
              "      <th>0</th>\n",
              "      <td>$ 134.5</td>\n",
              "    </tr>\n",
              "    <tr>\n",
              "      <th>325</th>\n",
              "      <th>0</th>\n",
              "      <td>$ 135.6333</td>\n",
              "    </tr>\n",
              "    <tr>\n",
              "      <th>332</th>\n",
              "      <th>0</th>\n",
              "      <td>$ 153.4625</td>\n",
              "    </tr>\n",
              "    <tr>\n",
              "      <th>334</th>\n",
              "      <th>0</th>\n",
              "      <td>$ 133.65</td>\n",
              "    </tr>\n",
              "    <tr>\n",
              "      <th>337</th>\n",
              "      <th>0</th>\n",
              "      <td>$ 134.5</td>\n",
              "    </tr>\n",
              "    <tr>\n",
              "      <th>341</th>\n",
              "      <th>0</th>\n",
              "      <td>$ 263.0</td>\n",
              "    </tr>\n",
              "    <tr>\n",
              "      <th>373</th>\n",
              "      <th>0</th>\n",
              "      <td>$ 135.6333</td>\n",
              "    </tr>\n",
              "    <tr>\n",
              "      <th>377</th>\n",
              "      <th>0</th>\n",
              "      <td>$ 211.5</td>\n",
              "    </tr>\n",
              "    <tr>\n",
              "      <th>380</th>\n",
              "      <th>0</th>\n",
              "      <td>$ 227.525</td>\n",
              "    </tr>\n",
              "    <tr>\n",
              "      <th>390</th>\n",
              "      <th>0</th>\n",
              "      <td>$ 120.0</td>\n",
              "    </tr>\n",
              "    <tr>\n",
              "      <th>393</th>\n",
              "      <th>0</th>\n",
              "      <td>$ 113.275</td>\n",
              "    </tr>\n",
              "    <tr>\n",
              "      <th>435</th>\n",
              "      <th>0</th>\n",
              "      <td>$ 120.0</td>\n",
              "    </tr>\n",
              "    <tr>\n",
              "      <th>438</th>\n",
              "      <th>0</th>\n",
              "      <td>$ 263.0</td>\n",
              "    </tr>\n",
              "    <tr>\n",
              "      <th>498</th>\n",
              "      <th>0</th>\n",
              "      <td>$ 151.55</td>\n",
              "    </tr>\n",
              "    <tr>\n",
              "      <th>505</th>\n",
              "      <th>0</th>\n",
              "      <td>$ 108.9</td>\n",
              "    </tr>\n",
              "    <tr>\n",
              "      <th>527</th>\n",
              "      <th>0</th>\n",
              "      <td>$ 221.7792</td>\n",
              "    </tr>\n",
              "    <tr>\n",
              "      <th>537</th>\n",
              "      <th>0</th>\n",
              "      <td>$ 106.425</td>\n",
              "    </tr>\n",
              "    <tr>\n",
              "      <th>544</th>\n",
              "      <th>0</th>\n",
              "      <td>$ 106.425</td>\n",
              "    </tr>\n",
              "    <tr>\n",
              "      <th>550</th>\n",
              "      <th>0</th>\n",
              "      <td>$ 110.8833</td>\n",
              "    </tr>\n",
              "    <tr>\n",
              "      <th>557</th>\n",
              "      <th>0</th>\n",
              "      <td>$ 227.525</td>\n",
              "    </tr>\n",
              "    <tr>\n",
              "      <th>581</th>\n",
              "      <th>0</th>\n",
              "      <td>$ 110.8833</td>\n",
              "    </tr>\n",
              "    <tr>\n",
              "      <th>609</th>\n",
              "      <th>0</th>\n",
              "      <td>$ 153.4625</td>\n",
              "    </tr>\n",
              "    <tr>\n",
              "      <th>659</th>\n",
              "      <th>0</th>\n",
              "      <td>$ 113.275</td>\n",
              "    </tr>\n",
              "    <tr>\n",
              "      <th>660</th>\n",
              "      <th>0</th>\n",
              "      <td>$ 133.65</td>\n",
              "    </tr>\n",
              "    <tr>\n",
              "      <th>679</th>\n",
              "      <th>0</th>\n",
              "      <td>$ 512.3292</td>\n",
              "    </tr>\n",
              "    <tr>\n",
              "      <th>689</th>\n",
              "      <th>0</th>\n",
              "      <td>$ 211.3375</td>\n",
              "    </tr>\n",
              "    <tr>\n",
              "      <th>698</th>\n",
              "      <th>0</th>\n",
              "      <td>$ 110.8833</td>\n",
              "    </tr>\n",
              "    <tr>\n",
              "      <th>700</th>\n",
              "      <th>0</th>\n",
              "      <td>$ 227.525</td>\n",
              "    </tr>\n",
              "    <tr>\n",
              "      <th>708</th>\n",
              "      <th>0</th>\n",
              "      <td>$ 151.55</td>\n",
              "    </tr>\n",
              "    <tr>\n",
              "      <th>716</th>\n",
              "      <th>0</th>\n",
              "      <td>$ 227.525</td>\n",
              "    </tr>\n",
              "    <tr>\n",
              "      <th>730</th>\n",
              "      <th>0</th>\n",
              "      <td>$ 211.3375</td>\n",
              "    </tr>\n",
              "    <tr>\n",
              "      <th>737</th>\n",
              "      <th>0</th>\n",
              "      <td>$ 512.3292</td>\n",
              "    </tr>\n",
              "    <tr>\n",
              "      <th>742</th>\n",
              "      <th>0</th>\n",
              "      <td>$ 262.375</td>\n",
              "    </tr>\n",
              "    <tr>\n",
              "      <th>763</th>\n",
              "      <th>0</th>\n",
              "      <td>$ 120.0</td>\n",
              "    </tr>\n",
              "    <tr>\n",
              "      <th>779</th>\n",
              "      <th>0</th>\n",
              "      <td>$ 211.3375</td>\n",
              "    </tr>\n",
              "    <tr>\n",
              "      <th>802</th>\n",
              "      <th>0</th>\n",
              "      <td>$ 120.0</td>\n",
              "    </tr>\n",
              "    <tr>\n",
              "      <th>856</th>\n",
              "      <th>0</th>\n",
              "      <td>$ 164.8667</td>\n",
              "    </tr>\n",
              "  </tbody>\n",
              "</table>\n",
              "</div>"
            ],
            "text/plain": [
              "                    0\n",
              "    match            \n",
              "27  0         $ 263.0\n",
              "31  0      $ 146.5208\n",
              "88  0         $ 263.0\n",
              "118 0      $ 247.5208\n",
              "195 0      $ 146.5208\n",
              "215 0       $ 113.275\n",
              "258 0      $ 512.3292\n",
              "268 0      $ 153.4625\n",
              "269 0      $ 135.6333\n",
              "297 0        $ 151.55\n",
              "299 0      $ 247.5208\n",
              "305 0        $ 151.55\n",
              "306 0      $ 110.8833\n",
              "307 0         $ 108.9\n",
              "311 0       $ 262.375\n",
              "318 0      $ 164.8667\n",
              "319 0         $ 134.5\n",
              "325 0      $ 135.6333\n",
              "332 0      $ 153.4625\n",
              "334 0        $ 133.65\n",
              "337 0         $ 134.5\n",
              "341 0         $ 263.0\n",
              "373 0      $ 135.6333\n",
              "377 0         $ 211.5\n",
              "380 0       $ 227.525\n",
              "390 0         $ 120.0\n",
              "393 0       $ 113.275\n",
              "435 0         $ 120.0\n",
              "438 0         $ 263.0\n",
              "498 0        $ 151.55\n",
              "505 0         $ 108.9\n",
              "527 0      $ 221.7792\n",
              "537 0       $ 106.425\n",
              "544 0       $ 106.425\n",
              "550 0      $ 110.8833\n",
              "557 0       $ 227.525\n",
              "581 0      $ 110.8833\n",
              "609 0      $ 153.4625\n",
              "659 0       $ 113.275\n",
              "660 0        $ 133.65\n",
              "679 0      $ 512.3292\n",
              "689 0      $ 211.3375\n",
              "698 0      $ 110.8833\n",
              "700 0       $ 227.525\n",
              "708 0        $ 151.55\n",
              "716 0       $ 227.525\n",
              "730 0      $ 211.3375\n",
              "737 0      $ 512.3292\n",
              "742 0       $ 262.375\n",
              "763 0         $ 120.0\n",
              "779 0      $ 211.3375\n",
              "802 0         $ 120.0\n",
              "856 0      $ 164.8667"
            ]
          },
          "metadata": {},
          "execution_count": 27
        }
      ]
    }
  ]
}