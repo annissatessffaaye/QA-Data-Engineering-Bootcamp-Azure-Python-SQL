{
  "nbformat": 4,
  "nbformat_minor": 0,
  "metadata": {
    "colab": {
      "name": "Code First Girls Project 2.ipynb",
      "provenance": [],
      "collapsed_sections": [],
      "authorship_tag": "ABX9TyMkYlCm/uF7x1n0+eLuMQS5",
      "include_colab_link": true
    },
    "kernelspec": {
      "name": "python3",
      "display_name": "Python 3"
    },
    "language_info": {
      "name": "python"
    }
  },
  "cells": [
    {
      "cell_type": "markdown",
      "metadata": {
        "id": "view-in-github",
        "colab_type": "text"
      },
      "source": [
        "<a href=\"https://colab.research.google.com/github/annissatessffaaye/QAPython/blob/master/Code_First_Girls_Edemame_Recommendation.ipynb\" target=\"_parent\"><img src=\"https://colab.research.google.com/assets/colab-badge.svg\" alt=\"Open In Colab\"/></a>"
      ]
    },
    {
      "cell_type": "code",
      "metadata": {
        "id": "v3DOrpm9ejhQ",
        "colab": {
          "base_uri": "https://localhost:8080/"
        },
        "outputId": "a4351766-9c64-4fb9-a541-c6b45bc47fc5"
      },
      "source": [
        "import requests\n",
        "\n",
        "def recipe_search(ingredient):\n",
        "# Register to get an APP ID and key https://developer.edamam.com/\n",
        "    app_id = ''\n",
        "    app_key = ''\n",
        "    result = requests.get('https://api.edamam.com/search?q={}&app_id={}&app_key={}'.format(ingredient, app_id,\n",
        "\n",
        "    app_key)\n",
        ")\n",
        "    data = result.json()\n",
        "    return data['hits']\n",
        "\n",
        "def run():\n",
        "  ingredient = input('Enter an ingredient: ')\n",
        "  results = recipe_search(ingredient)\n",
        "  \n",
        "  for result in results:\n",
        "      recipe = result['recipe']\n",
        "  print(recipe['label'])\n",
        "  print(recipe['uri'])\n",
        "print()\n",
        "\n",
        "run()"
      ],
      "execution_count": null,
      "outputs": [
        {
          "output_type": "stream",
          "name": "stdout",
          "text": [
            "\n"
          ]
        }
      ]
    }
  ]
}